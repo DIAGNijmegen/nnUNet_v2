{
 "cells": [
  {
   "cell_type": "markdown",
   "id": "275b29fc",
   "metadata": {},
   "source": [
    "# BatchIterator"
   ]
  },
  {
   "cell_type": "code",
   "execution_count": 20,
   "id": "aab6bd99-1c8f-48e6-b328-d9211bd06ed0",
   "metadata": {},
   "outputs": [],
   "source": [
    "# !pip install git+https://github.com/DIAGNijmegen/pathology-whole-slide-data@main"
   ]
  },
  {
   "cell_type": "code",
   "execution_count": 21,
   "id": "bbaaee77",
   "metadata": {
    "tags": []
   },
   "outputs": [],
   "source": [
    "import os\n",
    "if os.name =='nt':\n",
    "    os.add_dll_directory(r\"C:\\Program Files\\openslide\\bin\") # windows\n",
    "from wholeslidedata.iterators import create_batch_iterator\n",
    "from wholeslidedata.visualization.plotting import plot_batch\n",
    "from dicfg.magics import ConfigMagics\n",
    "from wholeslidedata.samplers.callbacks import BatchCallback\n",
    "from wholeslidedata.samplers.utils import crop_data\n",
    "\n",
    "from batchgenerators.transforms.abstract_transforms import AbstractTransform, Compose\n",
    "from batchgenerators.transforms.color_transforms import BrightnessMultiplicativeTransform, \\\n",
    "    ContrastAugmentationTransform, GammaTransform\n",
    "from batchgenerators.transforms.noise_transforms import GaussianNoiseTransform, GaussianBlurTransform\n",
    "from batchgenerators.transforms.resample_transforms import SimulateLowResolutionTransform\n",
    "from batchgenerators.transforms.spatial_transforms import SpatialTransform, MirrorTransform\n",
    "from batchgenerators.transforms.utility_transforms import RemoveLabelTransform, RenameTransform, NumpyToTensor\n",
    "\n",
    "# This will allow loading yaml in an notebook cell\n",
    "ConfigMagics.register_magics()\n",
    "\n",
    "import matplotlib.pyplot as plt\n",
    "\n",
    "import numpy as np\n",
    "\n",
    "from multiprocessing import freeze_support\n",
    "\n",
    "import time"
   ]
  },
  {
   "cell_type": "code",
   "execution_count": 22,
   "id": "ead93cdc-fab4-4de6-ada1-3b59900b593e",
   "metadata": {},
   "outputs": [],
   "source": [
    "# pip3 install -e /data/pathology/projects/pathology-lung-TIL/nnUNet_v2\n",
    "from nnunetv2.training.data_augmentation.custom_transforms.pathology_transforms import HedTransform, HsvTransform, Clip01"
   ]
  },
  {
   "cell_type": "code",
   "execution_count": 23,
   "id": "48aab9a5-1294-42cd-8620-8b9c5ea1f717",
   "metadata": {},
   "outputs": [],
   "source": [
    "from wholeslidedata.iterators.batchiterator import BatchIterator\n",
    "\n",
    "# class WholeSlidePlainnnUnetBatchIterator(BatchIterator):\n",
    "#     def __next__(self):\n",
    "#         x_batch, y_batch, _ = super().__next__()\n",
    "#         x_batch = x_batch.transpose(0,3,1,2).astype('float32')#/255\n",
    "#         y_batch = y_batch.astype('int16')\n",
    "#         return {'data': x_batch, 'seg': y_batch}"
   ]
  },
  {
   "cell_type": "code",
   "execution_count": 63,
   "id": "39c9a8e6-2845-4c60-be68-60eb69f5e29f",
   "metadata": {},
   "outputs": [],
   "source": [
    "import torch"
   ]
  },
  {
   "cell_type": "code",
   "execution_count": 86,
   "id": "76a22aa9-a46b-473e-ae46-8edc23445ede",
   "metadata": {},
   "outputs": [],
   "source": [
    "class WholeSlidePlainnnUnetBatchIterator(BatchIterator):\n",
    "    def __next__(self):\n",
    "        x_batch, y_batch, *extras, _ = super().__next__()\n",
    "        x_batch = crop_data(x_batch, [512, 512])\n",
    "        y_batch = crop_data(np.expand_dims(y_batch, -1), [512, 512]).squeeze()\n",
    "        print(self.patch_size)\n",
    "\n",
    "        data = torch.FloatTensor(x_batch.transpose(0,3,1,2) /255.).to(device)\n",
    "        target = [torch.FloatTensor(np.expand_dims(y_batch, 1)).to(device)] + [\n",
    "            torch.FloatTensor(np.expand_dims(extra, 1)).to(device) \n",
    "            for extra in extras]         \n",
    "        return {'data': data, 'target': target}"
   ]
  },
  {
   "cell_type": "code",
   "execution_count": 127,
   "id": "2a2d21fd-7d2d-4922-a034-e75da1e2e83c",
   "metadata": {},
   "outputs": [],
   "source": [
    "class Check(AbstractTransform):\n",
    "    def __init__(self, data_key=\"data\", label_key=\"seg\", property_key=\"properties\", p_per_sample=1, string=''):\n",
    "        self.data_key = data_key\n",
    "        self.label_key = label_key\n",
    "        self.property_key = property_key\n",
    "        self.string = string\n",
    "    def __call__(self, **data_dict):\n",
    "        data = data_dict.get(self.data_key)\n",
    "        print(np.min(data), np.max(data))\n",
    "        print(data.dtype)\n",
    "        # seg = data_dict.get(self.label_key)\n",
    "        # props = data_dict.get(self.property_key)\n",
    "        if self.string:\n",
    "            print(self.string)\n",
    "        # print('\\n\\n\\nPROPERTIES BEFORE TRANSFORMS', props, '\\n\\n\\n')\n",
    "        return data_dict\n",
    "###"
   ]
  },
  {
   "cell_type": "code",
   "execution_count": 128,
   "id": "49ab1d36-65ed-4495-b5e0-8390f6dca689",
   "metadata": {
    "tags": []
   },
   "outputs": [],
   "source": [
    "class nnUnetBatchCallback(BatchCallback):\n",
    "    \n",
    "    # patch_size_spatial (width/height)\n",
    "    def __init__(self, patch_size_spatial, check=False):\n",
    "        tr_transforms = []\n",
    "        rotation_for_DA= {'x': (-3.141592653589793, 3.141592653589793), 'y': (0, 0), 'z': (0, 0)}\n",
    "        \n",
    "        if check:\n",
    "            tr_transforms.append(Check())\n",
    "        \n",
    "        tr_transforms.append(SpatialTransform(\n",
    "            patch_size_spatial, \n",
    "            patch_center_dist_from_border=None,\n",
    "            do_elastic_deform=False,\n",
    "            alpha=(0, 0),\n",
    "            sigma=(0, 0),\n",
    "            do_rotation=True,\n",
    "            angle_x=rotation_for_DA['x'],\n",
    "            angle_y=rotation_for_DA['y'],\n",
    "            angle_z=rotation_for_DA['z'],\n",
    "            p_rot_per_axis=1,  # todo experiment with this\n",
    "            do_scale=True,\n",
    "            scale=(0.7, 1.4),\n",
    "            border_mode_data=\"constant\",\n",
    "            border_cval_data=0,\n",
    "            order_data=3,\n",
    "            border_mode_seg=\"constant\",\n",
    "            border_cval_seg=-1,\n",
    "            order_seg=1,\n",
    "            random_crop=False,  # random cropping is part of our dataloaders\n",
    "            p_el_per_sample=0,\n",
    "            p_scale_per_sample=0.2,\n",
    "            p_rot_per_sample=0.2,\n",
    "            independent_scale_for_each_axis=False  # todo experiment with this\n",
    "        ))\n",
    "\n",
    "        if check:\n",
    "            tr_transforms.append(Check(string='^ spatial'))\n",
    "        \n",
    "        ####\n",
    "        if True: #do_hed:\n",
    "            tr_transforms.append(HedTransform(factor=0.05))\n",
    "        # if True: #do_hsv:\n",
    "        #     tr_transforms.append(HsvTransform(h_lim=0.10, s_lim=0.10, v_lim=0.10))\n",
    "        ####\n",
    "        \n",
    "        tr_transforms.append(GaussianNoiseTransform(p_per_sample=0.1))\n",
    "        \n",
    "        if check:\n",
    "            tr_transforms.append(Check())\n",
    "        \n",
    "        tr_transforms.append(GaussianBlurTransform((0.5, 1.), different_sigma_per_channel=True, p_per_sample=0.2,\n",
    "                                                   p_per_channel=0.5))\n",
    "        \n",
    "        if check:\n",
    "            tr_transforms.append(Check(string='^ gauss noise and blur'))\n",
    "        \n",
    "        tr_transforms.append(BrightnessMultiplicativeTransform(multiplier_range=(0.75, 1.25), p_per_sample=0.15))\n",
    "        \n",
    "        if check:\n",
    "            tr_transforms.append(Check(string='^ bright'))\n",
    "        \n",
    "        \n",
    "        \n",
    "        tr_transforms.append(ContrastAugmentationTransform(p_per_sample=0.15))\n",
    "        \n",
    "        if check:\n",
    "            tr_transforms.append(Check(string='^ cont'))\n",
    "            \n",
    "        tr_transforms.append(SimulateLowResolutionTransform(zoom_range=(0.5, 1), per_channel=True,\n",
    "                                                            p_per_channel=0.5,\n",
    "                                                            order_downsample=0, order_upsample=3, p_per_sample=0.25,\n",
    "                                                            ignore_axes=None))\n",
    "        \n",
    "        if check:\n",
    "            tr_transforms.append(Check(string='^ res'))\n",
    "            \n",
    "        tr_transforms.append(GammaTransform((0.7, 1.5), True, True, retain_stats=True, p_per_sample=0.1))\n",
    "        \n",
    "        if check:\n",
    "            tr_transforms.append(Check())\n",
    "            \n",
    "        tr_transforms.append(GammaTransform((0.7, 1.5), False, True, retain_stats=True, p_per_sample=0.3))\n",
    "        \n",
    "        if check:\n",
    "            tr_transforms.append(Check(string='^ gamm'))\n",
    "        \n",
    "        tr_transforms.append(Clip01())\n",
    "        \n",
    "        tr_transforms.append(MirrorTransform((0,1)))\n",
    "        \n",
    "        if check:\n",
    "            tr_transforms.append(Check())\n",
    "            \n",
    "        tr_transforms.append(RemoveLabelTransform(-1, 0))\n",
    "        \n",
    "        if check:\n",
    "            tr_transforms.append(Check(string='^ mir, rem lab'))\n",
    "            \n",
    "        tr_transforms.append(RenameTransform('seg', 'target', True))\n",
    "        \n",
    "        \n",
    "        self._transforms = Compose(tr_transforms)\n",
    "    \n",
    "    def __call__(self, x_batch, y_batch):\n",
    "        # format to nnUNet\n",
    "        x_batch = np.stack([x/255  for x in x_batch]).transpose((0, 3, 1, 2)).astype('float32')\n",
    "        y_batch = np.expand_dims(np.stack(y_batch).astype('int8'), 1)\n",
    "        \n",
    "        # transform\n",
    "        batch = self._transforms(**{'data': x_batch, 'seg': y_batch})\n",
    "        \n",
    "        # format back to wsd\n",
    "        x_batch, y_batch = batch['data'], batch['target']\n",
    "        x_batch = np.multiply(x_batch, 255).astype(np.uint8)\n",
    "        return x_batch.transpose((0, 2, 3, 1)), y_batch.squeeze()"
   ]
  },
  {
   "cell_type": "code",
   "execution_count": 131,
   "id": "a8c5dde3-cd1f-4c70-b663-b01a9cea0e58",
   "metadata": {},
   "outputs": [],
   "source": [
    "#     def get_validation_transforms(deep_supervision_scales: Union[List, Tuple],\n",
    "#                                   is_cascaded: bool = False,\n",
    "#                                   foreground_labels: Union[Tuple[int, ...], List[int]] = None,\n",
    "#                                   regions: List[Union[List[int], Tuple[int, ...], int]] = None,\n",
    "#                                   ignore_label: int = None) -> AbstractTransform:\n",
    "#         val_transforms = []\n",
    "#         val_transforms.append(RemoveLabelTransform(-1, 0))\n",
    "\n",
    "#         if is_cascaded:\n",
    "#             val_transforms.append(MoveSegAsOneHotToData(1, foreground_labels, 'seg', 'data'))\n",
    "\n",
    "#         val_transforms.append(RenameTransform('seg', 'target', True))\n",
    "\n",
    "#         if regions is not None:\n",
    "#             # the ignore label must also be converted\n",
    "#             val_transforms.append(ConvertSegmentationToRegionsTransform(list(regions) + [ignore_label]\n",
    "#                                                                         if ignore_label is not None else regions,\n",
    "#                                                                         'target', 'target'))\n",
    "\n",
    "#         if deep_supervision_scales is not None:\n",
    "#             val_transforms.append(DownsampleSegForDSTransform2(deep_supervision_scales, 0, input_key='target',\n",
    "#                                                                output_key='target'))\n",
    "\n",
    "#         val_transforms.append(NumpyToTensor(['data', 'target'], 'float'))\n",
    "#         val_transforms = Compose(val_transforms)\n",
    "#         return val_transforms"
   ]
  },
  {
   "cell_type": "code",
   "execution_count": 132,
   "id": "2de6eff2-f45a-4792-aa50-e89bcbfd09ec",
   "metadata": {
    "tags": []
   },
   "outputs": [],
   "source": [
    "# "
   ]
  },
  {
   "cell_type": "markdown",
   "id": "76f78750",
   "metadata": {},
   "source": [
    ":::{seealso}\n",
    " - For more information about the **mode**, please see the user guide about [modes](./modes)\n",
    " - For an explanation about the **user_config** please see the [batchiterator configuration](/userguide/index.html#batchiterator-configuration)\n",
    ":::"
   ]
  },
  {
   "cell_type": "code",
   "execution_count": 133,
   "id": "cba12092-b69f-4a08-b01d-d18debbae681",
   "metadata": {},
   "outputs": [
    {
     "data": {
      "text/plain": [
       "[512, 512]"
      ]
     },
     "execution_count": 133,
     "metadata": {},
     "output_type": "execute_result"
    }
   ],
   "source": [
    "patch_size"
   ]
  },
  {
   "cell_type": "code",
   "execution_count": 134,
   "id": "d655db15-5fec-49ca-859a-649de3074305",
   "metadata": {
    "tags": []
   },
   "outputs": [],
   "source": [
    "%matplotlib inline"
   ]
  },
  {
   "cell_type": "code",
   "execution_count": 135,
   "id": "7497514d",
   "metadata": {
    "tags": []
   },
   "outputs": [],
   "source": [
    "# %%yaml user_config \n",
    "\n",
    "# wholeslidedata:\n",
    "#     default:\n",
    "#         yaml_source:\n",
    "#             training:\n",
    "#             -   wsi: \n",
    "#                     path: C:\\Users\\joeyspronck\\Documents\\Other\\wsirois\\wsi-level-annotations\\images\\100B.tif\n",
    "#                 wsa: \n",
    "#                     path: C:\\Users\\joeyspronck\\Documents\\Other\\wsirois\\wsi-level-annotations\\annotations-tissue-cells-xmls\\100B.xml\n",
    "                        \n",
    "#         labels:\n",
    "#             invasive tumor: 1\n",
    "#             tumor-associated stroma: 2\n",
    "#             in-situ tumor: 3\n",
    "#             healthy glands: 4\n",
    "#             necrosis not in-situ: 5\n",
    "#             inflamed stroma: 6\n",
    "#             rest: 7\n",
    "            \n",
    "#         batch_shape:\n",
    "#             batch_size: 2\n",
    "#             spacing: 1.0\n",
    "#             shape: [512, 512, 3]\n",
    "            \n",
    "#         batch_callbacks: \n",
    "#             - \"*object\": __main__.NNUnetBatchCallback\n",
    "#               patch_size_spatial: [512,512]"
   ]
  },
  {
   "cell_type": "code",
   "execution_count": 136,
   "id": "0f070a19-480c-4a20-8479-891c1df84602",
   "metadata": {},
   "outputs": [],
   "source": [
    "patch_size = [512, 512]\n",
    "batch_size = 2\n",
    "sample_double = True\n",
    "\n",
    "ds_scales = [[1.0, 1.0], [0.5, 0.5], [0.25, 0.25], [0.125, 0.125], [0.0625, 0.0625], [0.03125, 0.03125], [0.015625, 0.015625]]\n",
    "ds_shapes = [list(np.round([int(i * j) for i, j in zip(patch_size, k)])) for k in ds_scales]\n",
    "\n",
    "if sample_double:\n",
    "    ds_sizes = [[shape*2 for shape in ds_shape] for ds_shape in ds_shapes]\n",
    "    extra_ds_sizes = ds_sizes[1:]\n",
    "    ds_shapes = tuple([tuple([batch_size]+[shape*2 for shape in ds_shape]) for ds_shape in ds_shapes])\n",
    "    extra_ds_shapes = ds_shapes[1:]\n",
    "else:\n",
    "    ds_sizes = [ds_shape for ds_shape in ds_shapes]\n",
    "    extra_ds_sizes = ds_sizes[1:]\n",
    "    ds_shapes = tuple([tuple([batch_size]+ds_shape) for ds_shape in ds_shapes])\n",
    "    extra_ds_shapes = ds_shapes[1:]\n"
   ]
  },
  {
   "cell_type": "code",
   "execution_count": 137,
   "id": "01a4bd89-ce33-4186-877b-37c2489d1ab3",
   "metadata": {},
   "outputs": [
    {
     "data": {
      "text/plain": [
       "([[1024, 1024],\n",
       "  [512, 512],\n",
       "  [256, 256],\n",
       "  [128, 128],\n",
       "  [64, 64],\n",
       "  [32, 32],\n",
       "  [16, 16]],\n",
       " ((2, 1024, 1024),\n",
       "  (2, 512, 512),\n",
       "  (2, 256, 256),\n",
       "  (2, 128, 128),\n",
       "  (2, 64, 64),\n",
       "  (2, 32, 32),\n",
       "  (2, 16, 16)))"
      ]
     },
     "execution_count": 137,
     "metadata": {},
     "output_type": "execute_result"
    }
   ],
   "source": [
    "ds_sizes, ds_shapes"
   ]
  },
  {
   "cell_type": "code",
   "execution_count": 138,
   "id": "5d567df3-4652-46cb-91db-1961d3a8c18a",
   "metadata": {},
   "outputs": [
    {
     "data": {
      "text/plain": [
       "[[512, 512], [256, 256], [128, 128], [64, 64], [32, 32], [16, 16]]"
      ]
     },
     "execution_count": 138,
     "metadata": {},
     "output_type": "execute_result"
    }
   ],
   "source": [
    "extra_ds_sizes"
   ]
  },
  {
   "cell_type": "code",
   "execution_count": 177,
   "id": "4229952a-7099-4d8a-bff1-45da7561b62d",
   "metadata": {
    "tags": []
   },
   "outputs": [],
   "source": [
    "%%yaml user_config \n",
    "\n",
    "wholeslidedata:\n",
    "    default:\n",
    "        backend: \n",
    "            'asap'\n",
    "        \n",
    "        yaml_source:\n",
    "            training:\n",
    "            -   wsi: \n",
    "                    path: /data/pathology/projects/tiger/new_structure/training/wsirois/wsi-level-annotations/images/100B.tif\n",
    "                wsa: \n",
    "                    path: /data/pathology/projects/tiger/new_structure/training/wsirois/wsi-level-annotations/annotations-tissue-cells-xmls/100B.xml\n",
    "                        \n",
    "        labels:\n",
    "            invasive tumor: 1\n",
    "            tumor-associated stroma: 2\n",
    "            in-situ tumor: 3\n",
    "            healthy glands: 4\n",
    "            necrosis not in-situ: 5\n",
    "            inflamed stroma: 6\n",
    "            rest: 7\n",
    "            \n",
    "        batch_shape:\n",
    "            batch_size: 2\n",
    "            spacing: 1.0\n",
    "            shape: [1024, 1024, 3]\n",
    "            \n",
    "        batch_callbacks: \n",
    "            # - \"*object\": __main__.NormalizeSampleCallback\n",
    "            - \"*object\": __main__.nnUnetBatchCallback\n",
    "              patch_size_spatial: [1024,1024]\n",
    "            - \"*object\": wholeslidedata.samplers.callbacks.DeepSupervisionBatchCallback\n",
    "              sizes: [[512, 512], [256, 256], [128, 128], [64, 64], [32, 32], [16, 16]]\n",
    "                \n"
   ]
  },
  {
   "cell_type": "code",
   "execution_count": 178,
   "id": "e8f3611c-08a8-4cd5-98e0-49c8a4f07d78",
   "metadata": {},
   "outputs": [
    {
     "data": {
      "text/plain": [
       "{'wholeslidedata': {'default': {'backend': 'asap',\n",
       "   'yaml_source': {'training': [{'wsi': {'path': '/data/pathology/projects/tiger/new_structure/training/wsirois/wsi-level-annotations/images/100B.tif'},\n",
       "      'wsa': {'path': '/data/pathology/projects/tiger/new_structure/training/wsirois/wsi-level-annotations/annotations-tissue-cells-xmls/100B.xml'}}]},\n",
       "   'labels': {'invasive tumor': 1,\n",
       "    'tumor-associated stroma': 2,\n",
       "    'in-situ tumor': 3,\n",
       "    'healthy glands': 4,\n",
       "    'necrosis not in-situ': 5,\n",
       "    'inflamed stroma': 6,\n",
       "    'rest': 7},\n",
       "   'batch_shape': {'batch_size': 2, 'spacing': 1.0, 'shape': [1024, 1024, 3]},\n",
       "   'batch_callbacks': [{'*object': '__main__.nnUnetBatchCallback',\n",
       "     'patch_size_spatial': [1024, 1024]},\n",
       "    {'*object': 'wholeslidedata.samplers.callbacks.DeepSupervisionBatchCallback',\n",
       "     'sizes': [[512, 512],\n",
       "      [256, 256],\n",
       "      [128, 128],\n",
       "      [64, 64],\n",
       "      [32, 32],\n",
       "      [16, 16]]}]}}}"
      ]
     },
     "execution_count": 178,
     "metadata": {},
     "output_type": "execute_result"
    }
   ],
   "source": [
    "user_config"
   ]
  },
  {
   "cell_type": "code",
   "execution_count": 89,
   "id": "7641ed12-4c37-4f68-9a46-22a6c49e55b0",
   "metadata": {},
   "outputs": [],
   "source": [
    "# from wholeslidedata.iterators.batchiterator import BatchIterator\n",
    "\n",
    "# class WholeSlidePlainnnUnetBatchIterator(BatchIterator):\n",
    "#     def __next__(self):\n",
    "#         x_batch, y_batch, *extras, _ = super().__next__()\n",
    "#         data = x_batch.transpose(0,3,1,2).astype('float32')\n",
    "#         target = [np.expand_dims(y_batch, 1).astype('int16')] + [np.expand_dims(extra, 1).astype('int16') for extra in extras]         \n",
    "#         return {'data': data, 'target': target}"
   ]
  },
  {
   "cell_type": "code",
   "execution_count": 90,
   "id": "8c96d4ab-031c-44e6-9055-3f8638efb6c9",
   "metadata": {
    "tags": []
   },
   "outputs": [],
   "source": [
    "# #need to run the config cell again to correctly set new seed\n",
    "# seed = int(str(time.time())[-3:])\n",
    "# print(seed)\n",
    "# user_config['wholeslidedata']['default']['seed']=seed\n",
    "# with create_batch_iterator(user_config=user_config, \n",
    "#                            context='spawn' if os.name=='nt' else 'fork',\n",
    "#                            mode='training',\n",
    "#                            buffer_dtype=np.uint8,\n",
    "#                            extras_shapes=extra_ds_shapes\n",
    "#                            # iterator_class=WholeSlidePlainnnUnetBatchIterator\n",
    "#                           ) as training_batch_generator:\n",
    "#     for i in range(5):\n",
    "#         x_batch, y_batch, *extras, _  =  next(training_batch_generator)\n",
    "#         # break\n",
    "#         # break\n",
    "#         batch = x_batch, y_batch\n",
    "#         print(i)\n",
    "#         plot_batch(batch[0], batch[1])\n",
    "#         cropped_batch = [crop_data(batch[0], [512, 512]), crop_data(np.expand_dims(batch[1], -1), [512, 512]).squeeze()]\n",
    "#         plot_batch(cropped_batch[0], cropped_batch[1])\n",
    "#         for extra in extras:\n",
    "#             cropped_extra = crop_data(np.expand_dims(extra, -1), [shape//2 for shape in extra.shape[-2:]]).squeeze()\n",
    "#             print(extra.shape, cropped_extra.shape)"
   ]
  },
  {
   "cell_type": "code",
   "execution_count": 121,
   "id": "616dc3cd-81e4-4386-8bae-4532dc0a40a7",
   "metadata": {},
   "outputs": [],
   "source": [
    "def half_crop(data):\n",
    "    cropx = (data.shape[1] - data.shape[1]//2) // 2\n",
    "    cropy = (data.shape[2] - data.shape[2]//2) // 2\n",
    "    if len(data.shape) == 3:\n",
    "        return data[:, cropx:-cropx, cropy:-cropy]\n",
    "    if len(data.shape) == 4:\n",
    "        return data[:, cropx:-cropx, cropy:-cropy, :]"
   ]
  },
  {
   "cell_type": "code",
   "execution_count": 101,
   "id": "eb2990d3-2f11-420f-a94a-13807983d2f4",
   "metadata": {},
   "outputs": [
    {
     "name": "stdout",
     "output_type": "stream",
     "text": [
      "-255 256\n"
     ]
    },
    {
     "data": {
      "text/plain": [
       "(2, 512, 512, 3)"
      ]
     },
     "execution_count": 101,
     "metadata": {},
     "output_type": "execute_result"
    }
   ],
   "source": [
    "crop_data(x_batch, [512, 512]).shape"
   ]
  },
  {
   "cell_type": "code",
   "execution_count": 188,
   "id": "e785f35e-1034-4f90-a10b-6d087d011933",
   "metadata": {},
   "outputs": [
    {
     "name": "stdout",
     "output_type": "stream",
     "text": [
      "GPU Memory Size: 11.55 GB\n"
     ]
    }
   ],
   "source": [
    "if torch.cuda.is_available():\n",
    "    # Get the default CUDA device\n",
    "    device = torch.cuda.current_device()\n",
    "\n",
    "    # Get the GPU properties\n",
    "    gpu_properties = torch.cuda.get_device_properties(device)\n",
    "\n",
    "    # Retrieve the GPU memory size in bytes\n",
    "    gpu_memory_bytes = gpu_properties.total_memory\n",
    "\n",
    "    # Convert bytes to gigabytes\n",
    "    gpu_memory_gb = gpu_memory_bytes / 1e9\n",
    "\n",
    "    print(f\"GPU Memory Size: {gpu_memory_gb:.2f} GB\")\n",
    "else:\n",
    "    print(\"No GPU available.\")"
   ]
  },
  {
   "cell_type": "code",
   "execution_count": 196,
   "id": "e548eed8-4c5a-4e12-8fd5-94c842270557",
   "metadata": {},
   "outputs": [
    {
     "data": {
      "text/plain": [
       "11"
      ]
     },
     "execution_count": 196,
     "metadata": {},
     "output_type": "execute_result"
    }
   ],
   "source": [
    "int(11.9)"
   ]
  },
  {
   "cell_type": "code",
   "execution_count": 189,
   "id": "bd3ebe5f-b7a8-4949-bc95-9169d0a963ed",
   "metadata": {},
   "outputs": [
    {
     "name": "stdout",
     "output_type": "stream",
     "text": [
      "Number of CPUs: 88\n"
     ]
    }
   ],
   "source": [
    "import multiprocessing\n",
    "\n",
    "cpu_count = multiprocessing.cpu_count()\n",
    "print(f\"Number of CPUs: {cpu_count}\")"
   ]
  },
  {
   "cell_type": "code",
   "execution_count": 194,
   "id": "6cb58389-12ee-49c5-a2bf-0cc260f81bb4",
   "metadata": {},
   "outputs": [],
   "source": [
    "def get_cpu_limit():\n",
    "    with open(\"/sys/fs/cgroup/cpu/cpu.cfs_quota_us\") as fp:\n",
    "        cfs_quota_us = int(fp.read())\n",
    "    with open(\"/sys/fs/cgroup/cpu/cpu.cfs_period_us\") as fp:\n",
    "        cfs_period_us = int(fp.read())\n",
    "    container_cpus = cfs_quota_us // cfs_period_us\n",
    "    # For physical machine, the `cfs_quota_us` could be '-1'\n",
    "    cpus = cpu_count() if container_cpus < 1 else container_cpus\n",
    "    return cpus"
   ]
  },
  {
   "cell_type": "code",
   "execution_count": null,
   "id": "463d95c0-040f-4349-b2e4-1f0464fc267b",
   "metadata": {},
   "outputs": [],
   "source": []
  },
  {
   "cell_type": "code",
   "execution_count": 195,
   "id": "aeba50f3-60ff-4c43-8501-06dd5cea5680",
   "metadata": {},
   "outputs": [
    {
     "data": {
      "text/plain": [
       "8"
      ]
     },
     "execution_count": 195,
     "metadata": {},
     "output_type": "execute_result"
    }
   ],
   "source": [
    "get_cpu_limit()"
   ]
  },
  {
   "cell_type": "code",
   "execution_count": 96,
   "id": "b7a7ba6c-4939-415a-9585-e7b5e9180b34",
   "metadata": {},
   "outputs": [
    {
     "data": {
      "text/plain": [
       "(2, 1024, 1024, 3)"
      ]
     },
     "execution_count": 96,
     "metadata": {},
     "output_type": "execute_result"
    }
   ],
   "source": [
    "data = x_batch\n",
    "data.shape"
   ]
  },
  {
   "cell_type": "code",
   "execution_count": 190,
   "id": "58b04225-2895-41ba-a2a3-183d4b5ad8ec",
   "metadata": {},
   "outputs": [
    {
     "name": "stdout",
     "output_type": "stream",
     "text": [
      "GPU Memory Size: 11.55 GB\n"
     ]
    }
   ],
   "source": [
    "import torch\n",
    "\n",
    "# Check if CUDA is available\n",
    "if torch.cuda.is_available():\n",
    "    # Get the default CUDA device\n",
    "    device = torch.cuda.current_device()\n",
    "\n",
    "    # Get the GPU properties\n",
    "    gpu_properties = torch.cuda.get_device_properties(device)\n",
    "\n",
    "    # Retrieve the GPU memory size in bytes\n",
    "    gpu_memory_bytes = gpu_properties.total_memory\n",
    "\n",
    "    # Convert bytes to gigabytes\n",
    "    gpu_memory_gb = gpu_memory_bytes / 1e9\n",
    "\n",
    "    print(f\"GPU Memory Size: {gpu_memory_gb:.2f} GB\")\n",
    "else:\n",
    "    print(\"No GPU available.\")"
   ]
  },
  {
   "cell_type": "code",
   "execution_count": 192,
   "id": "1fedf2fe-1e4a-418e-a34d-356e56952aeb",
   "metadata": {},
   "outputs": [
    {
     "data": {
      "text/plain": [
       "88"
      ]
     },
     "execution_count": 192,
     "metadata": {},
     "output_type": "execute_result"
    }
   ],
   "source": [
    "import psutil\n",
    "\n",
    "def get_cpu_limit():\n",
    "    # Get the number of available logical CPUs\n",
    "    cpus = psutil.cpu_count(logical=True)\n",
    "\n",
    "    # Get the CPU affinity of the current process\n",
    "    cpu_affinity = psutil.Process().cpu_affinity()\n",
    "\n",
    "    # If CPU affinity is set, return the number of CPUs in the affinity set\n",
    "    if cpu_affinity:\n",
    "        return len(cpu_affinity)\n",
    "\n",
    "    # Return the total number of available CPUs if no CPU affinity is set\n",
    "    return cpus\n",
    "\n",
    "get_cpu_limit()"
   ]
  },
  {
   "cell_type": "code",
   "execution_count": null,
   "id": "b811d8e4-452b-4314-bb09-e587c3c8d7d6",
   "metadata": {},
   "outputs": [],
   "source": [
    "cropx = (data.shape[0] - 512) // 2\n",
    "cropy = (data.shape[1] - output_shape[1]) // 2"
   ]
  },
  {
   "cell_type": "code",
   "execution_count": 91,
   "id": "377409a1-4545-401d-81d5-d0ea72ce88b7",
   "metadata": {},
   "outputs": [],
   "source": [
    "device = torch.device('cuda')"
   ]
  },
  {
   "cell_type": "code",
   "execution_count": 112,
   "id": "f24ff3ab-e4b7-4a62-a8da-e2172462cd9c",
   "metadata": {
    "tags": []
   },
   "outputs": [
    {
     "name": "stdout",
     "output_type": "stream",
     "text": [
      "814\n"
     ]
    },
    {
     "ename": "AttributeError",
     "evalue": "'int' object has no attribute 'cast'",
     "output_type": "error",
     "traceback": [
      "\u001b[0;31m---------------------------------------------------------------------------\u001b[0m",
      "\u001b[0;31mAttributeError\u001b[0m                            Traceback (most recent call last)",
      "Input \u001b[0;32mIn [112]\u001b[0m, in \u001b[0;36m<cell line: 5>\u001b[0;34m()\u001b[0m\n\u001b[1;32m      3\u001b[0m \u001b[38;5;28mprint\u001b[39m(seed)\n\u001b[1;32m      4\u001b[0m user_config[\u001b[38;5;124m'\u001b[39m\u001b[38;5;124mwholeslidedata\u001b[39m\u001b[38;5;124m'\u001b[39m][\u001b[38;5;124m'\u001b[39m\u001b[38;5;124mdefault\u001b[39m\u001b[38;5;124m'\u001b[39m][\u001b[38;5;124m'\u001b[39m\u001b[38;5;124mseed\u001b[39m\u001b[38;5;124m'\u001b[39m]\u001b[38;5;241m=\u001b[39mseed\n\u001b[0;32m----> 5\u001b[0m \u001b[38;5;28;01mwith\u001b[39;00m \u001b[43mcreate_batch_iterator\u001b[49m\u001b[43m(\u001b[49m\u001b[43muser_config\u001b[49m\u001b[38;5;241;43m=\u001b[39;49m\u001b[43muser_config\u001b[49m\u001b[43m,\u001b[49m\u001b[43m \u001b[49m\n\u001b[1;32m      6\u001b[0m \u001b[43m                           \u001b[49m\u001b[43mcontext\u001b[49m\u001b[38;5;241;43m=\u001b[39;49m\u001b[38;5;124;43m'\u001b[39;49m\u001b[38;5;124;43mspawn\u001b[39;49m\u001b[38;5;124;43m'\u001b[39;49m\u001b[43m \u001b[49m\u001b[38;5;28;43;01mif\u001b[39;49;00m\u001b[43m \u001b[49m\u001b[43mos\u001b[49m\u001b[38;5;241;43m.\u001b[39;49m\u001b[43mname\u001b[49m\u001b[38;5;241;43m==\u001b[39;49m\u001b[38;5;124;43m'\u001b[39;49m\u001b[38;5;124;43mnt\u001b[39;49m\u001b[38;5;124;43m'\u001b[39;49m\u001b[43m \u001b[49m\u001b[38;5;28;43;01melse\u001b[39;49;00m\u001b[43m \u001b[49m\u001b[38;5;124;43m'\u001b[39;49m\u001b[38;5;124;43mfork\u001b[39;49m\u001b[38;5;124;43m'\u001b[39;49m\u001b[43m,\u001b[49m\n\u001b[1;32m      7\u001b[0m \u001b[43m                           \u001b[49m\u001b[43mmode\u001b[49m\u001b[38;5;241;43m=\u001b[39;49m\u001b[38;5;124;43m'\u001b[39;49m\u001b[38;5;124;43mtraining\u001b[39;49m\u001b[38;5;124;43m'\u001b[39;49m\u001b[43m,\u001b[49m\n\u001b[1;32m      8\u001b[0m \u001b[43m                           \u001b[49m\u001b[43mbuffer_dtype\u001b[49m\u001b[38;5;241;43m=\u001b[39;49m\u001b[43mnp\u001b[49m\u001b[38;5;241;43m.\u001b[39;49m\u001b[43muint8\u001b[49m\u001b[43m,\u001b[49m\n\u001b[1;32m      9\u001b[0m \u001b[43m                           \u001b[49m\u001b[43mextras_shapes\u001b[49m\u001b[38;5;241;43m=\u001b[39;49m\u001b[43mextra_ds_shapes\u001b[49m\u001b[43m,\u001b[49m\n\u001b[1;32m     10\u001b[0m \u001b[43m                           \u001b[49m\u001b[43miterator_class\u001b[49m\u001b[38;5;241;43m=\u001b[39;49m\u001b[43mWholeSlidePlainnnUnetBatchIterator\u001b[49m\n\u001b[1;32m     11\u001b[0m \u001b[43m                          \u001b[49m\u001b[43m)\u001b[49m \u001b[38;5;28;01mas\u001b[39;00m training_batch_generator:\n\u001b[1;32m     12\u001b[0m     \u001b[38;5;28;01mfor\u001b[39;00m i \u001b[38;5;129;01min\u001b[39;00m \u001b[38;5;28mrange\u001b[39m(\u001b[38;5;241m1\u001b[39m):\n\u001b[1;32m     13\u001b[0m         batch  \u001b[38;5;241m=\u001b[39m  \u001b[38;5;28mnext\u001b[39m(training_batch_generator)\n",
      "File \u001b[0;32m/usr/local/lib/python3.9/site-packages/wholeslidedata/iterators/batchiterator.py:150\u001b[0m, in \u001b[0;36mcreate_batch_iterator\u001b[0;34m(user_config, mode, number_of_batches, index, update_samplers, return_info, search_paths, presets, cpus, context, determinstic, extras_shapes, buffer_dtype, iterator_class)\u001b[0m\n\u001b[1;32m    141\u001b[0m dataset \u001b[38;5;241m=\u001b[39m \u001b[38;5;28;01mNone\u001b[39;00m\n\u001b[1;32m    143\u001b[0m config_reader \u001b[38;5;241m=\u001b[39m ConfigReader(\n\u001b[1;32m    144\u001b[0m     name\u001b[38;5;241m=\u001b[39m\u001b[38;5;124m\"\u001b[39m\u001b[38;5;124mwholeslidedata\u001b[39m\u001b[38;5;124m\"\u001b[39m,\n\u001b[1;32m    145\u001b[0m     main_config_path\u001b[38;5;241m=\u001b[39mMAIN_CONFIG_PATH,\n\u001b[1;32m    146\u001b[0m     context_keys\u001b[38;5;241m=\u001b[39m(mode,),\n\u001b[1;32m    147\u001b[0m     search_paths\u001b[38;5;241m=\u001b[39msearch_paths,\n\u001b[1;32m    148\u001b[0m )\n\u001b[0;32m--> 150\u001b[0m config \u001b[38;5;241m=\u001b[39m \u001b[43mconfig_reader\u001b[49m\u001b[38;5;241;43m.\u001b[39;49m\u001b[43mread\u001b[49m\u001b[43m(\u001b[49m\u001b[43muser_config\u001b[49m\u001b[38;5;241;43m=\u001b[39;49m\u001b[43muser_config\u001b[49m\u001b[43m,\u001b[49m\u001b[43m \u001b[49m\u001b[43mpresets\u001b[49m\u001b[38;5;241;43m=\u001b[39;49m\u001b[43mpresets\u001b[49m\u001b[43m)\u001b[49m\n\u001b[1;32m    151\u001b[0m batch_shape_args \u001b[38;5;241m=\u001b[39m deepcopy(config[mode][\u001b[38;5;124m\"\u001b[39m\u001b[38;5;124mbatch_shape\u001b[39m\u001b[38;5;124m\"\u001b[39m])\n\u001b[1;32m    152\u001b[0m batch_shape_args\u001b[38;5;241m.\u001b[39mpop(\u001b[38;5;124m\"\u001b[39m\u001b[38;5;124m*object\u001b[39m\u001b[38;5;124m\"\u001b[39m)\n",
      "File \u001b[0;32m/usr/local/lib/python3.9/site-packages/dicfg/reader.py:107\u001b[0m, in \u001b[0;36mConfigReader.read\u001b[0;34m(self, user_config, presets)\u001b[0m\n\u001b[1;32m    104\u001b[0m configs \u001b[38;5;241m=\u001b[39m (self_config, \u001b[38;5;241m*\u001b[39mpreset_configs, user_config, cli_config)\n\u001b[1;32m    105\u001b[0m configs \u001b[38;5;241m=\u001b[39m \u001b[38;5;28mself\u001b[39m\u001b[38;5;241m.\u001b[39m_fuse_configs(configs, \u001b[38;5;28mself\u001b[39m\u001b[38;5;241m.\u001b[39m_context_keys, search_paths)\n\u001b[0;32m--> 107\u001b[0m \u001b[38;5;28;01mreturn\u001b[39;00m \u001b[43mmerge\u001b[49m\u001b[43m(\u001b[49m\u001b[38;5;241;43m*\u001b[39;49m\u001b[43mconfigs\u001b[49m\u001b[43m)\u001b[49m\u001b[38;5;241;43m.\u001b[39;49m\u001b[43mcast\u001b[49m\u001b[43m(\u001b[49m\u001b[43m)\u001b[49m\n",
      "File \u001b[0;32m/usr/local/lib/python3.9/site-packages/dicfg/config.py:64\u001b[0m, in \u001b[0;36mConfigDict.cast\u001b[0;34m(self)\u001b[0m\n\u001b[1;32m     62\u001b[0m \u001b[38;5;28;01mdef\u001b[39;00m \u001b[38;5;21mcast\u001b[39m(\u001b[38;5;28mself\u001b[39m):\n\u001b[1;32m     63\u001b[0m     \u001b[38;5;124;03m\"\"\"Cast wrapped value to builtin python value\"\"\"\u001b[39;00m\n\u001b[0;32m---> 64\u001b[0m     \u001b[38;5;28;01mreturn\u001b[39;00m {key: value\u001b[38;5;241m.\u001b[39mcast() \u001b[38;5;28;01mfor\u001b[39;00m key, value \u001b[38;5;129;01min\u001b[39;00m \u001b[38;5;28mself\u001b[39m\u001b[38;5;241m.\u001b[39mdata\u001b[38;5;241m.\u001b[39mitems()}\n",
      "File \u001b[0;32m/usr/local/lib/python3.9/site-packages/dicfg/config.py:64\u001b[0m, in \u001b[0;36m<dictcomp>\u001b[0;34m(.0)\u001b[0m\n\u001b[1;32m     62\u001b[0m \u001b[38;5;28;01mdef\u001b[39;00m \u001b[38;5;21mcast\u001b[39m(\u001b[38;5;28mself\u001b[39m):\n\u001b[1;32m     63\u001b[0m     \u001b[38;5;124;03m\"\"\"Cast wrapped value to builtin python value\"\"\"\u001b[39;00m\n\u001b[0;32m---> 64\u001b[0m     \u001b[38;5;28;01mreturn\u001b[39;00m {key: \u001b[43mvalue\u001b[49m\u001b[38;5;241;43m.\u001b[39;49m\u001b[43mcast\u001b[49m\u001b[43m(\u001b[49m\u001b[43m)\u001b[49m \u001b[38;5;28;01mfor\u001b[39;00m key, value \u001b[38;5;129;01min\u001b[39;00m \u001b[38;5;28mself\u001b[39m\u001b[38;5;241m.\u001b[39mdata\u001b[38;5;241m.\u001b[39mitems()}\n",
      "File \u001b[0;32m/usr/local/lib/python3.9/site-packages/dicfg/config.py:64\u001b[0m, in \u001b[0;36mConfigDict.cast\u001b[0;34m(self)\u001b[0m\n\u001b[1;32m     62\u001b[0m \u001b[38;5;28;01mdef\u001b[39;00m \u001b[38;5;21mcast\u001b[39m(\u001b[38;5;28mself\u001b[39m):\n\u001b[1;32m     63\u001b[0m     \u001b[38;5;124;03m\"\"\"Cast wrapped value to builtin python value\"\"\"\u001b[39;00m\n\u001b[0;32m---> 64\u001b[0m     \u001b[38;5;28;01mreturn\u001b[39;00m {key: value\u001b[38;5;241m.\u001b[39mcast() \u001b[38;5;28;01mfor\u001b[39;00m key, value \u001b[38;5;129;01min\u001b[39;00m \u001b[38;5;28mself\u001b[39m\u001b[38;5;241m.\u001b[39mdata\u001b[38;5;241m.\u001b[39mitems()}\n",
      "File \u001b[0;32m/usr/local/lib/python3.9/site-packages/dicfg/config.py:64\u001b[0m, in \u001b[0;36m<dictcomp>\u001b[0;34m(.0)\u001b[0m\n\u001b[1;32m     62\u001b[0m \u001b[38;5;28;01mdef\u001b[39;00m \u001b[38;5;21mcast\u001b[39m(\u001b[38;5;28mself\u001b[39m):\n\u001b[1;32m     63\u001b[0m     \u001b[38;5;124;03m\"\"\"Cast wrapped value to builtin python value\"\"\"\u001b[39;00m\n\u001b[0;32m---> 64\u001b[0m     \u001b[38;5;28;01mreturn\u001b[39;00m {key: \u001b[43mvalue\u001b[49m\u001b[38;5;241;43m.\u001b[39;49m\u001b[43mcast\u001b[49m() \u001b[38;5;28;01mfor\u001b[39;00m key, value \u001b[38;5;129;01min\u001b[39;00m \u001b[38;5;28mself\u001b[39m\u001b[38;5;241m.\u001b[39mdata\u001b[38;5;241m.\u001b[39mitems()}\n",
      "\u001b[0;31mAttributeError\u001b[0m: 'int' object has no attribute 'cast'"
     ]
    }
   ],
   "source": [
    "#need to run the config cell again to correctly set new seed\n",
    "seed = int(str(time.time())[-3:])\n",
    "print(seed)\n",
    "user_config['wholeslidedata']['default']['seed']=seed\n",
    "with create_batch_iterator(user_config=user_config, \n",
    "                           context='spawn' if os.name=='nt' else 'fork',\n",
    "                           mode='training',\n",
    "                           buffer_dtype=np.uint8,\n",
    "                           extras_shapes=extra_ds_shapes,\n",
    "                           iterator_class=WholeSlidePlainnnUnetBatchIterator\n",
    "                          ) as training_batch_generator:\n",
    "    for i in range(1):\n",
    "        batch  =  next(training_batch_generator)\n",
    "        "
   ]
  },
  {
   "cell_type": "code",
   "execution_count": 113,
   "id": "13c952cd-77b7-4993-afc9-7c1e5d498ed3",
   "metadata": {},
   "outputs": [
    {
     "ename": "OSError",
     "evalue": "handle is closed",
     "output_type": "error",
     "traceback": [
      "\u001b[0;31m---------------------------------------------------------------------------\u001b[0m",
      "\u001b[0;31mOSError\u001b[0m                                   Traceback (most recent call last)",
      "Input \u001b[0;32mIn [113]\u001b[0m, in \u001b[0;36m<cell line: 1>\u001b[0;34m()\u001b[0m\n\u001b[0;32m----> 1\u001b[0m x_batch, y_batch, \u001b[38;5;241m*\u001b[39mextras, _  \u001b[38;5;241m=\u001b[39m  \u001b[38;5;28;43mnext\u001b[39;49m\u001b[43m(\u001b[49m\u001b[43mtraining_batch_generator\u001b[49m\u001b[43m)\u001b[49m\n\u001b[1;32m      2\u001b[0m \u001b[38;5;66;03m# break\u001b[39;00m\n\u001b[1;32m      3\u001b[0m \u001b[38;5;66;03m# break\u001b[39;00m\n\u001b[1;32m      4\u001b[0m batch \u001b[38;5;241m=\u001b[39m x_batch, y_batch\n",
      "Input \u001b[0;32mIn [86]\u001b[0m, in \u001b[0;36mWholeSlidePlainnnUnetBatchIterator.__next__\u001b[0;34m(self)\u001b[0m\n\u001b[1;32m      2\u001b[0m \u001b[38;5;28;01mdef\u001b[39;00m \u001b[38;5;21m__next__\u001b[39m(\u001b[38;5;28mself\u001b[39m):\n\u001b[0;32m----> 3\u001b[0m     x_batch, y_batch, \u001b[38;5;241m*\u001b[39mextras, _ \u001b[38;5;241m=\u001b[39m \u001b[38;5;28;43msuper\u001b[39;49m\u001b[43m(\u001b[49m\u001b[43m)\u001b[49m\u001b[38;5;241;43m.\u001b[39;49m\u001b[38;5;21;43m__next__\u001b[39;49m\u001b[43m(\u001b[49m\u001b[43m)\u001b[49m\n\u001b[1;32m      4\u001b[0m     x_batch \u001b[38;5;241m=\u001b[39m crop_data(x_batch, [\u001b[38;5;241m512\u001b[39m, \u001b[38;5;241m512\u001b[39m])\n\u001b[1;32m      5\u001b[0m     y_batch \u001b[38;5;241m=\u001b[39m crop_data(np\u001b[38;5;241m.\u001b[39mexpand_dims(y_batch, \u001b[38;5;241m-\u001b[39m\u001b[38;5;241m1\u001b[39m), [\u001b[38;5;241m512\u001b[39m, \u001b[38;5;241m512\u001b[39m])\u001b[38;5;241m.\u001b[39msqueeze()\n",
      "File \u001b[0;32m/usr/local/lib/python3.9/site-packages/wholeslidedata/iterators/batchiterator.py:52\u001b[0m, in \u001b[0;36mBatchIterator.__next__\u001b[0;34m(self)\u001b[0m\n\u001b[1;32m     49\u001b[0m \u001b[38;5;28;01mif\u001b[39;00m \u001b[38;5;28mself\u001b[39m\u001b[38;5;241m.\u001b[39m_stop():\n\u001b[1;32m     50\u001b[0m     \u001b[38;5;28;01mraise\u001b[39;00m \u001b[38;5;167;01mStopIteration\u001b[39;00m()\n\u001b[0;32m---> 52\u001b[0m x_batch, y_batch, \u001b[38;5;241m*\u001b[39mextras \u001b[38;5;241m=\u001b[39m \u001b[38;5;28;43msuper\u001b[39;49m\u001b[43m(\u001b[49m\u001b[43m)\u001b[49m\u001b[38;5;241;43m.\u001b[39;49m\u001b[38;5;21;43m__next__\u001b[39;49m\u001b[43m(\u001b[49m\u001b[43m)\u001b[49m\n\u001b[1;32m     54\u001b[0m \u001b[38;5;28;01mif\u001b[39;00m (\n\u001b[1;32m     55\u001b[0m     \u001b[38;5;28mself\u001b[39m\u001b[38;5;241m.\u001b[39m_stop_index \u001b[38;5;129;01mis\u001b[39;00m \u001b[38;5;129;01mnot\u001b[39;00m \u001b[38;5;28;01mNone\u001b[39;00m\n\u001b[1;32m     56\u001b[0m     \u001b[38;5;129;01mand\u001b[39;00m \u001b[38;5;28mself\u001b[39m\u001b[38;5;241m.\u001b[39m_index \u001b[38;5;241m==\u001b[39m \u001b[38;5;28mself\u001b[39m\u001b[38;5;241m.\u001b[39m_stop_index\n\u001b[1;32m     57\u001b[0m     \u001b[38;5;129;01mand\u001b[39;00m \u001b[38;5;28mself\u001b[39m\u001b[38;5;241m.\u001b[39m_batch_left \u001b[38;5;241m>\u001b[39m \u001b[38;5;241m0\u001b[39m\n\u001b[1;32m     58\u001b[0m ):\n\u001b[1;32m     59\u001b[0m     x_batch \u001b[38;5;241m=\u001b[39m x_batch[: \u001b[38;5;28mself\u001b[39m\u001b[38;5;241m.\u001b[39m_batch_left]\n",
      "File \u001b[0;32m/usr/local/lib/python3.9/site-packages/concurrentbuffer/iterator.py:45\u001b[0m, in \u001b[0;36mBufferIterator.__next__\u001b[0;34m(self)\u001b[0m\n\u001b[1;32m     40\u001b[0m \u001b[38;5;28;01mif\u001b[39;00m \u001b[38;5;28mself\u001b[39m\u001b[38;5;241m.\u001b[39m_auto_free_buffer \u001b[38;5;129;01mand\u001b[39;00m \u001b[38;5;28mself\u001b[39m\u001b[38;5;241m.\u001b[39m_last_buffer_id \u001b[38;5;129;01mis\u001b[39;00m \u001b[38;5;129;01mnot\u001b[39;00m \u001b[38;5;28;01mNone\u001b[39;00m:\n\u001b[1;32m     41\u001b[0m     \u001b[38;5;28mself\u001b[39m\u001b[38;5;241m.\u001b[39m_buffer_factory\u001b[38;5;241m.\u001b[39mbuffer_state_memory\u001b[38;5;241m.\u001b[39mupdate_buffer_id_to_free(\n\u001b[1;32m     42\u001b[0m         buffer_id\u001b[38;5;241m=\u001b[39m\u001b[38;5;28mself\u001b[39m\u001b[38;5;241m.\u001b[39m_last_buffer_id\n\u001b[1;32m     43\u001b[0m     )\n\u001b[0;32m---> 45\u001b[0m buffer_id \u001b[38;5;241m=\u001b[39m \u001b[38;5;28;43mself\u001b[39;49m\u001b[38;5;241;43m.\u001b[39;49m\u001b[43m_next\u001b[49m\u001b[43m(\u001b[49m\u001b[43m)\u001b[49m\n\u001b[1;32m     46\u001b[0m \u001b[38;5;28mself\u001b[39m\u001b[38;5;241m.\u001b[39m_last_buffer_id \u001b[38;5;241m=\u001b[39m buffer_id\n\u001b[1;32m     48\u001b[0m data \u001b[38;5;241m=\u001b[39m []\n",
      "File \u001b[0;32m/usr/local/lib/python3.9/site-packages/concurrentbuffer/iterator.py:57\u001b[0m, in \u001b[0;36mBufferIterator._next\u001b[0;34m(self)\u001b[0m\n\u001b[1;32m     55\u001b[0m next_buffer_id \u001b[38;5;241m=\u001b[39m \u001b[38;5;28;01mNone\u001b[39;00m\n\u001b[1;32m     56\u001b[0m \u001b[38;5;28;01mif\u001b[39;00m \u001b[38;5;28mself\u001b[39m\u001b[38;5;241m.\u001b[39m_buffer_factory\u001b[38;5;241m.\u001b[39mbuffer_system\u001b[38;5;241m.\u001b[39mdeterministic:\n\u001b[0;32m---> 57\u001b[0m     next_buffer_id \u001b[38;5;241m=\u001b[39m \u001b[38;5;28;43mself\u001b[39;49m\u001b[38;5;241;43m.\u001b[39;49m\u001b[43m_buffer_factory\u001b[49m\u001b[38;5;241;43m.\u001b[39;49m\u001b[43mreceiver\u001b[49m\u001b[38;5;241;43m.\u001b[39;49m\u001b[43mrecv\u001b[49m\u001b[43m(\u001b[49m\u001b[43m)\u001b[49m\n\u001b[1;32m     59\u001b[0m \u001b[38;5;28;01mwhile\u001b[39;00m \u001b[38;5;28;01mTrue\u001b[39;00m:\n\u001b[1;32m     60\u001b[0m     buffer_id \u001b[38;5;241m=\u001b[39m (\n\u001b[1;32m     61\u001b[0m         \u001b[38;5;28mself\u001b[39m\u001b[38;5;241m.\u001b[39m_buffer_factory\u001b[38;5;241m.\u001b[39mbuffer_state_memory\u001b[38;5;241m.\u001b[39mget_available_buffer_id(\n\u001b[1;32m     62\u001b[0m             buffer_id\u001b[38;5;241m=\u001b[39mnext_buffer_id\n\u001b[1;32m     63\u001b[0m         )\n\u001b[1;32m     64\u001b[0m     )\n",
      "File \u001b[0;32m/usr/local/lib/python3.9/multiprocessing/connection.py:253\u001b[0m, in \u001b[0;36m_ConnectionBase.recv\u001b[0;34m(self)\u001b[0m\n\u001b[1;32m    251\u001b[0m \u001b[38;5;28;01mdef\u001b[39;00m \u001b[38;5;21mrecv\u001b[39m(\u001b[38;5;28mself\u001b[39m):\n\u001b[1;32m    252\u001b[0m     \u001b[38;5;124;03m\"\"\"Receive a (picklable) object\"\"\"\u001b[39;00m\n\u001b[0;32m--> 253\u001b[0m     \u001b[38;5;28;43mself\u001b[39;49m\u001b[38;5;241;43m.\u001b[39;49m\u001b[43m_check_closed\u001b[49m\u001b[43m(\u001b[49m\u001b[43m)\u001b[49m\n\u001b[1;32m    254\u001b[0m     \u001b[38;5;28mself\u001b[39m\u001b[38;5;241m.\u001b[39m_check_readable()\n\u001b[1;32m    255\u001b[0m     buf \u001b[38;5;241m=\u001b[39m \u001b[38;5;28mself\u001b[39m\u001b[38;5;241m.\u001b[39m_recv_bytes()\n",
      "File \u001b[0;32m/usr/local/lib/python3.9/multiprocessing/connection.py:141\u001b[0m, in \u001b[0;36m_ConnectionBase._check_closed\u001b[0;34m(self)\u001b[0m\n\u001b[1;32m    139\u001b[0m \u001b[38;5;28;01mdef\u001b[39;00m \u001b[38;5;21m_check_closed\u001b[39m(\u001b[38;5;28mself\u001b[39m):\n\u001b[1;32m    140\u001b[0m     \u001b[38;5;28;01mif\u001b[39;00m \u001b[38;5;28mself\u001b[39m\u001b[38;5;241m.\u001b[39m_handle \u001b[38;5;129;01mis\u001b[39;00m \u001b[38;5;28;01mNone\u001b[39;00m:\n\u001b[0;32m--> 141\u001b[0m         \u001b[38;5;28;01mraise\u001b[39;00m \u001b[38;5;167;01mOSError\u001b[39;00m(\u001b[38;5;124m\"\u001b[39m\u001b[38;5;124mhandle is closed\u001b[39m\u001b[38;5;124m\"\u001b[39m)\n",
      "\u001b[0;31mOSError\u001b[0m: handle is closed"
     ]
    }
   ],
   "source": [
    "x_batch, y_batch, *extras, _  =  next(training_batch_generator)\n",
    "# break\n",
    "# break\n",
    "batch = x_batch, y_batch\n",
    "print(i)\n",
    "plot_batch(batch[0], batch[1])\n",
    "cropped_batch = [crop_data(batch[0], [512, 512]), crop_data(np.expand_dims(batch[1], -1), [512, 512]).squeeze()]\n",
    "plot_batch(cropped_batch[0], cropped_batch[1])\n",
    "for extra in extras:\n",
    "    cropped_extra = crop_data(np.expand_dims(extra, -1), [shape//2 for shape in extra.shape[-2:]]).squeeze()\n",
    "    print(extra.shape, cropped_extra.shape)"
   ]
  },
  {
   "cell_type": "code",
   "execution_count": 114,
   "id": "bf90fd37-a2da-47f8-8769-cf6cfd364888",
   "metadata": {},
   "outputs": [
    {
     "data": {
      "text/plain": [
       "(2, 1024, 1024, 3)"
      ]
     },
     "execution_count": 114,
     "metadata": {},
     "output_type": "execute_result"
    }
   ],
   "source": [
    "x_batch.shape"
   ]
  },
  {
   "cell_type": "code",
   "execution_count": 115,
   "id": "1a2f183f-2b53-4138-bf11-dc96ea5bafeb",
   "metadata": {},
   "outputs": [
    {
     "name": "stdout",
     "output_type": "stream",
     "text": [
      "-255 256\n"
     ]
    },
    {
     "data": {
      "text/plain": [
       "(2, 512, 512, 3)"
      ]
     },
     "execution_count": 115,
     "metadata": {},
     "output_type": "execute_result"
    }
   ],
   "source": [
    "crop_data(x_batch, [512, 512]).shape"
   ]
  },
  {
   "cell_type": "code",
   "execution_count": 116,
   "id": "51e73631-8ec4-4479-abb2-133a5f29ca25",
   "metadata": {},
   "outputs": [
    {
     "data": {
      "text/plain": [
       "(2, 512, 512, 3)"
      ]
     },
     "execution_count": 116,
     "metadata": {},
     "output_type": "execute_result"
    }
   ],
   "source": [
    "half_crop(x_batch).shape"
   ]
  },
  {
   "cell_type": "code",
   "execution_count": 122,
   "id": "0b25b68f-43ee-428a-9e33-4a335aa8d7f5",
   "metadata": {},
   "outputs": [
    {
     "data": {
      "text/plain": [
       "(2, 1024, 1024)"
      ]
     },
     "execution_count": 122,
     "metadata": {},
     "output_type": "execute_result"
    }
   ],
   "source": [
    "y_batch.shape"
   ]
  },
  {
   "cell_type": "code",
   "execution_count": 123,
   "id": "e1d76989-917d-4130-a228-b8e091fb9c53",
   "metadata": {},
   "outputs": [
    {
     "name": "stdout",
     "output_type": "stream",
     "text": [
      "-255 256\n"
     ]
    },
    {
     "data": {
      "text/plain": [
       "(2, 512, 512)"
      ]
     },
     "execution_count": 123,
     "metadata": {},
     "output_type": "execute_result"
    }
   ],
   "source": [
    "crop_data(np.expand_dims(y_batch, -1), [512, 512]).squeeze().shape"
   ]
  },
  {
   "cell_type": "code",
   "execution_count": 124,
   "id": "74f672ab-e80f-4fec-b5e0-a2b0de245081",
   "metadata": {},
   "outputs": [
    {
     "data": {
      "text/plain": [
       "(2, 512, 512)"
      ]
     },
     "execution_count": 124,
     "metadata": {},
     "output_type": "execute_result"
    }
   ],
   "source": [
    "half_crop(y_batch).shape"
   ]
  },
  {
   "cell_type": "code",
   "execution_count": 125,
   "id": "3aa3793d-4feb-434b-8e44-9164dfa74049",
   "metadata": {},
   "outputs": [
    {
     "data": {
      "text/plain": [
       "[(2, 512, 512),\n",
       " (2, 256, 256),\n",
       " (2, 128, 128),\n",
       " (2, 64, 64),\n",
       " (2, 32, 32),\n",
       " (2, 16, 16)]"
      ]
     },
     "execution_count": 125,
     "metadata": {},
     "output_type": "execute_result"
    }
   ],
   "source": [
    "[extra.shape for extra in extras]"
   ]
  },
  {
   "cell_type": "code",
   "execution_count": 60,
   "id": "5fdd5337-bdf8-4840-8672-8275609561a6",
   "metadata": {},
   "outputs": [
    {
     "data": {
      "text/plain": [
       "[[512, 512], [256, 256], [128, 128], [64, 64], [32, 32], [16, 16]]"
      ]
     },
     "execution_count": 60,
     "metadata": {},
     "output_type": "execute_result"
    }
   ],
   "source": [
    "extra_ds_sizes"
   ]
  },
  {
   "cell_type": "code",
   "execution_count": 59,
   "id": "62742a50-b1eb-4d6d-a8ac-225a16c120e9",
   "metadata": {},
   "outputs": [
    {
     "data": {
      "text/plain": [
       "[(2, 512, 512),\n",
       " (2, 256, 256),\n",
       " (2, 128, 128),\n",
       " (2, 64, 64),\n",
       " (2, 32, 32),\n",
       " (2, 16, 16)]"
      ]
     },
     "execution_count": 59,
     "metadata": {},
     "output_type": "execute_result"
    }
   ],
   "source": [
    "[crop_data(np.expand_dims(extra, -1), [512, 512]).squeeze().shape for extra in extras]"
   ]
  },
  {
   "cell_type": "code",
   "execution_count": null,
   "id": "53eb20e5-c8ea-497e-8c2a-c2f7a2191a22",
   "metadata": {},
   "outputs": [],
   "source": []
  },
  {
   "cell_type": "code",
   "execution_count": 37,
   "id": "f8ef70b4-4575-4a48-b65b-0f51897759b1",
   "metadata": {},
   "outputs": [
    {
     "data": {
      "text/plain": [
       "(2, 1024, 1024, 3)"
      ]
     },
     "execution_count": 37,
     "metadata": {},
     "output_type": "execute_result"
    }
   ],
   "source": [
    "crop_data(x_batch.shape"
   ]
  },
  {
   "cell_type": "code",
   "execution_count": 35,
   "id": "a9e6292d-226b-4018-8530-5d9d7c1c3d90",
   "metadata": {},
   "outputs": [
    {
     "data": {
      "text/plain": [
       "(array([[[[230, 240, 254],\n",
       "          [230, 240, 254],\n",
       "          [229, 240, 253],\n",
       "          ...,\n",
       "          [227, 240, 252],\n",
       "          [226, 240, 251],\n",
       "          [226, 240, 251]],\n",
       " \n",
       "         [[230, 240, 254],\n",
       "          [230, 240, 254],\n",
       "          [229, 240, 253],\n",
       "          ...,\n",
       "          [229, 240, 254],\n",
       "          [228, 240, 253],\n",
       "          [227, 240, 252]],\n",
       " \n",
       "         [[229, 240, 253],\n",
       "          [229, 240, 253],\n",
       "          [229, 240, 253],\n",
       "          ...,\n",
       "          [229, 240, 254],\n",
       "          [228, 240, 253],\n",
       "          [227, 240, 252]],\n",
       " \n",
       "         ...,\n",
       " \n",
       "         [[127,  97, 142],\n",
       "          [154, 122, 171],\n",
       "          [181, 149, 201],\n",
       "          ...,\n",
       "          [173, 152, 201],\n",
       "          [175, 155, 202],\n",
       "          [179, 164, 207]],\n",
       " \n",
       "         [[151, 119, 171],\n",
       "          [178, 145, 200],\n",
       "          [196, 164, 220],\n",
       "          ...,\n",
       "          [171, 149, 194],\n",
       "          [170, 151, 193],\n",
       "          [180, 164, 206]],\n",
       " \n",
       "         [[174, 144, 200],\n",
       "          [199, 167, 226],\n",
       "          [208, 174, 232],\n",
       "          ...,\n",
       "          [166, 146, 188],\n",
       "          [173, 156, 196],\n",
       "          [193, 177, 219]]],\n",
       " \n",
       " \n",
       "        [[[ 24,  10,  23],\n",
       "          [ 24,  10,  23],\n",
       "          [ 24,  10,  23],\n",
       "          ...,\n",
       "          [ 24,  10,  23],\n",
       "          [ 24,  10,  23],\n",
       "          [ 24,  10,  23]],\n",
       " \n",
       "         [[ 24,  10,  23],\n",
       "          [ 24,  10,  23],\n",
       "          [ 24,  10,  23],\n",
       "          ...,\n",
       "          [ 24,  10,  23],\n",
       "          [ 24,  10,  23],\n",
       "          [ 24,  10,  23]],\n",
       " \n",
       "         [[ 24,  10,  23],\n",
       "          [ 24,  10,  23],\n",
       "          [ 24,  10,  23],\n",
       "          ...,\n",
       "          [ 24,  10,  23],\n",
       "          [ 24,  10,  23],\n",
       "          [ 24,  10,  23]],\n",
       " \n",
       "         ...,\n",
       " \n",
       "         [[ 24,  10,  23],\n",
       "          [ 24,  10,  23],\n",
       "          [ 24,  10,  23],\n",
       "          ...,\n",
       "          [ 24,  10,  23],\n",
       "          [ 24,  10,  23],\n",
       "          [ 24,  10,  23]],\n",
       " \n",
       "         [[ 24,  10,  23],\n",
       "          [ 24,  10,  23],\n",
       "          [ 24,  10,  23],\n",
       "          ...,\n",
       "          [ 24,  10,  23],\n",
       "          [ 24,  10,  23],\n",
       "          [ 24,  10,  23]],\n",
       " \n",
       "         [[ 24,  10,  23],\n",
       "          [ 24,  10,  23],\n",
       "          [ 24,  10,  23],\n",
       "          ...,\n",
       "          [ 24,  10,  23],\n",
       "          [ 24,  10,  23],\n",
       "          [ 24,  10,  23]]]], dtype=uint8),\n",
       " array([[[0, 0, 0, ..., 0, 0, 0],\n",
       "         [0, 0, 0, ..., 0, 0, 0],\n",
       "         [0, 0, 0, ..., 0, 0, 0],\n",
       "         ...,\n",
       "         [0, 0, 0, ..., 0, 0, 0],\n",
       "         [0, 0, 0, ..., 0, 0, 0],\n",
       "         [0, 0, 0, ..., 0, 0, 0]],\n",
       " \n",
       "        [[0, 0, 0, ..., 0, 0, 0],\n",
       "         [0, 0, 0, ..., 0, 0, 0],\n",
       "         [0, 0, 0, ..., 0, 0, 0],\n",
       "         ...,\n",
       "         [0, 0, 0, ..., 0, 0, 0],\n",
       "         [0, 0, 0, ..., 0, 0, 0],\n",
       "         [0, 0, 0, ..., 0, 0, 0]]], dtype=uint8),\n",
       " array([[[0, 0, 0, ..., 0, 0, 0],\n",
       "         [0, 0, 0, ..., 0, 0, 0],\n",
       "         [0, 0, 0, ..., 0, 0, 0],\n",
       "         ...,\n",
       "         [0, 0, 0, ..., 0, 0, 0],\n",
       "         [0, 0, 0, ..., 0, 0, 0],\n",
       "         [0, 0, 0, ..., 0, 0, 0]],\n",
       " \n",
       "        [[0, 0, 0, ..., 0, 0, 0],\n",
       "         [0, 0, 0, ..., 0, 0, 0],\n",
       "         [0, 0, 0, ..., 0, 0, 0],\n",
       "         ...,\n",
       "         [0, 0, 0, ..., 0, 0, 0],\n",
       "         [0, 0, 0, ..., 0, 0, 0],\n",
       "         [0, 0, 0, ..., 0, 0, 0]]], dtype=uint8),\n",
       " array([[[0, 0, 0, ..., 0, 0, 0],\n",
       "         [0, 0, 0, ..., 0, 0, 0],\n",
       "         [0, 0, 0, ..., 0, 0, 0],\n",
       "         ...,\n",
       "         [0, 0, 0, ..., 0, 0, 0],\n",
       "         [0, 0, 0, ..., 0, 0, 0],\n",
       "         [0, 0, 0, ..., 0, 0, 0]],\n",
       " \n",
       "        [[0, 0, 0, ..., 0, 0, 0],\n",
       "         [0, 0, 0, ..., 0, 0, 0],\n",
       "         [0, 0, 0, ..., 0, 0, 0],\n",
       "         ...,\n",
       "         [0, 0, 0, ..., 0, 0, 0],\n",
       "         [0, 0, 0, ..., 0, 0, 0],\n",
       "         [0, 0, 0, ..., 0, 0, 0]]], dtype=uint8),\n",
       " array([[[0, 0, 0, ..., 0, 0, 0],\n",
       "         [0, 0, 0, ..., 0, 0, 0],\n",
       "         [0, 0, 0, ..., 0, 0, 0],\n",
       "         ...,\n",
       "         [0, 0, 0, ..., 0, 0, 0],\n",
       "         [0, 0, 0, ..., 0, 0, 0],\n",
       "         [0, 0, 0, ..., 0, 0, 0]],\n",
       " \n",
       "        [[0, 0, 0, ..., 0, 0, 0],\n",
       "         [0, 0, 0, ..., 0, 0, 0],\n",
       "         [0, 0, 0, ..., 0, 0, 0],\n",
       "         ...,\n",
       "         [0, 0, 0, ..., 0, 0, 0],\n",
       "         [0, 0, 0, ..., 0, 0, 0],\n",
       "         [0, 0, 0, ..., 0, 0, 0]]], dtype=uint8),\n",
       " array([[[0, 0, 0, ..., 0, 0, 0],\n",
       "         [0, 0, 0, ..., 0, 0, 0],\n",
       "         [0, 0, 0, ..., 0, 0, 0],\n",
       "         ...,\n",
       "         [0, 0, 0, ..., 0, 0, 0],\n",
       "         [0, 0, 0, ..., 0, 0, 0],\n",
       "         [0, 0, 0, ..., 0, 0, 0]],\n",
       " \n",
       "        [[0, 0, 0, ..., 0, 0, 0],\n",
       "         [0, 0, 0, ..., 0, 0, 0],\n",
       "         [0, 0, 0, ..., 0, 0, 0],\n",
       "         ...,\n",
       "         [0, 0, 0, ..., 0, 0, 0],\n",
       "         [0, 0, 0, ..., 0, 0, 0],\n",
       "         [0, 0, 0, ..., 0, 0, 0]]], dtype=uint8),\n",
       " array([[[0, 0, 0, ..., 0, 0, 0],\n",
       "         [0, 0, 0, ..., 0, 0, 0],\n",
       "         [0, 0, 0, ..., 0, 0, 0],\n",
       "         ...,\n",
       "         [0, 0, 0, ..., 0, 0, 0],\n",
       "         [0, 0, 0, ..., 0, 0, 0],\n",
       "         [0, 0, 0, ..., 0, 0, 0]],\n",
       " \n",
       "        [[0, 0, 0, ..., 0, 0, 0],\n",
       "         [0, 0, 0, ..., 0, 0, 0],\n",
       "         [0, 0, 0, ..., 0, 0, 0],\n",
       "         ...,\n",
       "         [0, 0, 0, ..., 0, 0, 0],\n",
       "         [0, 0, 0, ..., 0, 0, 0],\n",
       "         [0, 0, 0, ..., 0, 0, 0]]], dtype=uint8),\n",
       " array([[[0, 0, 0, 0, 0, 0, 0, 0, 0, 0, 0, 0, 0, 0, 0, 0],\n",
       "         [0, 0, 0, 0, 0, 0, 0, 0, 0, 0, 0, 0, 0, 0, 0, 0],\n",
       "         [0, 0, 0, 0, 0, 0, 0, 0, 0, 0, 0, 0, 0, 0, 0, 0],\n",
       "         [0, 0, 0, 0, 0, 0, 0, 0, 0, 0, 0, 0, 0, 0, 0, 0],\n",
       "         [0, 0, 0, 0, 0, 0, 0, 0, 0, 0, 0, 0, 0, 0, 0, 0],\n",
       "         [0, 0, 0, 0, 0, 0, 0, 0, 1, 1, 1, 1, 1, 1, 2, 2],\n",
       "         [0, 0, 0, 0, 0, 0, 0, 0, 1, 1, 1, 1, 1, 1, 2, 2],\n",
       "         [0, 0, 0, 0, 0, 0, 0, 0, 1, 1, 2, 1, 1, 1, 2, 2],\n",
       "         [0, 0, 0, 0, 0, 0, 0, 0, 1, 1, 1, 1, 1, 2, 2, 2],\n",
       "         [0, 0, 0, 0, 0, 0, 0, 0, 1, 1, 2, 1, 2, 2, 2, 2],\n",
       "         [0, 0, 0, 0, 0, 0, 0, 0, 1, 2, 1, 2, 2, 2, 2, 1],\n",
       "         [0, 0, 0, 0, 0, 0, 0, 0, 1, 1, 2, 2, 2, 2, 1, 1],\n",
       "         [0, 0, 0, 0, 0, 0, 0, 0, 2, 2, 2, 2, 2, 1, 1, 1],\n",
       "         [0, 0, 0, 0, 0, 0, 0, 0, 2, 2, 2, 2, 2, 1, 1, 1],\n",
       "         [0, 0, 0, 0, 0, 0, 0, 0, 0, 0, 0, 0, 0, 0, 0, 0],\n",
       "         [0, 0, 0, 0, 0, 0, 0, 0, 0, 0, 0, 0, 0, 0, 0, 0]],\n",
       " \n",
       "        [[0, 0, 0, 0, 0, 0, 0, 0, 1, 1, 0, 0, 0, 0, 0, 0],\n",
       "         [0, 0, 0, 0, 0, 0, 0, 1, 1, 1, 1, 1, 1, 0, 0, 0],\n",
       "         [0, 0, 0, 0, 0, 0, 0, 1, 1, 1, 1, 1, 2, 2, 2, 1],\n",
       "         [0, 0, 0, 0, 0, 0, 0, 1, 1, 1, 2, 2, 2, 2, 2, 2],\n",
       "         [0, 0, 0, 0, 0, 0, 2, 2, 2, 2, 2, 2, 2, 2, 2, 2],\n",
       "         [0, 0, 0, 0, 0, 0, 2, 2, 2, 2, 2, 2, 1, 1, 1, 1],\n",
       "         [0, 0, 0, 0, 0, 0, 2, 2, 2, 2, 1, 1, 1, 1, 1, 0],\n",
       "         [0, 0, 0, 0, 0, 2, 2, 2, 1, 1, 2, 1, 1, 1, 1, 0],\n",
       "         [0, 0, 0, 0, 0, 0, 0, 1, 2, 1, 1, 1, 1, 1, 1, 0],\n",
       "         [0, 0, 0, 0, 0, 0, 0, 0, 0, 0, 1, 1, 1, 2, 0, 0],\n",
       "         [0, 0, 0, 0, 0, 0, 0, 0, 0, 0, 0, 0, 1, 1, 0, 0],\n",
       "         [0, 0, 0, 0, 0, 0, 0, 0, 0, 0, 0, 0, 0, 0, 0, 0],\n",
       "         [0, 0, 0, 0, 0, 0, 0, 0, 0, 0, 0, 0, 0, 0, 0, 0],\n",
       "         [0, 0, 0, 0, 0, 0, 0, 0, 0, 0, 0, 0, 0, 0, 0, 0],\n",
       "         [0, 0, 0, 0, 0, 0, 0, 0, 0, 0, 0, 0, 0, 0, 0, 0],\n",
       "         [0, 0, 0, 0, 0, 0, 0, 0, 0, 0, 0, 0, 0, 0, 0, 0]]], dtype=uint8),\n",
       " {'mode': 'training',\n",
       "  'sample_references': [{'reference': WholeSlideSampleReference(file_index=0, file_key='0', wsa_index=0, annotation_index=15),\n",
       "    'point': (21449.30429879122, 12909.091511943525)},\n",
       "   {'reference': WholeSlideSampleReference(file_index=0, file_key='0', wsa_index=0, annotation_index=20),\n",
       "    'point': (21514.515944810115, 13194.597754203827)}],\n",
       "  'index': 3})"
      ]
     },
     "execution_count": 35,
     "metadata": {},
     "output_type": "execute_result"
    }
   ],
   "source": [
    "x_batch, y_batch, *extras, _  "
   ]
  },
  {
   "cell_type": "code",
   "execution_count": null,
   "id": "41b9c41c-ecd3-43fc-9ea8-0fe179ae561f",
   "metadata": {},
   "outputs": [],
   "source": []
  },
  {
   "cell_type": "code",
   "execution_count": null,
   "id": "97fe6610-93d0-428e-9378-1b61057679c5",
   "metadata": {},
   "outputs": [],
   "source": []
  },
  {
   "cell_type": "code",
   "execution_count": null,
   "id": "af91f53a-1fe5-45d7-8e19-dd4557b373f9",
   "metadata": {},
   "outputs": [],
   "source": []
  },
  {
   "cell_type": "code",
   "execution_count": null,
   "id": "e5e7c380-756e-44e9-a7b2-141bc8350bd1",
   "metadata": {},
   "outputs": [],
   "source": []
  },
  {
   "cell_type": "code",
   "execution_count": null,
   "id": "47ed8bdb-dfd2-42d8-a033-49d28b8077ce",
   "metadata": {},
   "outputs": [],
   "source": []
  },
  {
   "cell_type": "code",
   "execution_count": null,
   "id": "608284ec-b45d-4429-b082-9de280ce07d5",
   "metadata": {},
   "outputs": [],
   "source": []
  },
  {
   "cell_type": "code",
   "execution_count": null,
   "id": "85136ef3-c2ad-4f2f-8595-4f2fd41e6b81",
   "metadata": {},
   "outputs": [],
   "source": []
  },
  {
   "cell_type": "code",
   "execution_count": null,
   "id": "d4c28cf5-ec24-4e65-a963-91b17fa4cd34",
   "metadata": {},
   "outputs": [],
   "source": []
  },
  {
   "cell_type": "code",
   "execution_count": null,
   "id": "6ff55e38-24fb-42aa-89b8-5984d8423ea4",
   "metadata": {},
   "outputs": [],
   "source": []
  },
  {
   "cell_type": "code",
   "execution_count": null,
   "id": "a3b7485b-97fe-41f8-9a9d-565e821e880b",
   "metadata": {},
   "outputs": [],
   "source": []
  },
  {
   "cell_type": "code",
   "execution_count": null,
   "id": "ce2b2e61-5386-4535-9298-85bf9bcea650",
   "metadata": {},
   "outputs": [],
   "source": []
  },
  {
   "cell_type": "code",
   "execution_count": null,
   "id": "d52b0ccf-2ca5-48d8-a998-255756413e45",
   "metadata": {},
   "outputs": [],
   "source": []
  },
  {
   "cell_type": "code",
   "execution_count": null,
   "id": "aba23e7e-ee89-4b9a-a352-ea6e2cdfd13c",
   "metadata": {},
   "outputs": [],
   "source": []
  },
  {
   "cell_type": "code",
   "execution_count": null,
   "id": "bc6fa785-cde3-4fa2-b5d0-378dcbf884be",
   "metadata": {},
   "outputs": [],
   "source": []
  },
  {
   "cell_type": "code",
   "execution_count": null,
   "id": "2511cdcb-6519-4890-b633-3e28ea7ee435",
   "metadata": {},
   "outputs": [],
   "source": []
  },
  {
   "cell_type": "code",
   "execution_count": null,
   "id": "e75f0cc7-c256-487c-91b9-b9fed3d7cb43",
   "metadata": {},
   "outputs": [],
   "source": []
  },
  {
   "cell_type": "code",
   "execution_count": 69,
   "id": "010d06c1-020a-4b79-8f8f-b3ed65e55574",
   "metadata": {},
   "outputs": [
    {
     "data": {
      "text/plain": [
       "(16, 16)"
      ]
     },
     "execution_count": 69,
     "metadata": {},
     "output_type": "execute_result"
    }
   ],
   "source": [
    "extra.shape[-2:]"
   ]
  },
  {
   "cell_type": "code",
   "execution_count": 58,
   "id": "37b96717-62fd-4da5-ad74-4d41ca551f21",
   "metadata": {},
   "outputs": [
    {
     "data": {
      "text/plain": [
       "(2, 1024, 1024)"
      ]
     },
     "execution_count": 58,
     "metadata": {},
     "output_type": "execute_result"
    }
   ],
   "source": [
    "y_batch.shape"
   ]
  },
  {
   "cell_type": "code",
   "execution_count": 29,
   "id": "15079264-1243-463b-8087-398c8cde22cd",
   "metadata": {},
   "outputs": [
    {
     "data": {
      "text/plain": [
       "(2, 16, 16)"
      ]
     },
     "execution_count": 29,
     "metadata": {},
     "output_type": "execute_result"
    }
   ],
   "source": [
    "extra.shape"
   ]
  },
  {
   "cell_type": "code",
   "execution_count": 31,
   "id": "86edda66-95c5-4ecc-bce0-35a226e43d5e",
   "metadata": {},
   "outputs": [
    {
     "data": {
      "text/plain": [
       "(2, 16, 16, 1)"
      ]
     },
     "execution_count": 31,
     "metadata": {},
     "output_type": "execute_result"
    }
   ],
   "source": [
    "np.expand_dims(extra, -1).shape"
   ]
  },
  {
   "cell_type": "code",
   "execution_count": 38,
   "id": "4a332591-1836-461e-a73e-abf05f240592",
   "metadata": {},
   "outputs": [
    {
     "data": {
      "text/plain": [
       "array([[[0, 0, 0, 0, 1, 1, 1, 1],\n",
       "        [0, 0, 0, 0, 1, 1, 1, 1],\n",
       "        [0, 0, 0, 0, 1, 1, 1, 1],\n",
       "        [0, 0, 0, 0, 1, 1, 1, 2],\n",
       "        [0, 0, 0, 0, 2, 1, 2, 2],\n",
       "        [0, 0, 0, 0, 1, 2, 2, 2],\n",
       "        [0, 0, 0, 0, 2, 2, 2, 2],\n",
       "        [0, 0, 0, 0, 2, 2, 2, 2]],\n",
       "\n",
       "       [[0, 1, 2, 2, 2, 2, 1, 1],\n",
       "        [0, 1, 2, 2, 2, 1, 1, 1],\n",
       "        [0, 1, 1, 2, 2, 2, 2, 2],\n",
       "        [0, 1, 1, 1, 2, 2, 2, 1],\n",
       "        [0, 1, 1, 1, 1, 2, 2, 2],\n",
       "        [0, 0, 0, 0, 0, 0, 0, 0],\n",
       "        [0, 0, 0, 0, 0, 0, 0, 0],\n",
       "        [0, 0, 0, 0, 0, 0, 0, 0]]], dtype=uint8)"
      ]
     },
     "execution_count": 38,
     "metadata": {},
     "output_type": "execute_result"
    }
   ],
   "source": [
    "crop_data(np.expand_dims(extra, -1), [8, 8]).squeeze()"
   ]
  },
  {
   "cell_type": "code",
   "execution_count": 39,
   "id": "d275d1db-7b59-4f86-86cf-ac8262afd175",
   "metadata": {},
   "outputs": [
    {
     "data": {
      "text/plain": [
       "(2, 16, 16)"
      ]
     },
     "execution_count": 39,
     "metadata": {},
     "output_type": "execute_result"
    }
   ],
   "source": [
    "extra.shape"
   ]
  },
  {
   "cell_type": "code",
   "execution_count": 32,
   "id": "92427cd7-f41b-438d-bcd0-96685997acff",
   "metadata": {},
   "outputs": [
    {
     "data": {
      "text/plain": [
       "array([], shape=(2, 0, 0), dtype=uint8)"
      ]
     },
     "execution_count": 32,
     "metadata": {},
     "output_type": "execute_result"
    }
   ],
   "source": [
    "cropped_extra"
   ]
  },
  {
   "cell_type": "code",
   "execution_count": 45,
   "id": "41a5c804-f109-43a9-ae00-d3b51a0f77b6",
   "metadata": {},
   "outputs": [
    {
     "data": {
      "text/plain": [
       "[256, 256]"
      ]
     },
     "execution_count": 45,
     "metadata": {},
     "output_type": "execute_result"
    }
   ],
   "source": [
    "[shape//2 for shape in extra.shape[-2:]]"
   ]
  },
  {
   "cell_type": "code",
   "execution_count": 46,
   "id": "14bd83ff-f1c0-425c-b903-30755ffa7882",
   "metadata": {},
   "outputs": [
    {
     "name": "stdout",
     "output_type": "stream",
     "text": [
      "(2, 512, 512) (2, 256, 256)\n",
      "(2, 256, 256) (2, 128, 128)\n",
      "(2, 128, 128) (2, 64, 64)\n",
      "(2, 64, 64) (2, 32, 32)\n",
      "(2, 32, 32) (2, 16, 16)\n",
      "(2, 16, 16) (2, 8, 8)\n"
     ]
    }
   ],
   "source": [
    "for extra in extras:\n",
    "    cropped_extra = crop_data(np.expand_dims(extra, -1), [shape//2 for shape in extra.shape[-2:]]).squeeze()\n",
    "    print(extra.shape, cropped_extra.shape)"
   ]
  },
  {
   "cell_type": "code",
   "execution_count": null,
   "id": "6ee151a5-92de-4a90-afac-7c1fd03b21bb",
   "metadata": {},
   "outputs": [],
   "source": []
  },
  {
   "cell_type": "code",
   "execution_count": null,
   "id": "9d1f4c8a-5435-4b08-83c3-adb64f0e3629",
   "metadata": {},
   "outputs": [],
   "source": []
  },
  {
   "cell_type": "code",
   "execution_count": null,
   "id": "c04f4237-3b8c-4b3d-adfc-f508ef437c45",
   "metadata": {},
   "outputs": [],
   "source": []
  },
  {
   "cell_type": "code",
   "execution_count": 14,
   "id": "eabb54db-71e1-4440-aff4-09d23df399ab",
   "metadata": {},
   "outputs": [
    {
     "data": {
      "text/plain": [
       "dtype('uint16')"
      ]
     },
     "execution_count": 14,
     "metadata": {},
     "output_type": "execute_result"
    }
   ],
   "source": [
    "batch[0][0].dtype"
   ]
  },
  {
   "cell_type": "code",
   "execution_count": null,
   "id": "3cbed52b-6206-4b9a-b746-68e2e0c6e2b5",
   "metadata": {},
   "outputs": [],
   "source": [
    "crop_data(batch[0], [512, 512]).shape"
   ]
  },
  {
   "cell_type": "code",
   "execution_count": null,
   "id": "e76ce471-b822-4488-8785-a14c7132688d",
   "metadata": {},
   "outputs": [],
   "source": []
  },
  {
   "cell_type": "code",
   "execution_count": 11,
   "id": "3c804bfc-f5f1-45ca-9b03-49d0c88aece9",
   "metadata": {},
   "outputs": [
    {
     "data": {
      "text/plain": [
       "3"
      ]
     },
     "execution_count": 11,
     "metadata": {},
     "output_type": "execute_result"
    }
   ],
   "source": [
    "len(batch)"
   ]
  },
  {
   "cell_type": "code",
   "execution_count": 12,
   "id": "026b0b87-c87f-43cc-981c-ffa7d67faa4e",
   "metadata": {},
   "outputs": [
    {
     "ename": "TypeError",
     "evalue": "list indices must be integers or slices, not str",
     "output_type": "error",
     "traceback": [
      "\u001b[0;31m---------------------------------------------------------------------------\u001b[0m",
      "\u001b[0;31mTypeError\u001b[0m                                 Traceback (most recent call last)",
      "Input \u001b[0;32mIn [12]\u001b[0m, in \u001b[0;36m<cell line: 1>\u001b[0;34m()\u001b[0m\n\u001b[0;32m----> 1\u001b[0m plt\u001b[38;5;241m.\u001b[39mimshow(\u001b[43mbatch\u001b[49m\u001b[43m[\u001b[49m\u001b[38;5;124;43m'\u001b[39;49m\u001b[38;5;124;43mdata\u001b[39;49m\u001b[38;5;124;43m'\u001b[39;49m\u001b[43m]\u001b[49m[\u001b[38;5;241m0\u001b[39m]\u001b[38;5;241m.\u001b[39mtranspose(\u001b[38;5;241m1\u001b[39m, \u001b[38;5;241m2\u001b[39m, \u001b[38;5;241m0\u001b[39m))\n",
      "\u001b[0;31mTypeError\u001b[0m: list indices must be integers or slices, not str"
     ]
    }
   ],
   "source": [
    "plt.imshow(batch['data'][0].transpose(1, 2, 0))"
   ]
  },
  {
   "cell_type": "code",
   "execution_count": null,
   "id": "52ef3cba-f75c-483e-adea-a05130c5884d",
   "metadata": {},
   "outputs": [],
   "source": [
    "batch"
   ]
  },
  {
   "cell_type": "code",
   "execution_count": null,
   "id": "412870c8-5c13-428a-ae1d-c5cd8ec6e342",
   "metadata": {},
   "outputs": [],
   "source": []
  },
  {
   "cell_type": "code",
   "execution_count": null,
   "id": "dd358d21-c5eb-4737-8cb7-29a42702be31",
   "metadata": {},
   "outputs": [],
   "source": [
    "batch['data'][0]"
   ]
  },
  {
   "cell_type": "code",
   "execution_count": null,
   "id": "6fe5098e-18ed-4e63-b201-2e052427100e",
   "metadata": {},
   "outputs": [],
   "source": []
  },
  {
   "cell_type": "code",
   "execution_count": null,
   "id": "1beac35f-4a03-443d-adb3-6483584c59b4",
   "metadata": {},
   "outputs": [],
   "source": []
  },
  {
   "cell_type": "code",
   "execution_count": null,
   "id": "94d7909a-da1c-4016-8161-d64c2e77d2eb",
   "metadata": {},
   "outputs": [],
   "source": [
    "x_ex = [np.ones((512, 512, 3)), np.ones((512, 512, 3))]"
   ]
  },
  {
   "cell_type": "code",
   "execution_count": null,
   "id": "b75bb0be-dad1-4b2d-a5f4-8e71cd34020f",
   "metadata": {},
   "outputs": [],
   "source": [
    "np.stack([x for x in x_ex]).transpose((0, 3, 1, 2)).shape"
   ]
  },
  {
   "cell_type": "code",
   "execution_count": null,
   "id": "62104c46-501a-4d21-842c-8b5ff4a5e5bb",
   "metadata": {},
   "outputs": [],
   "source": [
    "np.concatenate(x_ex, axis=0).shape"
   ]
  },
  {
   "cell_type": "code",
   "execution_count": null,
   "id": "707e7551-4c29-4dd4-aa95-407917748f8e",
   "metadata": {},
   "outputs": [],
   "source": [
    "batch['data'].shape"
   ]
  },
  {
   "cell_type": "code",
   "execution_count": null,
   "id": "39991ed2-6755-4941-b3ad-a1d17351eee2",
   "metadata": {},
   "outputs": [],
   "source": [
    "batch['target'].shape"
   ]
  },
  {
   "cell_type": "code",
   "execution_count": null,
   "id": "18641f0a-c854-4a19-b783-5486964f5d6e",
   "metadata": {},
   "outputs": [],
   "source": [
    "batch"
   ]
  },
  {
   "cell_type": "code",
   "execution_count": null,
   "id": "2cf38204-4d86-4c91-ba3c-0aa3a0541f8a",
   "metadata": {},
   "outputs": [],
   "source": [
    "batch['data'].shape"
   ]
  },
  {
   "cell_type": "code",
   "execution_count": null,
   "id": "356a02d5-102d-42fb-a96b-c965a4a75179",
   "metadata": {},
   "outputs": [],
   "source": [
    "batch['seg'].shape"
   ]
  },
  {
   "cell_type": "code",
   "execution_count": null,
   "id": "c1a9dcdc-98b7-4716-b56d-e1ce41c2a106",
   "metadata": {},
   "outputs": [],
   "source": [
    "x_batch.shape"
   ]
  },
  {
   "cell_type": "code",
   "execution_count": null,
   "id": "7b1bcf0f-b478-41d0-a2b3-63e825e13869",
   "metadata": {},
   "outputs": [],
   "source": [
    "y_batch.shape"
   ]
  },
  {
   "cell_type": "code",
   "execution_count": null,
   "id": "94655a80-2695-46a5-87aa-d44ed551cf87",
   "metadata": {},
   "outputs": [],
   "source": []
  }
 ],
 "metadata": {
  "kernelspec": {
   "display_name": "Python 3 (ipykernel)",
   "language": "python",
   "name": "python3"
  },
  "language_info": {
   "codemirror_mode": {
    "name": "ipython",
    "version": 3
   },
   "file_extension": ".py",
   "mimetype": "text/x-python",
   "name": "python",
   "nbconvert_exporter": "python",
   "pygments_lexer": "ipython3",
   "version": "3.9.13"
  }
 },
 "nbformat": 4,
 "nbformat_minor": 5
}
