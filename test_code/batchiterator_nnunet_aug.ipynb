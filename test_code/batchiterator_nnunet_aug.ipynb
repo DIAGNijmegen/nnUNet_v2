{
 "cells": [
  {
   "cell_type": "markdown",
   "id": "275b29fc",
   "metadata": {},
   "source": [
    "# BatchIterator"
   ]
  },
  {
   "cell_type": "code",
   "execution_count": null,
   "id": "aab6bd99-1c8f-48e6-b328-d9211bd06ed0",
   "metadata": {},
   "outputs": [],
   "source": [
    "!pip install git+https://github.com/DIAGNijmegen/pathology-whole-slide-data@main"
   ]
  },
  {
   "cell_type": "code",
   "execution_count": 1,
   "id": "bbaaee77",
   "metadata": {
    "tags": []
   },
   "outputs": [],
   "source": [
    "import os\n",
    "if os.name =='nt':\n",
    "    os.add_dll_directory(r\"C:\\Program Files\\openslide\\bin\") # windows\n",
    "from wholeslidedata.iterators import create_batch_iterator\n",
    "from wholeslidedata.visualization.plotting import plot_batch\n",
    "from dicfg.magics import ConfigMagics\n",
    "from wholeslidedata.samplers.callbacks import BatchCallback\n",
    "\n",
    "from batchgenerators.transforms.abstract_transforms import AbstractTransform, Compose\n",
    "from batchgenerators.transforms.color_transforms import BrightnessMultiplicativeTransform, \\\n",
    "    ContrastAugmentationTransform, GammaTransform\n",
    "from batchgenerators.transforms.noise_transforms import GaussianNoiseTransform, GaussianBlurTransform\n",
    "from batchgenerators.transforms.resample_transforms import SimulateLowResolutionTransform\n",
    "from batchgenerators.transforms.spatial_transforms import SpatialTransform, MirrorTransform\n",
    "from batchgenerators.transforms.utility_transforms import RemoveLabelTransform, RenameTransform, NumpyToTensor\n",
    "\n",
    "# This will allow loading yaml in an notebook cell\n",
    "ConfigMagics.register_magics()\n",
    "\n",
    "import matplotlib.pyplot as plt\n",
    "\n",
    "import numpy as np\n",
    "\n",
    "from multiprocessing import freeze_support"
   ]
  },
  {
   "cell_type": "code",
   "execution_count": 2,
   "id": "49ab1d36-65ed-4495-b5e0-8390f6dca689",
   "metadata": {
    "tags": []
   },
   "outputs": [],
   "source": [
    "class NNUnetBatchCallback(BatchCallback):\n",
    "    \n",
    "    # patch_size_spatial (width/height)\n",
    "    def __init__(self, patch_size_spatial):\n",
    "        pass\n",
    "        tr_transforms = []\n",
    "        rotation_for_DA= {'x': (-3.141592653589793, 3.141592653589793), 'y': (0, 0), 'z': (0, 0)}\n",
    "        # tr_transforms.append(SpatialTransform(\n",
    "        #     patch_size_spatial, \n",
    "        #     patch_center_dist_from_border=None,\n",
    "        #     do_elastic_deform=False,\n",
    "        #     alpha=(0, 0),\n",
    "        #     sigma=(0, 0),\n",
    "        #     do_rotation=True,\n",
    "        #     angle_x=rotation_for_DA['x'],\n",
    "        #     angle_y=rotation_for_DA['y'],\n",
    "        #     angle_z=rotation_for_DA['z'],\n",
    "        #     p_rot_per_axis=1,  # todo experiment with this\n",
    "        #     do_scale=True,\n",
    "        #     scale=(0.7, 1.4),\n",
    "        #     border_mode_data=\"constant\",\n",
    "        #     border_cval_data=0,\n",
    "        #     order_data=3,\n",
    "        #     border_mode_seg=\"constant\",\n",
    "        #     border_cval_seg=-1,\n",
    "        #     order_seg=1,\n",
    "        #     random_crop=False,  # random cropping is part of our dataloaders\n",
    "        #     p_el_per_sample=0,\n",
    "        #     p_scale_per_sample=0.2,\n",
    "        #     p_rot_per_sample=0.2,\n",
    "        #     independent_scale_for_each_axis=False  # todo experiment with this\n",
    "        # ))\n",
    "\n",
    "        tr_transforms.append(GaussianNoiseTransform(p_per_sample=0.1))\n",
    "        tr_transforms.append(GaussianBlurTransform((0.5, 1.), different_sigma_per_channel=True, p_per_sample=0.2,\n",
    "                                                   p_per_channel=0.5))\n",
    "        \n",
    "        # tr_transforms.append(BrightnessMultiplicativeTransform(multiplier_range=(0.75, 1.25), p_per_sample=0.15))\n",
    "        \n",
    "        \n",
    "        tr_transforms.append(ContrastAugmentationTransform(p_per_sample=0.15))\n",
    "        tr_transforms.append(SimulateLowResolutionTransform(zoom_range=(0.5, 1), per_channel=True,\n",
    "                                                            p_per_channel=0.5,\n",
    "                                                            order_downsample=0, order_upsample=3, p_per_sample=0.25,\n",
    "                                                            ignore_axes=None))\n",
    "        tr_transforms.append(GammaTransform((0.7, 1.5), True, True, retain_stats=True, p_per_sample=0.1))\n",
    "        tr_transforms.append(GammaTransform((0.7, 1.5), False, True, retain_stats=True, p_per_sample=0.3))\n",
    "        \n",
    "\n",
    "        \n",
    "        # tr_transforms.append(MirrorTransform((0,1)))\n",
    "        # tr_transforms.append(RemoveLabelTransform(-1, 0))\n",
    "        \n",
    "        \n",
    "        self._transforms = Compose(tr_transforms)\n",
    "                 \n",
    "    def __call__(self, x_batch, y_batch):\n",
    "        # data = self._transforms(**{'data': x_batch, 'seg': y_batch})\n",
    "        return data.values()\n"
   ]
  },
  {
   "cell_type": "code",
   "execution_count": 3,
   "id": "7497514d",
   "metadata": {
    "tags": []
   },
   "outputs": [],
   "source": [
    "# %%yaml user_config \n",
    "\n",
    "# wholeslidedata:\n",
    "#     default:\n",
    "#         yaml_source:\n",
    "#             training:\n",
    "#             -   wsi: \n",
    "#                     path: C:\\Users\\joeyspronck\\Documents\\Other\\wsirois\\wsi-level-annotations\\images\\100B.tif\n",
    "#                 wsa: \n",
    "#                     path: C:\\Users\\joeyspronck\\Documents\\Other\\wsirois\\wsi-level-annotations\\annotations-tissue-cells-xmls\\100B.xml\n",
    "                        \n",
    "#         labels:\n",
    "#             invasive tumor: 1\n",
    "#             tumor-associated stroma: 2\n",
    "#             in-situ tumor: 3\n",
    "#             healthy glands: 4\n",
    "#             necrosis not in-situ: 5\n",
    "#             inflamed stroma: 6\n",
    "#             rest: 7\n",
    "            \n",
    "#         batch_shape:\n",
    "#             batch_size: 2\n",
    "#             spacing: 1.0\n",
    "#             shape: [512, 512, 3]\n",
    "            \n",
    "#         batch_callbacks: \n",
    "#             - \"*object\": __main__.NNUnetBatchCallback\n",
    "#               patch_size_spatial: [512,512]"
   ]
  },
  {
   "cell_type": "code",
   "execution_count": 3,
   "id": "4229952a-7099-4d8a-bff1-45da7561b62d",
   "metadata": {
    "tags": []
   },
   "outputs": [],
   "source": [
    "%%yaml user_config \n",
    "\n",
    "wholeslidedata:\n",
    "    default:\n",
    "        yaml_source:\n",
    "            training:\n",
    "            -   wsi: \n",
    "                    path: /data/pathology/projects/tiger/new_structure/training/wsirois/wsi-level-annotations/images/100B.tif\n",
    "                wsa: \n",
    "                    path: /data/pathology/projects/tiger/new_structure/training/wsirois/wsi-level-annotations/annotations-tissue-cells-xmls/100B.xml\n",
    "                        \n",
    "        labels:\n",
    "            invasive tumor: 1\n",
    "            tumor-associated stroma: 2\n",
    "            in-situ tumor: 3\n",
    "            healthy glands: 4\n",
    "            necrosis not in-situ: 5\n",
    "            inflamed stroma: 6\n",
    "            rest: 7\n",
    "            \n",
    "        batch_shape:\n",
    "            batch_size: 2\n",
    "            spacing: 1.0\n",
    "            shape: [512, 512, 3]\n",
    "            \n",
    "        batch_callbacks: \n",
    "            - \"*object\": __main__.NNUnetBatchCallback\n",
    "              patch_size_spatial: [512,512]"
   ]
  },
  {
   "cell_type": "markdown",
   "id": "76f78750",
   "metadata": {},
   "source": [
    ":::{seealso}\n",
    " - For more information about the **mode**, please see the user guide about [modes](./modes)\n",
    " - For an explanation about the **user_config** please see the [batchiterator configuration](/userguide/index.html#batchiterator-configuration)\n",
    ":::"
   ]
  },
  {
   "cell_type": "code",
   "execution_count": 4,
   "id": "7965e295-d36a-43f9-a26d-53c4a960ab1c",
   "metadata": {
    "tags": []
   },
   "outputs": [],
   "source": [
    "import yaml"
   ]
  },
  {
   "cell_type": "code",
   "execution_count": 5,
   "id": "d655db15-5fec-49ca-859a-649de3074305",
   "metadata": {
    "tags": []
   },
   "outputs": [],
   "source": [
    "%matplotlib inline"
   ]
  },
  {
   "cell_type": "code",
   "execution_count": 7,
   "id": "f1434990-14e2-4e81-bea2-3fe8248c4d34",
   "metadata": {
    "tags": []
   },
   "outputs": [
    {
     "name": "stderr",
     "output_type": "stream",
     "text": [
      "/home/user/.local/lib/python3.9/site-packages/sourcelib/associations.py:103: UserWarning: Could not find matching files for key: C:\\Users\\joeyspronck\\Documents\\Other\\wsirois\\wsi-level-annotations\\images\\100B\n",
      "  warnings.warn(f\"Could not find matching files for key: {remove_key}\")\n"
     ]
    },
    {
     "ename": "ValueError",
     "evalue": "No samples found in training DataSet: \n{}",
     "output_type": "error",
     "traceback": [
      "\u001b[0;31m---------------------------------------------------------------------------\u001b[0m",
      "\u001b[0;31mValueError\u001b[0m                                Traceback (most recent call last)",
      "Input \u001b[0;32mIn [7]\u001b[0m, in \u001b[0;36m<cell line: 1>\u001b[0;34m()\u001b[0m\n\u001b[0;32m----> 1\u001b[0m \u001b[38;5;28;01mwith\u001b[39;00m \u001b[43mcreate_batch_iterator\u001b[49m\u001b[43m(\u001b[49m\u001b[43muser_config\u001b[49m\u001b[38;5;241;43m=\u001b[39;49m\u001b[43muser_config\u001b[49m\u001b[43m,\u001b[49m\u001b[43m \u001b[49m\n\u001b[1;32m      2\u001b[0m \u001b[43m                           \u001b[49m\u001b[43mcontext\u001b[49m\u001b[38;5;241;43m=\u001b[39;49m\u001b[38;5;124;43m'\u001b[39;49m\u001b[38;5;124;43mspawn\u001b[39;49m\u001b[38;5;124;43m'\u001b[39;49m\u001b[43m \u001b[49m\u001b[38;5;28;43;01mif\u001b[39;49;00m\u001b[43m \u001b[49m\u001b[43mos\u001b[49m\u001b[38;5;241;43m.\u001b[39;49m\u001b[43mname\u001b[49m\u001b[38;5;241;43m==\u001b[39;49m\u001b[38;5;124;43m'\u001b[39;49m\u001b[38;5;124;43mnt\u001b[39;49m\u001b[38;5;124;43m'\u001b[39;49m\u001b[43m \u001b[49m\u001b[38;5;28;43;01melse\u001b[39;49;00m\u001b[43m \u001b[49m\u001b[38;5;124;43m'\u001b[39;49m\u001b[38;5;124;43mfork\u001b[39;49m\u001b[38;5;124;43m'\u001b[39;49m\u001b[43m,\u001b[49m\n\u001b[1;32m      3\u001b[0m \u001b[43m                            \u001b[49m\u001b[43mmode\u001b[49m\u001b[38;5;241;43m=\u001b[39;49m\u001b[38;5;124;43m'\u001b[39;49m\u001b[38;5;124;43mtraining\u001b[39;49m\u001b[38;5;124;43m'\u001b[39;49m\u001b[43m)\u001b[49m \u001b[38;5;28;01mas\u001b[39;00m training_batch_generator:\n\u001b[1;32m      4\u001b[0m     \u001b[38;5;28;01mfor\u001b[39;00m i \u001b[38;5;129;01min\u001b[39;00m \u001b[38;5;28mrange\u001b[39m(\u001b[38;5;241m4\u001b[39m):\n\u001b[1;32m      5\u001b[0m         \u001b[38;5;28mprint\u001b[39m(i)\n",
      "File \u001b[0;32m~/.local/lib/python3.9/site-packages/wholeslidedata/iterators/batchiterator.py:160\u001b[0m, in \u001b[0;36mcreate_batch_iterator\u001b[0;34m(user_config, mode, number_of_batches, index, update_samplers, return_info, search_paths, presets, cpus, context, determinstic, extras_shapes, buffer_dtype, iterator_class)\u001b[0m\n\u001b[1;32m    158\u001b[0m     batch_left \u001b[38;5;241m=\u001b[39m \u001b[38;5;241m0\u001b[39m\n\u001b[1;32m    159\u001b[0m \u001b[38;5;28;01melse\u001b[39;00m:\n\u001b[0;32m--> 160\u001b[0m     dataset \u001b[38;5;241m=\u001b[39m \u001b[43mbuild_config\u001b[49m\u001b[43m(\u001b[49m\u001b[43mconfig\u001b[49m\u001b[43m[\u001b[49m\u001b[43mmode\u001b[49m\u001b[43m]\u001b[49m\u001b[43m)\u001b[49m[\u001b[38;5;124m\"\u001b[39m\u001b[38;5;124mdataset\u001b[39m\u001b[38;5;124m\"\u001b[39m]\n\u001b[1;32m    161\u001b[0m     number_of_batches, batch_left \u001b[38;5;241m=\u001b[39m get_number_of_batches(\n\u001b[1;32m    162\u001b[0m         number_of_batches, dataset, batch_shape\u001b[38;5;241m.\u001b[39mbatch_size\n\u001b[1;32m    163\u001b[0m     )\n\u001b[1;32m    165\u001b[0m update_queue \u001b[38;5;241m=\u001b[39m Queue() \u001b[38;5;28;01mif\u001b[39;00m update_samplers \u001b[38;5;28;01melse\u001b[39;00m \u001b[38;5;28;01mNone\u001b[39;00m\n",
      "File \u001b[0;32m~/.local/lib/python3.9/site-packages/dicfg/factory.py:116\u001b[0m, in \u001b[0;36mbuild_config\u001b[0;34m(config)\u001b[0m\n\u001b[1;32m    106\u001b[0m \u001b[38;5;28;01mdef\u001b[39;00m \u001b[38;5;21mbuild_config\u001b[39m(config: \u001b[38;5;28mdict\u001b[39m):\n\u001b[1;32m    107\u001b[0m     \u001b[38;5;124;03m\"\"\"Builds config\u001b[39;00m\n\u001b[1;32m    108\u001b[0m \n\u001b[1;32m    109\u001b[0m \u001b[38;5;124;03m    Args:\u001b[39;00m\n\u001b[0;32m   (...)\u001b[0m\n\u001b[1;32m    113\u001b[0m \u001b[38;5;124;03m        dict: build config\u001b[39;00m\n\u001b[1;32m    114\u001b[0m \u001b[38;5;124;03m    \"\"\"\u001b[39;00m\n\u001b[0;32m--> 116\u001b[0m     \u001b[38;5;28;01mreturn\u001b[39;00m \u001b[43m_ObjectFactory\u001b[49m\u001b[43m(\u001b[49m\u001b[43mdeepcopy\u001b[49m\u001b[43m(\u001b[49m\u001b[43mconfig\u001b[49m\u001b[43m)\u001b[49m\u001b[43m)\u001b[49m\u001b[38;5;241;43m.\u001b[39;49m\u001b[43mbuild_config\u001b[49m\u001b[43m(\u001b[49m\u001b[43m)\u001b[49m\n",
      "File \u001b[0;32m~/.local/lib/python3.9/site-packages/dicfg/factory.py:26\u001b[0m, in \u001b[0;36m_ObjectFactory.build_config\u001b[0;34m(self)\u001b[0m\n\u001b[1;32m     25\u001b[0m \u001b[38;5;28;01mdef\u001b[39;00m \u001b[38;5;21mbuild_config\u001b[39m(\u001b[38;5;28mself\u001b[39m):\n\u001b[0;32m---> 26\u001b[0m     \u001b[38;5;28;01mreturn\u001b[39;00m \u001b[38;5;28;43mself\u001b[39;49m\u001b[38;5;241;43m.\u001b[39;49m\u001b[43m_build\u001b[49m\u001b[43m(\u001b[49m\u001b[38;5;28;43mself\u001b[39;49m\u001b[38;5;241;43m.\u001b[39;49m\u001b[43m_configuration\u001b[49m\u001b[43m)\u001b[49m\n",
      "File \u001b[0;32m/usr/local/lib/python3.9/functools.py:938\u001b[0m, in \u001b[0;36msingledispatchmethod.__get__.<locals>._method\u001b[0;34m(*args, **kwargs)\u001b[0m\n\u001b[1;32m    936\u001b[0m \u001b[38;5;28;01mdef\u001b[39;00m \u001b[38;5;21m_method\u001b[39m(\u001b[38;5;241m*\u001b[39margs, \u001b[38;5;241m*\u001b[39m\u001b[38;5;241m*\u001b[39mkwargs):\n\u001b[1;32m    937\u001b[0m     method \u001b[38;5;241m=\u001b[39m \u001b[38;5;28mself\u001b[39m\u001b[38;5;241m.\u001b[39mdispatcher\u001b[38;5;241m.\u001b[39mdispatch(args[\u001b[38;5;241m0\u001b[39m]\u001b[38;5;241m.\u001b[39m\u001b[38;5;18m__class__\u001b[39m)\n\u001b[0;32m--> 938\u001b[0m     \u001b[38;5;28;01mreturn\u001b[39;00m \u001b[43mmethod\u001b[49m\u001b[38;5;241;43m.\u001b[39;49m\u001b[38;5;21;43m__get__\u001b[39;49m\u001b[43m(\u001b[49m\u001b[43mobj\u001b[49m\u001b[43m,\u001b[49m\u001b[43m \u001b[49m\u001b[38;5;28;43mcls\u001b[39;49m\u001b[43m)\u001b[49m\u001b[43m(\u001b[49m\u001b[38;5;241;43m*\u001b[39;49m\u001b[43margs\u001b[49m\u001b[43m,\u001b[49m\u001b[43m \u001b[49m\u001b[38;5;241;43m*\u001b[39;49m\u001b[38;5;241;43m*\u001b[39;49m\u001b[43mkwargs\u001b[49m\u001b[43m)\u001b[49m\n",
      "File \u001b[0;32m~/.local/lib/python3.9/site-packages/dicfg/factory.py:36\u001b[0m, in \u001b[0;36m_ObjectFactory._build_dict\u001b[0;34m(self, config)\u001b[0m\n\u001b[1;32m     34\u001b[0m \u001b[38;5;28;01mfor\u001b[39;00m key, value \u001b[38;5;129;01min\u001b[39;00m config\u001b[38;5;241m.\u001b[39mitems():\n\u001b[1;32m     35\u001b[0m     \u001b[38;5;28;01mif\u001b[39;00m _is_object(value):\n\u001b[0;32m---> 36\u001b[0m         config[key] \u001b[38;5;241m=\u001b[39m \u001b[38;5;28;43mself\u001b[39;49m\u001b[38;5;241;43m.\u001b[39;49m\u001b[43m_build_object\u001b[49m\u001b[43m(\u001b[49m\u001b[43mvalue\u001b[49m\u001b[43m)\u001b[49m\n\u001b[1;32m     37\u001b[0m     \u001b[38;5;28;01melse\u001b[39;00m:\n\u001b[1;32m     38\u001b[0m         config[key] \u001b[38;5;241m=\u001b[39m \u001b[38;5;28mself\u001b[39m\u001b[38;5;241m.\u001b[39m_build(value)\n",
      "File \u001b[0;32m~/.local/lib/python3.9/site-packages/dicfg/factory.py:65\u001b[0m, in \u001b[0;36m_ObjectFactory._build_object\u001b[0;34m(self, value)\u001b[0m\n\u001b[1;32m     63\u001b[0m kwargs\u001b[38;5;241m.\u001b[39mupdate(value\u001b[38;5;241m.\u001b[39mpop(\u001b[38;5;124m\"\u001b[39m\u001b[38;5;124m**kwargs\u001b[39m\u001b[38;5;124m\"\u001b[39m, {}))\n\u001b[1;32m     64\u001b[0m attribute \u001b[38;5;241m=\u001b[39m \u001b[38;5;28mself\u001b[39m\u001b[38;5;241m.\u001b[39m_parse_object_str(object_string)\n\u001b[0;32m---> 65\u001b[0m \u001b[38;5;28;01mreturn\u001b[39;00m \u001b[43mattribute\u001b[49m\u001b[43m(\u001b[49m\u001b[38;5;241;43m*\u001b[39;49m\u001b[43margs\u001b[49m\u001b[43m,\u001b[49m\u001b[43m \u001b[49m\u001b[38;5;241;43m*\u001b[39;49m\u001b[38;5;241;43m*\u001b[39;49m\u001b[43mkwargs\u001b[49m\u001b[43m)\u001b[49m\n",
      "File \u001b[0;32m~/.local/lib/python3.9/site-packages/wholeslidedata/data/dataset.py:48\u001b[0m, in \u001b[0;36mWholeSlideDataSet.__init__\u001b[0;34m(self, mode, associations, labels, load_images, copy_path, spacing)\u001b[0m\n\u001b[1;32m     45\u001b[0m \u001b[38;5;28mself\u001b[39m\u001b[38;5;241m.\u001b[39m_sample_labels \u001b[38;5;241m=\u001b[39m Labels\u001b[38;5;241m.\u001b[39mcreate([label \u001b[38;5;28;01mfor\u001b[39;00m label \u001b[38;5;129;01min\u001b[39;00m \u001b[38;5;28mself\u001b[39m\u001b[38;5;241m.\u001b[39m_labels \u001b[38;5;28;01mif\u001b[39;00m label\u001b[38;5;241m.\u001b[39mname \u001b[38;5;129;01min\u001b[39;00m \u001b[38;5;28mlist\u001b[39m(\u001b[38;5;28mself\u001b[39m\u001b[38;5;241m.\u001b[39m_sample_references\u001b[38;5;241m.\u001b[39mkeys())])\n\u001b[1;32m     47\u001b[0m \u001b[38;5;28;01mif\u001b[39;00m \u001b[38;5;28mlen\u001b[39m(\u001b[38;5;28mself\u001b[39m\u001b[38;5;241m.\u001b[39m_sample_references) \u001b[38;5;241m==\u001b[39m \u001b[38;5;241m0\u001b[39m:\n\u001b[0;32m---> 48\u001b[0m     \u001b[38;5;28;01mraise\u001b[39;00m \u001b[38;5;167;01mValueError\u001b[39;00m(\n\u001b[1;32m     49\u001b[0m         \u001b[38;5;124mf\u001b[39m\u001b[38;5;124m\"\u001b[39m\u001b[38;5;124mNo samples found in \u001b[39m\u001b[38;5;132;01m{\u001b[39;00m\u001b[38;5;28mself\u001b[39m\u001b[38;5;241m.\u001b[39mmode\u001b[38;5;241m.\u001b[39mname\u001b[38;5;132;01m}\u001b[39;00m\u001b[38;5;124m DataSet: \u001b[39m\u001b[38;5;130;01m\\n\u001b[39;00m\u001b[38;5;132;01m{\u001b[39;00mpformat(\u001b[38;5;28mself\u001b[39m\u001b[38;5;241m.\u001b[39mannotation_counts_per_label_per_key)\u001b[38;5;132;01m}\u001b[39;00m\u001b[38;5;124m\"\u001b[39m\n\u001b[1;32m     50\u001b[0m     )\n\u001b[1;32m     51\u001b[0m \u001b[38;5;28msuper\u001b[39m()\u001b[38;5;241m.\u001b[39m\u001b[38;5;21m__init__\u001b[39m(\u001b[38;5;28mself\u001b[39m\u001b[38;5;241m.\u001b[39m_data)\n",
      "\u001b[0;31mValueError\u001b[0m: No samples found in training DataSet: \n{}"
     ]
    }
   ],
   "source": [
    "with create_batch_iterator(user_config=user_config, \n",
    "                           context='spawn' if os.name=='nt' else 'fork',\n",
    "                            mode='training') as training_batch_generator:\n",
    "    for i in range(4):\n",
    "        print(i)\n",
    "        x_batch, y_batch, info =  next(training_batch_generator)\n",
    "        print('hi')\n",
    "        plot_batch(x_batch, y_batch)"
   ]
  },
  {
   "cell_type": "code",
   "execution_count": null,
   "id": "0bc4d2b5-4755-4be3-8240-09db7df4284d",
   "metadata": {},
   "outputs": [],
   "source": []
  }
 ],
 "metadata": {
  "kernelspec": {
   "display_name": "Python 3 (ipykernel)",
   "language": "python",
   "name": "python3"
  },
  "language_info": {
   "codemirror_mode": {
    "name": "ipython",
    "version": 3
   },
   "file_extension": ".py",
   "mimetype": "text/x-python",
   "name": "python",
   "nbconvert_exporter": "python",
   "pygments_lexer": "ipython3",
   "version": "3.9.13"
  }
 },
 "nbformat": 4,
 "nbformat_minor": 5
}
