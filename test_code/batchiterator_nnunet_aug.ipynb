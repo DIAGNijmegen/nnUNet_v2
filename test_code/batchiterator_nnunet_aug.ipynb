{
 "cells": [
  {
   "cell_type": "markdown",
   "id": "275b29fc",
   "metadata": {},
   "source": [
    "# BatchIterator"
   ]
  },
  {
   "cell_type": "code",
   "execution_count": null,
   "id": "aab6bd99-1c8f-48e6-b328-d9211bd06ed0",
   "metadata": {},
   "outputs": [],
   "source": [
    "!pip install git+https://github.com/DIAGNijmegen/pathology-whole-slide-data@main"
   ]
  },
  {
   "cell_type": "code",
   "execution_count": null,
   "id": "bbaaee77",
   "metadata": {
    "tags": []
   },
   "outputs": [],
   "source": [
    "import os\n",
    "if os.name =='nt':\n",
    "    os.add_dll_directory(r\"C:\\Program Files\\openslide\\bin\") # windows\n",
    "from wholeslidedata.iterators import create_batch_iterator\n",
    "from wholeslidedata.visualization.plotting import plot_batch\n",
    "from dicfg.magics import ConfigMagics\n",
    "from wholeslidedata.samplers.callbacks import BatchCallback\n",
    "\n",
    "from batchgenerators.transforms.abstract_transforms import AbstractTransform, Compose\n",
    "from batchgenerators.transforms.color_transforms import BrightnessMultiplicativeTransform, \\\n",
    "    ContrastAugmentationTransform, GammaTransform\n",
    "from batchgenerators.transforms.noise_transforms import GaussianNoiseTransform, GaussianBlurTransform\n",
    "from batchgenerators.transforms.resample_transforms import SimulateLowResolutionTransform\n",
    "from batchgenerators.transforms.spatial_transforms import SpatialTransform, MirrorTransform\n",
    "from batchgenerators.transforms.utility_transforms import RemoveLabelTransform, RenameTransform, NumpyToTensor\n",
    "\n",
    "# This will allow loading yaml in an notebook cell\n",
    "ConfigMagics.register_magics()\n",
    "\n",
    "import matplotlib.pyplot as plt\n",
    "\n",
    "import numpy as np\n",
    "\n",
    "from multiprocessing import freeze_support"
   ]
  },
  {
   "cell_type": "code",
   "execution_count": null,
   "id": "49ab1d36-65ed-4495-b5e0-8390f6dca689",
   "metadata": {
    "tags": []
   },
   "outputs": [],
   "source": [
    "class NNUnetBatchCallback(BatchCallback):\n",
    "    \n",
    "    # patch_size_spatial (width/height)\n",
    "    def __init__(self, patch_size_spatial):\n",
    "        pass\n",
    "        tr_transforms = []\n",
    "        rotation_for_DA= {'x': (-3.141592653589793, 3.141592653589793), 'y': (0, 0), 'z': (0, 0)}\n",
    "        # tr_transforms.append(SpatialTransform(\n",
    "        #     patch_size_spatial, \n",
    "        #     patch_center_dist_from_border=None,\n",
    "        #     do_elastic_deform=False,\n",
    "        #     alpha=(0, 0),\n",
    "        #     sigma=(0, 0),\n",
    "        #     do_rotation=True,\n",
    "        #     angle_x=rotation_for_DA['x'],\n",
    "        #     angle_y=rotation_for_DA['y'],\n",
    "        #     angle_z=rotation_for_DA['z'],\n",
    "        #     p_rot_per_axis=1,  # todo experiment with this\n",
    "        #     do_scale=True,\n",
    "        #     scale=(0.7, 1.4),\n",
    "        #     border_mode_data=\"constant\",\n",
    "        #     border_cval_data=0,\n",
    "        #     order_data=3,\n",
    "        #     border_mode_seg=\"constant\",\n",
    "        #     border_cval_seg=-1,\n",
    "        #     order_seg=1,\n",
    "        #     random_crop=False,  # random cropping is part of our dataloaders\n",
    "        #     p_el_per_sample=0,\n",
    "        #     p_scale_per_sample=0.2,\n",
    "        #     p_rot_per_sample=0.2,\n",
    "        #     independent_scale_for_each_axis=False  # todo experiment with this\n",
    "        # ))\n",
    "\n",
    "        tr_transforms.append(GaussianNoiseTransform(p_per_sample=0.1))\n",
    "        tr_transforms.append(GaussianBlurTransform((0.5, 1.), different_sigma_per_channel=True, p_per_sample=0.2,\n",
    "                                                   p_per_channel=0.5))\n",
    "        \n",
    "        # tr_transforms.append(BrightnessMultiplicativeTransform(multiplier_range=(0.75, 1.25), p_per_sample=0.15))\n",
    "        \n",
    "        \n",
    "        tr_transforms.append(ContrastAugmentationTransform(p_per_sample=0.15))\n",
    "        tr_transforms.append(SimulateLowResolutionTransform(zoom_range=(0.5, 1), per_channel=True,\n",
    "                                                            p_per_channel=0.5,\n",
    "                                                            order_downsample=0, order_upsample=3, p_per_sample=0.25,\n",
    "                                                            ignore_axes=None))\n",
    "        tr_transforms.append(GammaTransform((0.7, 1.5), True, True, retain_stats=True, p_per_sample=0.1))\n",
    "        tr_transforms.append(GammaTransform((0.7, 1.5), False, True, retain_stats=True, p_per_sample=0.3))\n",
    "        \n",
    "\n",
    "        \n",
    "        # tr_transforms.append(MirrorTransform((0,1)))\n",
    "        # tr_transforms.append(RemoveLabelTransform(-1, 0))\n",
    "        \n",
    "        \n",
    "        self._transforms = Compose(tr_transforms)\n",
    "                 \n",
    "    def __call__(self, x_batch, y_batch):\n",
    "        # data = self._transforms(**{'data': x_batch, 'seg': y_batch})\n",
    "        return data.values()\n"
   ]
  },
  {
   "cell_type": "code",
   "execution_count": null,
   "id": "7497514d",
   "metadata": {
    "tags": []
   },
   "outputs": [],
   "source": [
    "%%yaml user_config \n",
    "\n",
    "wholeslidedata:\n",
    "    default:\n",
    "        yaml_source:\n",
    "            training:\n",
    "            -   wsi: \n",
    "                    path: C:\\Users\\joeyspronck\\Documents\\Other\\wsirois\\wsi-level-annotations\\images\\100B.tif\n",
    "                wsa: \n",
    "                    path: C:\\Users\\joeyspronck\\Documents\\Other\\wsirois\\wsi-level-annotations\\annotations-tissue-cells-xmls\\100B.xml\n",
    "                        \n",
    "        labels:\n",
    "            invasive tumor: 1\n",
    "            tumor-associated stroma: 2\n",
    "            in-situ tumor: 3\n",
    "            healthy glands: 4\n",
    "            necrosis not in-situ: 5\n",
    "            inflamed stroma: 6\n",
    "            rest: 7\n",
    "            \n",
    "        batch_shape:\n",
    "            batch_size: 2\n",
    "            spacing: 1.0\n",
    "            shape: [512, 512, 3]\n",
    "            \n",
    "        batch_callbacks: \n",
    "            - \"*object\": __main__.NNUnetBatchCallback\n",
    "              patch_size_spatial: [512,512]"
   ]
  },
  {
   "cell_type": "markdown",
   "id": "76f78750",
   "metadata": {},
   "source": [
    ":::{seealso}\n",
    " - For more information about the **mode**, please see the user guide about [modes](./modes)\n",
    " - For an explanation about the **user_config** please see the [batchiterator configuration](/userguide/index.html#batchiterator-configuration)\n",
    ":::"
   ]
  },
  {
   "cell_type": "code",
   "execution_count": null,
   "id": "7965e295-d36a-43f9-a26d-53c4a960ab1c",
   "metadata": {
    "tags": []
   },
   "outputs": [],
   "source": [
    "import yaml"
   ]
  },
  {
   "cell_type": "code",
   "execution_count": null,
   "id": "d655db15-5fec-49ca-859a-649de3074305",
   "metadata": {
    "tags": []
   },
   "outputs": [],
   "source": [
    "%matplotlib inline"
   ]
  },
  {
   "cell_type": "code",
   "execution_count": null,
   "id": "f9722203-0127-477b-97eb-835b3ab8c02b",
   "metadata": {},
   "outputs": [],
   "source": [
    "os.name=='nt'"
   ]
  },
  {
   "cell_type": "code",
   "execution_count": null,
   "id": "f1434990-14e2-4e81-bea2-3fe8248c4d34",
   "metadata": {
    "tags": []
   },
   "outputs": [],
   "source": [
    "with create_batch_iterator(user_config=user_config, \n",
    "                           context='spawn' if os.name=='nt' else 'fork',\n",
    "                            mode='training') as training_batch_generator:\n",
    "    for i in range(4):\n",
    "        print(i)\n",
    "        x_batch, y_batch, info =  next(training_batch_generator)\n",
    "        print('hi')\n",
    "        plot_batch(x_batch, y_batch)"
   ]
  }
 ],
 "metadata": {
  "kernelspec": {
   "display_name": "Python 3 (ipykernel)",
   "language": "python",
   "name": "python3"
  },
  "language_info": {
   "codemirror_mode": {
    "name": "ipython",
    "version": 3
   },
   "file_extension": ".py",
   "mimetype": "text/x-python",
   "name": "python",
   "nbconvert_exporter": "python",
   "pygments_lexer": "ipython3",
   "version": "3.9.13"
  }
 },
 "nbformat": 4,
 "nbformat_minor": 5
}
