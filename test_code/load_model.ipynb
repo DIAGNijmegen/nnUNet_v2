{
 "cells": [
  {
   "cell_type": "markdown",
   "id": "3188cefd-6cde-4fe5-be70-a406d6906741",
   "metadata": {},
   "source": [
    "# LOAD MODEL"
   ]
  },
  {
   "cell_type": "markdown",
   "id": "61754c8c-e8cb-4217-9706-4c0f6b2b43ba",
   "metadata": {},
   "source": [
    "### IMPORTANT:\n",
    "you may need to intstall the local version of your nnunetv2 first, instead of the version oion your docker"
   ]
  },
  {
   "cell_type": "code",
   "execution_count": 1,
   "id": "90d2636b-0891-41cb-8375-56b30415c12a",
   "metadata": {},
   "outputs": [],
   "source": [
    "# !pip3 install -e /data/pathology/projects/pathology-lung-TIL/nnUNet_v2"
   ]
  },
  {
   "cell_type": "markdown",
   "id": "654b2a2c-205a-4f78-b638-b75f16caeed3",
   "metadata": {},
   "source": [
    "# Libraries and functions"
   ]
  },
  {
   "cell_type": "code",
   "execution_count": 2,
   "id": "ed2cf507-9307-43b2-82f4-94d43cfc885b",
   "metadata": {},
   "outputs": [],
   "source": [
    "import os\n",
    "from matplotlib.colors import LinearSegmentedColormap\n",
    "import matplotlib.pyplot as plt\n",
    "from matplotlib import cm\n",
    "import numpy as np"
   ]
  },
  {
   "cell_type": "code",
   "execution_count": 3,
   "id": "c6b0b179-e136-4881-b0ba-2c1e87efd2e3",
   "metadata": {},
   "outputs": [
    {
     "name": "stdout",
     "output_type": "stream",
     "text": [
      "nnUNet_raw is not defined and nnU-Net can only be used on data for which preprocessed files are already present on your system. nnU-Net cannot be used for experiment planning and preprocessing like this. If this is not intended, please read documentation/setting_up_paths.md for information on how to set this up properly.\n",
      "INSTEAD USING HARDCODED: /data/pathology/projects/pathology-lung-TIL/nnUNet_v2/data/nnUNet_raw\n",
      "nnUNet_preprocessed is not defined and nnU-Net can not be used for preprocessing or training. If this is not intended, please read documentation/setting_up_paths.md for information on how to set this up.\n",
      "INSTEAD USING HARDCODED: /data/pathology/projects/pathology-lung-TIL/nnUNet_v2/data/nnUNet_preprocessed\n",
      "nnUNet_results is not defined and nnU-Net cannot be used for training or inference. If this is not intended behavior, please read documentation/setting_up_paths.md for information on how to set this up.\n",
      "INSTEAD USING HARDCODED: /data/pathology/projects/pathology-lung-TIL/nnUNet_v2/data/nnUNet_results\n"
     ]
    }
   ],
   "source": [
    "from nnunetv2.training.nnUNetTrainer.variants.pathology.nnUNetTrainer_custom_dataloader_test import nnUNetTrainer_custom_dataloader_test\n",
    "from nnunetv2.utilities.file_path_utilities import load_json\n",
    "import torch"
   ]
  },
  {
   "cell_type": "code",
   "execution_count": 4,
   "id": "4dce670a-aa64-474e-9d92-09ba10930630",
   "metadata": {},
   "outputs": [],
   "source": [
    "import time"
   ]
  },
  {
   "cell_type": "code",
   "execution_count": 5,
   "id": "a220e8ad-3174-4fd7-975f-177134fe82a8",
   "metadata": {},
   "outputs": [],
   "source": [
    "current_os = \"w\" if os.name == \"nt\" else \"l\"\n",
    "other_os = \"l\" if current_os == \"w\" else \"w\"\n",
    "\n",
    "def convert_path(path, to=current_os):\n",
    "    if to in [\"w\", \"win\", \"windows\"]:\n",
    "        path = path.replace(\"/mnt/pa_cpg\", \"Y:\")\n",
    "        path = path.replace(\"/data/pathology\", \"Z:\")\n",
    "        path = path.replace(\"/mnt/pa_cpgarchive1\", \"W:\")\n",
    "        path = path.replace(\"/mnt/pa_cpgarchive2\", \"X:\")\n",
    "        path = path.replace(\"/\", \"\\\\\")\n",
    "    if to in [\"u\", \"unix\", \"l\", \"linux\"]:\n",
    "        path = path.replace(\"Y:\", \"/mnt/pa_cpg\")\n",
    "        path = path.replace(\"Z:\", \"/data/pathology\")\n",
    "        path = path.replace(\"W:\", \"/mnt/pa_cpgarchive1\")\n",
    "        path = path.replace(\"X:\", \"/mnt/pa_cpgarchive2\")\n",
    "        path = path.replace(\"\\\\\", \"/\")\n",
    "    return path"
   ]
  },
  {
   "cell_type": "code",
   "execution_count": 6,
   "id": "419d03cd-c6b3-4862-ba65-91c10b4bc4eb",
   "metadata": {},
   "outputs": [],
   "source": [
    "labels = {\n",
    "    \"roi\": 0, # in case 0 is true background instead of unannotated, make sure you add it as label 1, not 0. Since label 0 will not be used for counting\n",
    "    \"invasive tumor\": 1,\n",
    "    \"tumor-associated stroma\": 2,\n",
    "    \"in-situ tumor\": 3 ,\n",
    "    \"healthy glands\": 4,\n",
    "    \"necrosis not in-situ\": 5,\n",
    "    \"inflamed stroma\": 6,\n",
    "    \"rest\": 7\n",
    "}\n",
    "\n",
    "colormap = [ [ 0, 0, 0, 0 ], [ 0, 224, 249, 255 ], [ 0, 249, 50, 255 ], [ 174, 249, 0, 255 ], [ 249, 100, 0, 255 ], [ 249, 0, 125, 255 ], [ 149, 0, 249, 255 ], [ 0, 0, 206, 255 ], [ 0, 185, 206, 255 ], [ 0, 206, 41, 255 ], [ 143, 206, 0, 255 ], [ 206, 82, 0, 255 ], [ 206, 0, 103, 255 ], [ 124, 0, 206, 255 ], [ 0, 0, 162, 255 ], [ 0, 145, 162, 255 ], [ 0, 162, 32, 255 ], [ 114, 162, 0, 255 ], [ 162, 65, 0, 255 ], [ 162, 0, 81, 255 ], [ 97, 0, 162, 255 ], [ 0, 0, 119, 255 ], [ 0, 107, 119, 255 ], [ 0, 119, 23, 255 ], [ 83, 119, 0, 255 ], [ 119, 47, 0, 255 ], [ 119, 0, 59, 255 ], [ 71, 0, 119, 255 ], [ 100, 100, 249, 255 ], [ 100, 234, 249, 255 ], [ 100, 249, 129, 255 ], [ 204, 249, 100, 255 ], [ 249, 159, 100, 255 ], [ 249, 100, 174, 255 ], [ 189, 100, 249, 255 ], [ 82, 82, 206, 255 ], [ 82, 193, 206, 255 ], [ 82, 206, 107, 255 ], [ 168, 206, 82, 255 ], [ 206, 131, 82, 255 ], [ 206, 82, 143, 255 ], [ 156, 82, 206, 255 ], [ 65, 65, 162, 255 ], [ 65, 152, 162, 255 ], [ 65, 162, 84, 255 ], [ 132, 162, 65, 255 ], [ 162, 104, 65, 255 ], [ 162, 65, 114, 255 ], [ 123, 65, 162, 255 ], [ 47, 47, 119, 255 ], [ 47, 112, 119, 255 ], [ 47, 119, 61, 255 ], [ 97, 119, 47, 255 ], [ 119, 76, 47, 255 ], [ 119, 47, 83, 255 ], [ 90, 47, 119, 255 ], [ 174, 174, 249, 255 ], [ 174, 242, 249, 255 ], [ 174, 249, 189, 255 ], [ 227, 249, 174, 255 ], [ 249, 204, 174, 255 ], [ 249, 174, 212, 255 ], [ 219, 174, 249, 255 ], [ 143, 143, 206, 255 ], [ 143, 199, 206, 255 ], [ 143, 206, 156, 255 ], [ 187, 206, 143, 255 ], [ 206, 168, 143, 255 ], [ 206, 143, 175, 255 ], [ 181, 143, 206, 255 ], [ 114, 114, 162, 255 ], [ 114, 157, 162, 255 ], [ 114, 162, 123, 255 ], [ 147, 162, 114, 255 ], [ 162, 132, 114, 255 ], [ 162, 114, 137, 255 ], [ 142, 114, 162, 255 ], [ 83, 83, 119, 255 ], [ 83, 115, 119, 255 ], [ 83, 119, 90, 255 ], [ 108, 119, 83, 255 ], [ 119, 97, 83, 255 ], [ 119, 83, 101, 255 ], [ 104, 83, 119, 255 ], [ 224, 224, 249, 255 ], [ 224, 247, 249, 255 ], [ 224, 249, 229, 255 ], [ 242, 249, 224, 255 ], [ 249, 234, 224, 255 ], [ 249, 224, 237, 255 ], [ 239, 224, 249, 255 ], [ 185, 185, 206, 255 ], [ 185, 204, 206, 255 ], [ 185, 206, 189, 255 ], [ 199, 206, 185, 255 ], [ 206, 193, 185, 255 ], [ 206, 185, 195, 255 ], [ 197, 185, 206, 255 ], [ 145, 145, 162, 255 ], [ 145, 160, 162, 255 ], [ 145, 162, 149, 255 ], [ 157, 162, 145, 255 ], [ 162, 152, 145, 255 ], [ 162, 145, 153, 255 ], [ 155, 145, 162, 255 ], [ 107, 107, 119, 255 ], [ 107, 118, 119, 255 ], [ 107, 119, 109, 255 ], [ 115, 119, 107, 255 ], [ 119, 112, 107, 255 ], [ 119, 107, 113, 255 ], [ 114, 107, 119, 255 ], [ 0, 0, 249, 255 ], [ 0, 224, 249, 255 ], [ 0, 249, 50, 255 ], [ 174, 249, 0, 255 ], [ 249, 100, 0, 255 ], [ 249, 0, 125, 255 ], [ 149, 0, 249, 255 ], [ 0, 0, 206, 255 ], [ 0, 185, 206, 255 ], [ 0, 206, 41, 255 ], [ 143, 206, 0, 255 ], [ 206, 82, 0, 255 ], [ 206, 0, 103, 255 ], [ 124, 0, 206, 255 ], [ 0, 0, 162, 255 ], [ 0, 145, 162, 255 ], [ 0, 162, 32, 255 ], [ 114, 162, 0, 255 ], [ 162, 65, 0, 255 ], [ 162, 0, 81, 255 ], [ 97, 0, 162, 255 ], [ 0, 0, 119, 255 ], [ 0, 107, 119, 255 ], [ 0, 119, 23, 255 ], [ 83, 119, 0, 255 ], [ 119, 47, 0, 255 ], [ 119, 0, 59, 255 ], [ 71, 0, 119, 255 ], [ 100, 100, 249, 255 ], [ 100, 234, 249, 255 ], [ 100, 249, 129, 255 ], [ 204, 249, 100, 255 ], [ 249, 159, 100, 255 ], [ 249, 100, 174, 255 ], [ 189, 100, 249, 255 ], [ 82, 82, 206, 255 ], [ 82, 193, 206, 255 ], [ 82, 206, 107, 255 ], [ 168, 206, 82, 255 ], [ 206, 131, 82, 255 ], [ 206, 82, 143, 255 ], [ 156, 82, 206, 255 ], [ 65, 65, 162, 255 ], [ 65, 152, 162, 255 ], [ 65, 162, 84, 255 ], [ 132, 162, 65, 255 ], [ 162, 104, 65, 255 ], [ 162, 65, 114, 255 ], [ 123, 65, 162, 255 ], [ 47, 47, 119, 255 ], [ 47, 112, 119, 255 ], [ 47, 119, 61, 255 ], [ 97, 119, 47, 255 ], [ 119, 76, 47, 255 ], [ 119, 47, 83, 255 ], [ 90, 47, 119, 255 ], [ 174, 174, 249, 255 ], [ 174, 242, 249, 255 ], [ 174, 249, 189, 255 ], [ 227, 249, 174, 255 ], [ 249, 204, 174, 255 ], [ 249, 174, 212, 255 ], [ 219, 174, 249, 255 ], [ 143, 143, 206, 255 ], [ 143, 199, 206, 255 ], [ 143, 206, 156, 255 ], [ 187, 206, 143, 255 ], [ 206, 168, 143, 255 ], [ 206, 143, 175, 255 ], [ 181, 143, 206, 255 ], [ 114, 114, 162, 255 ], [ 114, 157, 162, 255 ], [ 114, 162, 123, 255 ], [ 147, 162, 114, 255 ], [ 162, 132, 114, 255 ], [ 162, 114, 137, 255 ], [ 142, 114, 162, 255 ], [ 83, 83, 119, 255 ], [ 83, 115, 119, 255 ], [ 83, 119, 90, 255 ], [ 108, 119, 83, 255 ], [ 119, 97, 83, 255 ], [ 119, 83, 101, 255 ], [ 104, 83, 119, 255 ], [ 224, 224, 249, 255 ], [ 224, 247, 249, 255 ], [ 224, 249, 229, 255 ], [ 242, 249, 224, 255 ], [ 249, 234, 224, 255 ], [ 249, 224, 237, 255 ], [ 239, 224, 249, 255 ], [ 185, 185, 206, 255 ], [ 185, 204, 206, 255 ], [ 185, 206, 189, 255 ], [ 199, 206, 185, 255 ], [ 206, 193, 185, 255 ], [ 206, 185, 195, 255 ], [ 197, 185, 206, 255 ], [ 145, 145, 162, 255 ], [ 145, 160, 162, 255 ], [ 145, 162, 149, 255 ], [ 157, 162, 145, 255 ], [ 162, 152, 145, 255 ], [ 162, 145, 153, 255 ], [ 155, 145, 162, 255 ], [ 107, 107, 119, 255 ], [ 107, 118, 119, 255 ], [ 107, 119, 109, 255 ], [ 115, 119, 107, 255 ], [ 119, 112, 107, 255 ], [ 119, 107, 113, 255 ], [ 114, 107, 119, 255 ], [ 0, 0, 249, 255 ], [ 0, 224, 249, 255 ], [ 0, 249, 50, 255 ], [ 174, 249, 0, 255 ], [ 249, 100, 0, 255 ], [ 249, 0, 125, 255 ], [ 149, 0, 249, 255 ], [ 0, 0, 206, 255 ], [ 0, 185, 206, 255 ], [ 0, 206, 41, 255 ], [ 143, 206, 0, 255 ], [ 206, 82, 0, 255 ], [ 206, 0, 103, 255 ], [ 124, 0, 206, 255 ], [ 0, 0, 162, 255 ], [ 0, 145, 162, 255 ], [ 0, 162, 32, 255 ], [ 114, 162, 0, 255 ], [ 162, 65, 0, 255 ], [ 162, 0, 81, 255 ], [ 97, 0, 162, 255 ], [ 0, 0, 119, 255 ], [ 0, 107, 119, 255 ], [ 0, 119, 23, 255 ], [ 83, 119, 0, 255 ], [ 119, 47, 0, 255 ], [ 119, 0, 59, 255 ], [ 71, 0, 119, 255 ], [ 100, 100, 249, 255 ], [ 100, 234, 249, 255 ], [ 100, 249, 129, 255 ], [ 0, 249, 50, 255 ] ]\n",
    "colormap = np.array(colormap)/255.\n",
    "cmap = LinearSegmentedColormap.from_list('my_cmap', colors=colormap)\n",
    "\n",
    "label_names = ['unannotated'] + list(labels.keys())[1:]\n",
    "label_index = list(range(len(label_names)))\n",
    "n_labels = len(label_names)\n",
    "label_plot_args = {\"cmap\":cmap, \"vmin\":0, \"vmax\":255, \"interpolation\":\"none\"}"
   ]
  },
  {
   "cell_type": "markdown",
   "id": "97e7a541-1d9c-4189-bbd8-d87b09717710",
   "metadata": {},
   "source": [
    "# Trainer initialization prep"
   ]
  },
  {
   "cell_type": "markdown",
   "id": "b3b423f7-4719-474f-a27e-52770c8e1ff3",
   "metadata": {},
   "source": [
    "### Set results folder"
   ]
  },
  {
   "cell_type": "code",
   "execution_count": 7,
   "id": "97b94595-8a64-4e9c-b860-2e8d88a12cbe",
   "metadata": {},
   "outputs": [],
   "source": [
    "results_folder = convert_path(r'Z:\\projects\\pathology-lung-TIL\\nnUNet_v2\\data\\nnUNet_results')"
   ]
  },
  {
   "cell_type": "code",
   "execution_count": 8,
   "id": "d93a7378-716a-47d1-b52e-55e052788ad9",
   "metadata": {},
   "outputs": [
    {
     "data": {
      "text/plain": [
       "['Dataset004_TIGER_split', 'Dataset001_TIGER_split']"
      ]
     },
     "execution_count": 8,
     "metadata": {},
     "output_type": "execute_result"
    }
   ],
   "source": [
    "os.listdir(results_folder)"
   ]
  },
  {
   "cell_type": "markdown",
   "id": "0d881b3e-427a-4c48-8bf6-e66ace1c02b4",
   "metadata": {},
   "source": [
    "### Choose dataset"
   ]
  },
  {
   "cell_type": "code",
   "execution_count": 9,
   "id": "4e807eb3-b815-4db9-9cc4-890e83806bbc",
   "metadata": {},
   "outputs": [],
   "source": [
    "dataset = 'Dataset004_TIGER_split'"
   ]
  },
  {
   "cell_type": "code",
   "execution_count": 10,
   "id": "11f6ca85-4ec9-4a5d-96e3-c0398f7d58a7",
   "metadata": {},
   "outputs": [
    {
     "data": {
      "text/plain": [
       "['nnUNetTrainer_custom_dataloader_test__nnUNetWholeSlideDataPlans__2d']"
      ]
     },
     "execution_count": 10,
     "metadata": {},
     "output_type": "execute_result"
    }
   ],
   "source": [
    "os.listdir(os.path.join(results_folder, dataset))"
   ]
  },
  {
   "cell_type": "markdown",
   "id": "cdcdbf08-ae0b-48d0-b6d7-4b2b3b33b6e0",
   "metadata": {
    "tags": []
   },
   "source": [
    "### Choose trainer__plans__config"
   ]
  },
  {
   "cell_type": "code",
   "execution_count": 11,
   "id": "c3666e67-dd20-4f41-94cb-421693d45d0f",
   "metadata": {},
   "outputs": [],
   "source": [
    "trainer__plans__config = 'nnUNetTrainer_custom_dataloader_test__nnUNetWholeSlideDataPlans__2d'"
   ]
  },
  {
   "cell_type": "code",
   "execution_count": 12,
   "id": "9fb08f9c-c585-4d9c-839b-7c1f6641bd66",
   "metadata": {},
   "outputs": [
    {
     "data": {
      "text/plain": [
       "'/data/pathology/projects/pathology-lung-TIL/nnUNet_v2/data/nnUNet_results/Dataset004_TIGER_split/nnUNetTrainer_custom_dataloader_test__nnUNetWholeSlideDataPlans__2d'"
      ]
     },
     "execution_count": 12,
     "metadata": {},
     "output_type": "execute_result"
    }
   ],
   "source": [
    "trainer_results_folder = os.path.join(results_folder, dataset, trainer__plans__config)\n",
    "trainer_results_folder"
   ]
  },
  {
   "cell_type": "code",
   "execution_count": 13,
   "id": "247d9068-3f30-4281-aa46-181332fce223",
   "metadata": {},
   "outputs": [
    {
     "data": {
      "text/plain": [
       "['dataset.json',\n",
       " 'fold_0',\n",
       " 'fold_1',\n",
       " 'fold_2',\n",
       " 'fold_3',\n",
       " 'fold_4',\n",
       " 'plans.json',\n",
       " 'splits.json',\n",
       " 'train_config.json',\n",
       " 'val_config.json']"
      ]
     },
     "execution_count": 13,
     "metadata": {},
     "output_type": "execute_result"
    }
   ],
   "source": [
    "sorted(os.listdir(trainer_results_folder))"
   ]
  },
  {
   "cell_type": "markdown",
   "id": "e6ccaef6-9ace-4575-92d3-15edee835932",
   "metadata": {},
   "source": [
    "### Choose fold"
   ]
  },
  {
   "cell_type": "code",
   "execution_count": 14,
   "id": "38142d85-a233-4ba5-9a59-33f99b1121ea",
   "metadata": {},
   "outputs": [],
   "source": [
    "fold = 0"
   ]
  },
  {
   "cell_type": "code",
   "execution_count": 15,
   "id": "17efac6e-1879-411f-a24f-bfc9e280472a",
   "metadata": {},
   "outputs": [
    {
     "data": {
      "text/plain": [
       "['checkpoint_final.pth', 'checkpoint_best.pth']"
      ]
     },
     "execution_count": 15,
     "metadata": {},
     "output_type": "execute_result"
    }
   ],
   "source": [
    "[file for file in os.listdir(os.path.join(trainer_results_folder, f'fold_{fold}')) if file.endswith('.pth')]"
   ]
  },
  {
   "cell_type": "markdown",
   "id": "cecda557-53e4-49e0-8018-93bc22d1a7c7",
   "metadata": {},
   "source": [
    "### Choose checkpoint"
   ]
  },
  {
   "cell_type": "code",
   "execution_count": 16,
   "id": "12517c68-4038-4cf8-9794-9833eb819df5",
   "metadata": {},
   "outputs": [
    {
     "data": {
      "text/plain": [
       "'/data/pathology/projects/pathology-lung-TIL/nnUNet_v2/data/nnUNet_results/Dataset004_TIGER_split/nnUNetTrainer_custom_dataloader_test__nnUNetWholeSlideDataPlans__2d'"
      ]
     },
     "execution_count": 16,
     "metadata": {},
     "output_type": "execute_result"
    }
   ],
   "source": [
    "trainer_results_folder"
   ]
  },
  {
   "cell_type": "code",
   "execution_count": 17,
   "id": "d1e2e757-ed65-49ac-a2cf-a6e577673bba",
   "metadata": {},
   "outputs": [],
   "source": [
    "checkpoint_path = os.path.join(trainer_results_folder, f'fold_{fold}', 'checkpoint_best.pth')"
   ]
  },
  {
   "cell_type": "markdown",
   "id": "ddf5854d-9692-4d89-a590-a8b12fa7708d",
   "metadata": {},
   "source": [
    "### Get plans and dataset dicts"
   ]
  },
  {
   "cell_type": "code",
   "execution_count": 18,
   "id": "cd20c8b4-f8f2-4cc6-a4a0-0a4c8c59eb32",
   "metadata": {},
   "outputs": [],
   "source": [
    "plans_dict = load_json(os.path.join(trainer_results_folder, 'plans.json'))\n",
    "dataset_dict = load_json(os.path.join(trainer_results_folder, 'dataset.json'))"
   ]
  },
  {
   "cell_type": "markdown",
   "id": "43c78fc1-f5ab-4863-a820-7f02f840abb1",
   "metadata": {},
   "source": [
    "# Directly import class and initialize checkpoint"
   ]
  },
  {
   "cell_type": "code",
   "execution_count": null,
   "id": "3c7cc932-0989-4cf5-9738-40f9f798f2c5",
   "metadata": {},
   "outputs": [],
   "source": []
  },
  {
   "cell_type": "code",
   "execution_count": 19,
   "id": "89221f6d-0c34-4cba-a41d-1990e713f952",
   "metadata": {},
   "outputs": [
    {
     "name": "stdout",
     "output_type": "stream",
     "text": [
      "Using device: cuda:0\n",
      "\n",
      "#######################################################################\n",
      "Please cite the following paper when using nnU-Net:\n",
      "Isensee, F., Jaeger, P. F., Kohl, S. A., Petersen, J., & Maier-Hein, K. H. (2021). nnU-Net: a self-configuring method for deep learning-based biomedical image segmentation. Nature methods, 18(2), 203-211.\n",
      "#######################################################################\n",
      "\n"
     ]
    }
   ],
   "source": [
    "trainer = nnUNetTrainer_custom_dataloader_test(plans_dict, '2d', fold, dataset_dict)"
   ]
  },
  {
   "cell_type": "code",
   "execution_count": 20,
   "id": "cb9f9ff3-ec38-4868-9242-6a3f50c1705e",
   "metadata": {},
   "outputs": [
    {
     "name": "stdout",
     "output_type": "stream",
     "text": [
      "\n"
     ]
    }
   ],
   "source": [
    "trainer.load_checkpoint(checkpoint_path)"
   ]
  },
  {
   "cell_type": "code",
   "execution_count": 24,
   "id": "d1e4ad81-d63c-47bb-80e8-193c279a6d99",
   "metadata": {},
   "outputs": [
    {
     "data": {
      "text/plain": [
       "948"
      ]
     },
     "execution_count": 24,
     "metadata": {},
     "output_type": "execute_result"
    }
   ],
   "source": [
    "trainer.current_epoch"
   ]
  },
  {
   "cell_type": "code",
   "execution_count": 23,
   "id": "d3544565-8de1-4e46-879e-62742f749932",
   "metadata": {},
   "outputs": [
    {
     "data": {
      "text/plain": [
       "['__class__',\n",
       " '__delattr__',\n",
       " '__dict__',\n",
       " '__dir__',\n",
       " '__doc__',\n",
       " '__eq__',\n",
       " '__format__',\n",
       " '__ge__',\n",
       " '__getattribute__',\n",
       " '__gt__',\n",
       " '__hash__',\n",
       " '__init__',\n",
       " '__init_subclass__',\n",
       " '__le__',\n",
       " '__lt__',\n",
       " '__module__',\n",
       " '__ne__',\n",
       " '__new__',\n",
       " '__reduce__',\n",
       " '__reduce_ex__',\n",
       " '__repr__',\n",
       " '__setattr__',\n",
       " '__sizeof__',\n",
       " '__str__',\n",
       " '__subclasshook__',\n",
       " '__weakref__',\n",
       " '_best_ema',\n",
       " '_build_loss',\n",
       " '_get_deep_supervision_scales',\n",
       " '_save_debug_information',\n",
       " '_set_batch_size_and_oversample',\n",
       " 'albumentations_aug',\n",
       " 'aug',\n",
       " 'batch_size',\n",
       " 'build_network_architecture',\n",
       " 'configuration_manager',\n",
       " 'configuration_name',\n",
       " 'configure_optimizers',\n",
       " 'configure_rotation_dummyDA_mirroring_and_inital_patch_size',\n",
       " 'current_epoch',\n",
       " 'dataloader_train',\n",
       " 'dataloader_val',\n",
       " 'dataset_json',\n",
       " 'device',\n",
       " 'disable_checkpointing',\n",
       " 'do_split',\n",
       " 'fold',\n",
       " 'folder_with_segs_from_previous_stage',\n",
       " 'get_dataloaders',\n",
       " 'get_plain_dataloaders',\n",
       " 'get_tr_and_val_datasets',\n",
       " 'get_training_transforms',\n",
       " 'get_validation_transforms',\n",
       " 'grad_scaler',\n",
       " 'ignore0',\n",
       " 'inference_allowed_mirroring_axes',\n",
       " 'initial_lr',\n",
       " 'initialize',\n",
       " 'is_cascaded',\n",
       " 'is_ddp',\n",
       " 'iterator_template',\n",
       " 'label_manager',\n",
       " 'label_sampling_strategy',\n",
       " 'load_checkpoint',\n",
       " 'local_rank',\n",
       " 'log_file',\n",
       " 'logger',\n",
       " 'loss',\n",
       " 'lr_scheduler',\n",
       " 'my_init_kwargs',\n",
       " 'network',\n",
       " 'num_epochs',\n",
       " 'num_input_channels',\n",
       " 'num_iterations_per_epoch',\n",
       " 'num_val_iterations_per_epoch',\n",
       " 'on_epoch_end',\n",
       " 'on_epoch_start',\n",
       " 'on_train_end',\n",
       " 'on_train_epoch_end',\n",
       " 'on_train_epoch_start',\n",
       " 'on_train_start',\n",
       " 'on_validation_epoch_end',\n",
       " 'on_validation_epoch_start',\n",
       " 'optimizer',\n",
       " 'output_folder',\n",
       " 'output_folder_base',\n",
       " 'oversample_foreground_percent',\n",
       " 'perform_actual_validation',\n",
       " 'plans_manager',\n",
       " 'plot_network_architecture',\n",
       " 'print_plans',\n",
       " 'print_to_log_file',\n",
       " 'run_training',\n",
       " 'sample_double',\n",
       " 'save_checkpoint',\n",
       " 'save_every',\n",
       " 'set_deep_supervision_enabled',\n",
       " 'time',\n",
       " 'train_step',\n",
       " 'unpack_dataset',\n",
       " 'validation_step',\n",
       " 'wandb',\n",
       " 'was_initialized',\n",
       " 'weight_decay']"
      ]
     },
     "execution_count": 23,
     "metadata": {},
     "output_type": "execute_result"
    }
   ],
   "source": [
    "dir(trainer)"
   ]
  },
  {
   "cell_type": "markdown",
   "id": "d166bcf5-dcb5-4fae-867e-9f611ec2b551",
   "metadata": {
    "tags": []
   },
   "source": [
    "# Get dataloaders"
   ]
  },
  {
   "cell_type": "code",
   "execution_count": 21,
   "id": "0ae3bcdb-a017-4bba-825b-d1c511711e67",
   "metadata": {},
   "outputs": [
    {
     "data": {
      "text/plain": [
       "('self', 'subset', 'sample_double')"
      ]
     },
     "execution_count": 21,
     "metadata": {},
     "output_type": "execute_result"
    }
   ],
   "source": [
    "trainer.get_dataloaders.__code__.co_varnames[:trainer.get_dataloaders.__code__.co_argcount]"
   ]
  },
  {
   "cell_type": "code",
   "execution_count": 22,
   "id": "b1e0182b-596d-477f-8acc-80e970a45bf6",
   "metadata": {},
   "outputs": [
    {
     "name": "stdout",
     "output_type": "stream",
     "text": [
      "subset\n",
      "sample_double\n"
     ]
    }
   ],
   "source": [
    "import inspect\n",
    "# Get the signature of the function within the class\n",
    "signature = inspect.signature(trainer.get_dataloaders)\n",
    "\n",
    "# Get the parameters of the signature\n",
    "parameters = signature.parameters\n",
    "\n",
    "# Iterate over the parameters and print their names\n",
    "for param in parameters.values():\n",
    "    print(param.name)"
   ]
  },
  {
   "cell_type": "code",
   "execution_count": 23,
   "id": "9aefeb36-1ee5-49c3-ba3e-cef84f75d0dc",
   "metadata": {},
   "outputs": [
    {
     "name": "stdout",
     "output_type": "stream",
     "text": [
      "\n",
      "\n",
      "\n",
      "\n",
      "USING DATA SUBSET\n",
      "\n",
      "\n",
      "\n",
      "\n",
      "Found splits.json\n",
      "[Getting WSD dataloaders]\n",
      "Using iterator template: /data/pathology/projects/pathology-lung-TIL/nnUNet_v2/nnunetv2/training/nnUNetTrainer/variants/pathology/wsd_iterator_alb_aug_template.json\n",
      "Still timing everything, only copying SOME training and val files\n",
      "[Creating batch iterators]\n",
      "\t[Creating TRAIN batch iterator]\n",
      "\t[Creating VAL batch iterator]\n",
      "[Returning batch iterators]\n"
     ]
    }
   ],
   "source": [
    "tr_it, val_it = trainer.get_dataloaders(subset=True)"
   ]
  },
  {
   "cell_type": "markdown",
   "id": "f58fc3e9-ae76-41a3-9a5d-f4b75977c4d5",
   "metadata": {},
   "source": [
    "### Get data"
   ]
  },
  {
   "cell_type": "code",
   "execution_count": 24,
   "id": "4a51e7b2-0995-4e04-a3d4-88dfab975e78",
   "metadata": {},
   "outputs": [],
   "source": [
    "data = next(val_it)\n",
    "data['data'] = data['data'][:2]\n",
    "data['target'][0] = data['target'][0][:2]"
   ]
  },
  {
   "cell_type": "code",
   "execution_count": 25,
   "id": "06ccffd2-4c45-43ed-b6e1-3e8bf487604c",
   "metadata": {},
   "outputs": [],
   "source": [
    "%matplotlib inline"
   ]
  },
  {
   "cell_type": "code",
   "execution_count": 26,
   "id": "fa72ac82-3313-44eb-a39c-8ec5beebc7a2",
   "metadata": {},
   "outputs": [],
   "source": [
    "# # left is meant to be empty. its just easy to copy paste in figures this way\n",
    "# fig, axs = plt.subplots(1, 4, figsize=(15, 4), gridspec_kw={'width_ratios': [10, 10, 10, 1], 'wspace': 0.5})\n",
    "# axs[0].imshow(data['data'][0].permute((1, 2, 0)).cpu())\n",
    "# axs[1].imshow(data['target'][0][0][0].cpu(), **label_plot_args)\n",
    "# axs[2].imshow(data['data'][0].permute((1, 2, 0)).cpu())\n",
    "# axs[2].imshow(data['target'][0][0][0].cpu(), alpha=0.3, **label_plot_args)\n",
    "# axs[-1].imshow([[i] for i in list(range(len(label_names)))], **label_plot_args)\n",
    "# axs[-1].set_yticks(label_index)\n",
    "# axs[-1].set_yticklabels(label_names)\n",
    "# axs[-1].yaxis.tick_right()\n",
    "# axs[-1].get_xaxis().set_visible(False)\n",
    "# axs[-1].set_title(\"Labels\")\n",
    "# plt.show()"
   ]
  },
  {
   "cell_type": "markdown",
   "id": "a8b46856-1a40-4f57-860b-480c14bc4da0",
   "metadata": {
    "tags": []
   },
   "source": [
    "# Prep Gaussian inference map and run sliding window on data"
   ]
  },
  {
   "cell_type": "code",
   "execution_count": 27,
   "id": "257e60cf-e67c-452e-968a-63e3c83d17d7",
   "metadata": {},
   "outputs": [],
   "source": [
    "# data['data'].shape"
   ]
  },
  {
   "cell_type": "code",
   "execution_count": 28,
   "id": "4e7d5887-ce49-4cd7-9896-92c4d34dd128",
   "metadata": {},
   "outputs": [],
   "source": [
    "# data['data'] = data['data'][:2]"
   ]
  },
  {
   "cell_type": "code",
   "execution_count": 29,
   "id": "5ea5524d-bccb-4320-9681-4011fc6091ae",
   "metadata": {},
   "outputs": [],
   "source": [
    "# torch.cuda.empty_cache()\n",
    "# out = torch.argmax(trainer.network(data['data'])[0][0], 0).cpu()"
   ]
  },
  {
   "cell_type": "code",
   "execution_count": 30,
   "id": "c4fbc9a5-3c6a-428d-b2ad-d43b0d4659c9",
   "metadata": {},
   "outputs": [],
   "source": [
    "# plt.imshow(out, **label_plot_args)"
   ]
  },
  {
   "cell_type": "markdown",
   "id": "6a5b383c-cc48-41de-b828-0a24e2104e63",
   "metadata": {},
   "source": [
    "### Run simple inference for multiple batches "
   ]
  },
  {
   "cell_type": "code",
   "execution_count": 31,
   "id": "bb6af9df-9371-4d9a-b746-34d865ed6a1e",
   "metadata": {},
   "outputs": [],
   "source": [
    "# for i in range(20):\n",
    "#     data = next(val_it)\n",
    "#     data['data'] = data['data'][:2, :, :512, :512]\n",
    "#     data['target'][0] = data['target'][0][:2, :, :512, :512]\n",
    "\n",
    "#     torch.cuda.empty_cache()\n",
    "#     out = torch.argmax(trainer.network(data['data'])[0][0], 0).cpu()\n",
    "\n",
    "#     # left is meant to be empty. its just easy to copy paste in figures this way\n",
    "#     fig, axs = plt.subplots(1, 6, figsize=(15, 4), gridspec_kw={'width_ratios': [10, 10, 10, 10, 10, 1], 'wspace': 0.5})\n",
    "#     axs[0].imshow(data['data'][0].permute((1, 2, 0)).cpu())\n",
    "#     axs[1].imshow(data['target'][0][0][0].cpu(), **label_plot_args)\n",
    "#     axs[2].imshow(data['data'][0].permute((1, 2, 0)).cpu())\n",
    "#     axs[2].imshow(data['target'][0][0][0].cpu(), alpha=0.3, **label_plot_args)\n",
    "#     axs[3].imshow(out, **label_plot_args)\n",
    "#     axs[4].imshow(data['data'][0].permute((1, 2, 0)).cpu())\n",
    "#     axs[4].imshow(out, alpha=0.3, **label_plot_args)\n",
    "#     axs[-1].imshow([[i] for i in list(range(len(label_names)))], **label_plot_args)\n",
    "#     axs[-1].set_yticks(label_index)\n",
    "#     axs[-1].set_yticklabels(label_names)\n",
    "#     axs[-1].yaxis.tick_right()\n",
    "#     axs[-1].get_xaxis().set_visible(False)\n",
    "#     axs[-1].set_title(\"Labels\")\n",
    "#     plt.show()"
   ]
  },
  {
   "cell_type": "markdown",
   "id": "f60ecb04-c279-45b8-b022-7731e555b18e",
   "metadata": {},
   "source": [
    "# Sliding window"
   ]
  },
  {
   "cell_type": "code",
   "execution_count": 32,
   "id": "a0d658fe-9e67-48c2-8d5d-94600beb0c2c",
   "metadata": {},
   "outputs": [
    {
     "name": "stdout",
     "output_type": "stream",
     "text": [
      "\n",
      "\n",
      "\n",
      "\n",
      "USING DATA SUBSET\n",
      "\n",
      "\n",
      "\n",
      "\n",
      "Found splits.json\n",
      "[Getting WSD dataloaders]\n",
      "Using iterator template: /data/pathology/projects/pathology-lung-TIL/nnUNet_v2/nnunetv2/training/nnUNetTrainer/variants/pathology/wsd_iterator_alb_aug_template.json\n",
      "Still timing everything, only copying SOME training and val files\n",
      "[Creating batch iterators]\n",
      "\t[Creating TRAIN batch iterator]\n",
      "\t[Creating VAL batch iterator]\n",
      "[Returning batch iterators]\n"
     ]
    }
   ],
   "source": [
    "tr_it, val_it = trainer.get_dataloaders(subset=True, sample_double=True)"
   ]
  },
  {
   "cell_type": "code",
   "execution_count": 33,
   "id": "d02be75f-1272-4f48-8794-b704c1e1287d",
   "metadata": {},
   "outputs": [],
   "source": [
    "from nnunetv2.inference.predict_from_raw_data import nnUNetPredictor"
   ]
  },
  {
   "cell_type": "code",
   "execution_count": 34,
   "id": "2d8e16d6-4293-47df-ab9a-5de0c23cf050",
   "metadata": {},
   "outputs": [],
   "source": [
    "from nnunetv2.paths import nnUNet_results, nnUNet_raw\n",
    "import torch\n",
    "from batchgenerators.utilities.file_and_folder_operations import join\n",
    "from nnunetv2.inference.predict_from_raw_data import nnUNetPredictor\n",
    "\n",
    "# instantiate the nnUNetPredictor\n",
    "predictor = nnUNetPredictor(\n",
    "    tile_step_size=0.5,\n",
    "    use_gaussian=True,\n",
    "    use_mirroring=True,\n",
    "    perform_everything_on_gpu=True,\n",
    "    device=torch.device('cuda', 0),\n",
    "    verbose=False,\n",
    "    verbose_preprocessing=False,\n",
    "    allow_tqdm=True\n",
    ")"
   ]
  },
  {
   "cell_type": "code",
   "execution_count": 35,
   "id": "ab12a508-1f95-42fe-a0d1-a3943d7f7e57",
   "metadata": {},
   "outputs": [],
   "source": [
    "# initializes the network architecture, loads the checkpoint\n",
    "predictor.initialize_from_trained_model_folder(\n",
    "    trainer_results_folder,\n",
    "    use_folds=(0, 1, 2, 3, 4),\n",
    "    checkpoint_name='checkpoint_best.pth',\n",
    ")"
   ]
  },
  {
   "cell_type": "code",
   "execution_count": 36,
   "id": "4cc31cc7-8f54-429d-ab47-9eea7504966d",
   "metadata": {},
   "outputs": [
    {
     "data": {
      "text/plain": [
       "torch.Size([17, 3, 1024, 1024])"
      ]
     },
     "execution_count": 36,
     "metadata": {},
     "output_type": "execute_result"
    }
   ],
   "source": [
    "batch = next(val_it)\n",
    "batch['data'].shape"
   ]
  },
  {
   "cell_type": "code",
   "execution_count": 53,
   "id": "91275e1a-09e5-482d-8209-e81df419af84",
   "metadata": {},
   "outputs": [
    {
     "data": {
      "text/plain": [
       "torch.float32"
      ]
     },
     "execution_count": 53,
     "metadata": {},
     "output_type": "execute_result"
    }
   ],
   "source": [
    "batch['data'].dtype"
   ]
  },
  {
   "cell_type": "code",
   "execution_count": 37,
   "id": "e07c0391-cf26-4af2-97f5-15230c93d161",
   "metadata": {},
   "outputs": [],
   "source": [
    "# pred_logits.shape"
   ]
  },
  {
   "cell_type": "code",
   "execution_count": 38,
   "id": "6acf03bf-639d-4b83-b23f-0a9db889d1b1",
   "metadata": {},
   "outputs": [],
   "source": [
    "# batch['data'].permute((0, )).shape"
   ]
  },
  {
   "cell_type": "markdown",
   "id": "2acf2bc1-291e-441a-9018-0a5b56def00f",
   "metadata": {},
   "source": [
    "BELOW: 7.83 s ± 598 ms per loop (mean ± std. dev. of 7 runs, 1 loop each)"
   ]
  },
  {
   "cell_type": "code",
   "execution_count": 39,
   "id": "504c915f-62da-4af3-a811-278d6427687d",
   "metadata": {},
   "outputs": [],
   "source": [
    "# predictor.predict_from_data_iterator\n",
    "# %timeit pred_logits = predictor.predict_logits_from_preprocessed_data(batch['data'].permute((1, 0, 2, 3)))"
   ]
  },
  {
   "cell_type": "markdown",
   "id": "a775fb58-7519-45e5-8dd4-22b7e393a24a",
   "metadata": {},
   "source": [
    "BELOW: 8.43 s ± 131 ms per loop (mean ± std. dev. of 7 runs, 1 loop each)"
   ]
  },
  {
   "cell_type": "code",
   "execution_count": 40,
   "id": "42fa1489-1bf4-4588-ba4b-1441a9e541a6",
   "metadata": {},
   "outputs": [],
   "source": [
    "# %timeit pred_logits = predictor.get_logits_list_from_preprocessed_data(batch['data'].permute((1, 0, 2, 3)))"
   ]
  },
  {
   "cell_type": "code",
   "execution_count": 41,
   "id": "5813280c-3049-42fd-8404-292bed2b4de1",
   "metadata": {},
   "outputs": [
    {
     "name": "stderr",
     "output_type": "stream",
     "text": [
      "100%|██████████| 153/153 [00:06<00:00, 22.51it/s]\n",
      "100%|██████████| 153/153 [00:01<00:00, 125.46it/s]\n",
      "100%|██████████| 153/153 [00:01<00:00, 123.82it/s]\n",
      "100%|██████████| 153/153 [00:01<00:00, 124.85it/s]\n",
      "100%|██████████| 153/153 [00:01<00:00, 124.73it/s]\n"
     ]
    },
    {
     "name": "stdout",
     "output_type": "stream",
     "text": [
      "Prediction done, transferring to CPU if needed\n"
     ]
    },
    {
     "name": "stderr",
     "output_type": "stream",
     "text": [
      "100%|██████████| 153/153 [00:01<00:00, 123.95it/s]\n",
      "100%|██████████| 153/153 [00:01<00:00, 124.46it/s]\n",
      "100%|██████████| 153/153 [00:01<00:00, 124.45it/s]\n",
      "100%|██████████| 153/153 [00:01<00:00, 124.23it/s]\n",
      "100%|██████████| 153/153 [00:01<00:00, 123.98it/s]\n"
     ]
    },
    {
     "name": "stdout",
     "output_type": "stream",
     "text": [
      "Prediction done, transferring to CPU if needed\n"
     ]
    }
   ],
   "source": [
    "pred_logits = predictor.predict_logits_from_preprocessed_data(batch['data'].permute((1, 0, 2, 3)))\n",
    "logits_list = predictor.get_logits_list_from_preprocessed_data(batch['data'].permute((1, 0, 2, 3)))"
   ]
  },
  {
   "cell_type": "markdown",
   "id": "16b8e101-7010-473f-83a8-b3542ce6ea9a",
   "metadata": {},
   "source": [
    "# reshape stuff"
   ]
  },
  {
   "cell_type": "code",
   "execution_count": 42,
   "id": "2833401b-0736-4ede-9650-fcfb28bbb930",
   "metadata": {},
   "outputs": [
    {
     "data": {
      "text/plain": [
       "torch.Size([17, 3, 1024, 1024])"
      ]
     },
     "execution_count": 42,
     "metadata": {},
     "output_type": "execute_result"
    }
   ],
   "source": [
    "batch['data'].shape"
   ]
  },
  {
   "cell_type": "code",
   "execution_count": 43,
   "id": "bd7c41ff-5bc1-448e-8727-461c2af1b014",
   "metadata": {},
   "outputs": [],
   "source": [
    "# batch['data'].permute((1, 0, 2, 3))"
   ]
  },
  {
   "cell_type": "markdown",
   "id": "a301ee6c-5090-486b-945f-e8b9fb0b0c34",
   "metadata": {},
   "source": [
    "# Function"
   ]
  },
  {
   "cell_type": "code",
   "execution_count": 44,
   "id": "ef6faa87-046f-4754-8936-a1472a0e5df3",
   "metadata": {},
   "outputs": [],
   "source": [
    "def ensemble_softmax_list(x_batch):\n",
    "    logits_list = predictor.get_logits_list_from_preprocessed_data(x_batch)\n",
    "    softmax_list = [trainer.label_manager.apply_inference_nonlin(logits) for logits in logits_list]\n",
    "    return softmax_list"
   ]
  },
  {
   "cell_type": "code",
   "execution_count": 45,
   "id": "6c966ad6-7b6a-4c94-97c5-6a632e271c18",
   "metadata": {},
   "outputs": [
    {
     "name": "stderr",
     "output_type": "stream",
     "text": [
      "100%|██████████| 153/153 [00:01<00:00, 123.69it/s]\n",
      "100%|██████████| 153/153 [00:01<00:00, 123.83it/s]\n",
      "100%|██████████| 153/153 [00:01<00:00, 123.77it/s]\n",
      "100%|██████████| 153/153 [00:01<00:00, 123.63it/s]\n",
      "100%|██████████| 153/153 [00:01<00:00, 123.51it/s]\n"
     ]
    },
    {
     "name": "stdout",
     "output_type": "stream",
     "text": [
      "Prediction done, transferring to CPU if needed\n"
     ]
    }
   ],
   "source": [
    "softmax_list = ensemble_softmax_list(batch['data'].permute((1, 0, 2, 3)))"
   ]
  },
  {
   "cell_type": "code",
   "execution_count": 46,
   "id": "54309b2f-49ab-4a56-b7a6-28aa689be459",
   "metadata": {},
   "outputs": [],
   "source": [
    "# def ensemble_softmax_list(predictor, x_batch):\n",
    "#     logits_list = predictor.get_logits_list_from_preprocessed_data(x_batch)\n",
    "#     softmax_list = [trainer.apply_inference_nonlin(logits) for logits in logits_list]\n",
    "#     return softmax_list"
   ]
  },
  {
   "cell_type": "code",
   "execution_count": 47,
   "id": "61e0fb31-1984-4b98-97cb-41af2f4d9166",
   "metadata": {},
   "outputs": [],
   "source": [
    "pred_seg = trainer.label_manager.convert_logits_to_segmentation(pred_logits)\n",
    "pred_prob = trainer.label_manager.apply_inference_nonlin(pred_logits)"
   ]
  },
  {
   "cell_type": "code",
   "execution_count": null,
   "id": "30c87578-26a3-4527-8c14-73a0f677a2b1",
   "metadata": {},
   "outputs": [],
   "source": []
  },
  {
   "cell_type": "code",
   "execution_count": 48,
   "id": "a4c3c0de-7c9f-45c3-a871-02b1720d7d5b",
   "metadata": {},
   "outputs": [
    {
     "data": {
      "text/plain": [
       "torch.Size([8, 17, 1024, 1024])"
      ]
     },
     "execution_count": 48,
     "metadata": {},
     "output_type": "execute_result"
    }
   ],
   "source": [
    "pred_prob.shape"
   ]
  },
  {
   "cell_type": "code",
   "execution_count": 49,
   "id": "d970266c-82bc-4d1f-86ae-94c0b090731d",
   "metadata": {},
   "outputs": [
    {
     "data": {
      "text/plain": [
       "tensor([[[[-3.5117e+00, -3.4102e+00, -3.4883e+00,  ..., -3.1055e+00,\n",
       "           -3.1035e+00, -3.4004e+00],\n",
       "          [-3.4160e+00, -3.2812e+00, -3.3555e+00,  ..., -2.9258e+00,\n",
       "           -2.9219e+00, -3.2246e+00],\n",
       "          [-3.4805e+00, -3.3496e+00, -3.4023e+00,  ..., -2.9688e+00,\n",
       "           -2.9746e+00, -3.2598e+00],\n",
       "          ...,\n",
       "          [-3.4180e+00, -3.5000e+00, -3.5977e+00,  ..., -3.8281e+00,\n",
       "           -3.6992e+00, -3.4375e+00],\n",
       "          [-3.3008e+00, -3.3496e+00, -3.4570e+00,  ..., -3.6719e+00,\n",
       "           -3.5098e+00, -3.2754e+00],\n",
       "          [-3.4844e+00, -3.3906e+00, -3.4648e+00,  ..., -3.4902e+00,\n",
       "           -3.3340e+00, -3.3184e+00]],\n",
       "\n",
       "         [[-3.4434e+00, -3.2930e+00, -3.3652e+00,  ..., -3.4531e+00,\n",
       "           -3.3594e+00, -3.4590e+00],\n",
       "          [-3.2930e+00, -3.0938e+00, -3.1934e+00,  ..., -3.5039e+00,\n",
       "           -3.3809e+00, -3.4121e+00],\n",
       "          [-3.3633e+00, -3.1836e+00, -3.2695e+00,  ..., -3.6406e+00,\n",
       "           -3.5312e+00, -3.5215e+00],\n",
       "          ...,\n",
       "          [-3.2695e+00, -3.0586e+00, -3.1348e+00,  ..., -3.0273e+00,\n",
       "           -2.9922e+00, -3.1523e+00],\n",
       "          [-3.2090e+00, -2.9492e+00, -3.0371e+00,  ..., -2.9375e+00,\n",
       "           -2.8652e+00, -3.0820e+00],\n",
       "          [-3.4746e+00, -3.3340e+00, -3.3945e+00,  ..., -3.1387e+00,\n",
       "           -3.0898e+00, -3.3750e+00]],\n",
       "\n",
       "         [[-3.4531e+00, -3.3848e+00, -3.4902e+00,  ..., -3.2070e+00,\n",
       "           -3.1621e+00, -3.4219e+00],\n",
       "          [-3.4102e+00, -3.4570e+00, -3.5898e+00,  ..., -3.0156e+00,\n",
       "           -2.9414e+00, -3.2773e+00],\n",
       "          [-3.4902e+00, -3.5879e+00, -3.6875e+00,  ..., -3.0781e+00,\n",
       "           -3.0059e+00, -3.3340e+00],\n",
       "          ...,\n",
       "          [-3.2500e+00, -3.0293e+00, -3.1035e+00,  ..., -3.4844e+00,\n",
       "           -3.3965e+00, -3.4062e+00],\n",
       "          [-3.1914e+00, -2.9297e+00, -2.9883e+00,  ..., -3.3945e+00,\n",
       "           -3.2539e+00, -3.3027e+00],\n",
       "          [-3.4785e+00, -3.3066e+00, -3.3691e+00,  ..., -3.3750e+00,\n",
       "           -3.2852e+00, -3.4629e+00]],\n",
       "\n",
       "         ...,\n",
       "\n",
       "         [[-3.3027e+00, -3.1016e+00, -3.1523e+00,  ..., -3.3809e+00,\n",
       "           -3.2852e+00, -3.4570e+00],\n",
       "          [-3.1133e+00, -2.9316e+00, -3.0000e+00,  ..., -3.4375e+00,\n",
       "           -3.3086e+00, -3.3652e+00],\n",
       "          [-3.1465e+00, -3.0117e+00, -3.0547e+00,  ..., -3.5352e+00,\n",
       "           -3.4180e+00, -3.4570e+00],\n",
       "          ...,\n",
       "          [-3.2031e+00, -2.9434e+00, -3.0117e+00,  ..., -3.0000e+00,\n",
       "           -2.9355e+00, -3.3086e+00],\n",
       "          [-3.1602e+00, -2.8789e+00, -2.9277e+00,  ..., -2.9336e+00,\n",
       "           -2.8477e+00, -3.2500e+00],\n",
       "          [-3.4629e+00, -3.2773e+00, -3.3242e+00,  ..., -3.2773e+00,\n",
       "           -3.2383e+00, -3.5215e+00]],\n",
       "\n",
       "         [[-3.2695e+00, -3.3848e+00, -3.5000e+00,  ..., -3.1289e+00,\n",
       "           -3.1035e+00, -3.4258e+00],\n",
       "          [-3.3789e+00, -3.6875e+00, -3.8555e+00,  ..., -2.8984e+00,\n",
       "           -2.8398e+00, -3.2344e+00],\n",
       "          [-3.4785e+00, -3.8691e+00, -4.0234e+00,  ..., -2.9648e+00,\n",
       "           -2.9043e+00, -3.2812e+00],\n",
       "          ...,\n",
       "          [-3.1836e+00, -2.9961e+00, -3.0469e+00,  ..., -3.0312e+00,\n",
       "           -2.9922e+00, -3.2383e+00],\n",
       "          [-3.1250e+00, -2.9121e+00, -2.9531e+00,  ..., -2.9492e+00,\n",
       "           -2.9043e+00, -3.1758e+00],\n",
       "          [-3.4492e+00, -3.2695e+00, -3.3223e+00,  ..., -3.1992e+00,\n",
       "           -3.1621e+00, -3.4531e+00]],\n",
       "\n",
       "         [[-3.4180e+00, -3.4219e+00, -3.5410e+00,  ..., -3.2656e+00,\n",
       "           -3.2227e+00, -3.4375e+00],\n",
       "          [-3.4258e+00, -3.6211e+00, -3.7871e+00,  ..., -3.2148e+00,\n",
       "           -3.1484e+00, -3.3125e+00],\n",
       "          [-3.5215e+00, -3.7656e+00, -3.9023e+00,  ..., -3.3164e+00,\n",
       "           -3.2539e+00, -3.3848e+00],\n",
       "          ...,\n",
       "          [-3.3164e+00, -3.1348e+00, -3.2246e+00,  ..., -3.1387e+00,\n",
       "           -3.0352e+00, -3.3965e+00],\n",
       "          [-3.2402e+00, -3.0234e+00, -3.1367e+00,  ..., -3.0117e+00,\n",
       "           -2.8965e+00, -3.3027e+00],\n",
       "          [-3.5254e+00, -3.3965e+00, -3.4941e+00,  ..., -3.3906e+00,\n",
       "           -3.3164e+00, -3.5586e+00]]],\n",
       "\n",
       "\n",
       "        [[[ 2.7363e+00,  2.2441e+00,  2.3379e+00,  ...,  2.0820e+00,\n",
       "            2.0215e+00,  2.7695e+00],\n",
       "          [ 2.2598e+00,  1.9844e+00,  2.1602e+00,  ...,  1.8955e+00,\n",
       "            1.7324e+00,  2.0996e+00],\n",
       "          [ 2.2559e+00,  2.0469e+00,  2.3086e+00,  ...,  2.0645e+00,\n",
       "            1.8652e+00,  2.0977e+00],\n",
       "          ...,\n",
       "          [ 1.4199e+00,  1.3613e+00,  1.6357e+00,  ...,  3.1387e+00,\n",
       "            2.9551e+00,  2.6191e+00],\n",
       "          [ 1.3340e+00,  1.1309e+00,  1.2695e+00,  ...,  2.8965e+00,\n",
       "            2.6504e+00,  2.3633e+00],\n",
       "          [ 2.1680e+00,  1.3643e+00,  1.3535e+00,  ...,  2.5195e+00,\n",
       "            2.3340e+00,  2.5684e+00]],\n",
       "\n",
       "         [[ 4.2266e+00,  4.2070e+00,  4.4492e+00,  ...,  2.1836e+00,\n",
       "            2.0840e+00,  2.6211e+00],\n",
       "          [ 4.2422e+00,  4.4141e+00,  4.6953e+00,  ...,  2.3086e+00,\n",
       "            2.1133e+00,  2.1328e+00],\n",
       "          [ 4.4922e+00,  4.6875e+00,  4.9688e+00,  ...,  2.5215e+00,\n",
       "            2.3281e+00,  2.2070e+00],\n",
       "          ...,\n",
       "          [ 4.4961e+00,  4.7031e+00,  4.9375e+00,  ...,  1.4473e+00,\n",
       "            1.3740e+00,  1.4395e+00],\n",
       "          [ 4.1758e+00,  4.3398e+00,  4.6484e+00,  ...,  1.2529e+00,\n",
       "            1.2627e+00,  1.5186e+00],\n",
       "          [ 4.2617e+00,  4.2539e+00,  4.5508e+00,  ...,  1.3516e+00,\n",
       "            1.4844e+00,  2.3711e+00]],\n",
       "\n",
       "         [[ 2.6582e+00,  2.1309e+00,  2.2598e+00,  ...,  3.5059e+00,\n",
       "            3.2695e+00,  3.5117e+00],\n",
       "          [ 2.1816e+00,  2.1426e+00,  2.4121e+00,  ...,  3.5996e+00,\n",
       "            3.3008e+00,  3.2559e+00],\n",
       "          [ 2.1914e+00,  2.3301e+00,  2.6465e+00,  ...,  3.7344e+00,\n",
       "            3.4941e+00,  3.4004e+00],\n",
       "          ...,\n",
       "          [ 3.1445e+00,  3.1621e+00,  3.4590e+00,  ...,  2.0234e+00,\n",
       "            1.7578e+00,  1.8594e+00],\n",
       "          [ 2.9297e+00,  2.8594e+00,  3.1094e+00,  ...,  1.7012e+00,\n",
       "            1.5479e+00,  1.8418e+00],\n",
       "          [ 3.4062e+00,  3.0117e+00,  3.1562e+00,  ...,  1.8184e+00,\n",
       "            1.8408e+00,  2.6406e+00]],\n",
       "\n",
       "         ...,\n",
       "\n",
       "         [[ 4.5234e+00,  4.5703e+00,  4.8047e+00,  ...,  1.9873e+00,\n",
       "            1.8828e+00,  2.5742e+00],\n",
       "          [ 4.5703e+00,  4.7578e+00,  4.9531e+00,  ...,  1.9688e+00,\n",
       "            1.7314e+00,  1.9346e+00],\n",
       "          [ 4.7891e+00,  4.9453e+00,  5.0664e+00,  ...,  2.1465e+00,\n",
       "            1.8848e+00,  1.9629e+00],\n",
       "          ...,\n",
       "          [ 4.0078e+00,  4.1875e+00,  4.4688e+00,  ...,  3.3867e+00,\n",
       "            3.1348e+00,  3.1758e+00],\n",
       "          [ 3.7656e+00,  3.9004e+00,  4.2305e+00,  ...,  3.0469e+00,\n",
       "            2.8301e+00,  3.0195e+00],\n",
       "          [ 4.0078e+00,  3.9004e+00,  4.1680e+00,  ...,  3.1074e+00,\n",
       "            3.0254e+00,  3.4688e+00]],\n",
       "\n",
       "         [[ 2.1309e+00,  1.9160e+00,  2.0430e+00,  ...,  3.0801e+00,\n",
       "            2.8867e+00,  3.3691e+00],\n",
       "          [ 1.9795e+00,  2.2109e+00,  2.4238e+00,  ...,  3.0137e+00,\n",
       "            2.7246e+00,  2.9785e+00],\n",
       "          [ 2.1113e+00,  2.4355e+00,  2.6641e+00,  ...,  3.1836e+00,\n",
       "            2.9121e+00,  3.0957e+00],\n",
       "          ...,\n",
       "          [ 2.0156e+00,  1.8076e+00,  2.0273e+00,  ...,  2.4844e+00,\n",
       "            2.1895e+00,  2.3105e+00],\n",
       "          [ 1.8926e+00,  1.5264e+00,  1.6816e+00,  ...,  2.0430e+00,\n",
       "            1.9121e+00,  2.2773e+00],\n",
       "          [ 2.5449e+00,  1.8301e+00,  1.8535e+00,  ...,  2.2148e+00,\n",
       "            2.2754e+00,  2.9434e+00]],\n",
       "\n",
       "         [[ 1.9824e+00,  1.2979e+00,  1.3184e+00,  ...,  2.2227e+00,\n",
       "            2.1055e+00,  2.8320e+00],\n",
       "          [ 1.3330e+00,  1.0986e+00,  1.2725e+00,  ...,  2.1348e+00,\n",
       "            1.8828e+00,  2.2031e+00],\n",
       "          [ 1.3232e+00,  1.1963e+00,  1.4111e+00,  ...,  2.3242e+00,\n",
       "            2.0312e+00,  2.2051e+00],\n",
       "          ...,\n",
       "          [ 2.1289e+00,  1.8770e+00,  2.0586e+00,  ...,  3.7441e+00,\n",
       "            3.4648e+00,  3.5371e+00],\n",
       "          [ 1.9688e+00,  1.6221e+00,  1.7344e+00,  ...,  3.4062e+00,\n",
       "            3.1504e+00,  3.2910e+00],\n",
       "          [ 2.7305e+00,  2.0469e+00,  2.0410e+00,  ...,  3.4746e+00,\n",
       "            3.3086e+00,  3.6465e+00]]],\n",
       "\n",
       "\n",
       "        [[[ 5.6562e+00,  6.3320e+00,  6.6758e+00,  ...,  4.0000e+00,\n",
       "            3.6992e+00,  3.6680e+00],\n",
       "          [ 6.3828e+00,  7.0625e+00,  7.3047e+00,  ...,  4.3320e+00,\n",
       "            3.9688e+00,  3.6914e+00],\n",
       "          [ 6.7266e+00,  7.3242e+00,  7.4375e+00,  ...,  4.5938e+00,\n",
       "            4.2734e+00,  3.9531e+00],\n",
       "          ...,\n",
       "          [ 3.3750e+00,  3.9941e+00,  4.1719e+00,  ...,  2.6680e+00,\n",
       "            2.5977e+00,  2.2598e+00],\n",
       "          [ 3.1094e+00,  3.6602e+00,  3.8340e+00,  ...,  2.5508e+00,\n",
       "            2.4473e+00,  2.0898e+00],\n",
       "          [ 3.2070e+00,  3.1992e+00,  3.3086e+00,  ...,  2.3242e+00,\n",
       "            2.1797e+00,  2.3789e+00]],\n",
       "\n",
       "         [[ 5.2461e+00,  5.7461e+00,  6.1016e+00,  ...,  3.1016e+00,\n",
       "            2.9062e+00,  2.9453e+00],\n",
       "          [ 5.7734e+00,  6.2891e+00,  6.5820e+00,  ...,  3.5527e+00,\n",
       "            3.2930e+00,  2.8867e+00],\n",
       "          [ 6.0547e+00,  6.5430e+00,  6.8047e+00,  ...,  3.7695e+00,\n",
       "            3.5430e+00,  3.0547e+00],\n",
       "          ...,\n",
       "          [ 5.2383e+00,  5.6133e+00,  5.8789e+00,  ...,  4.1172e+00,\n",
       "            3.9258e+00,  3.7617e+00],\n",
       "          [ 4.8359e+00,  5.2188e+00,  5.6094e+00,  ...,  3.8691e+00,\n",
       "            3.6660e+00,  3.5098e+00],\n",
       "          [ 4.5742e+00,  4.9297e+00,  5.3359e+00,  ...,  3.7070e+00,\n",
       "            3.5059e+00,  3.6367e+00]],\n",
       "\n",
       "         [[ 2.8008e+00,  2.7383e+00,  2.8809e+00,  ...,  3.4688e+00,\n",
       "            3.2598e+00,  3.4336e+00],\n",
       "          [ 2.7500e+00,  3.0801e+00,  3.2500e+00,  ...,  3.6133e+00,\n",
       "            3.3477e+00,  3.3066e+00],\n",
       "          [ 2.9160e+00,  3.3281e+00,  3.4570e+00,  ...,  3.7812e+00,\n",
       "            3.5430e+00,  3.4492e+00],\n",
       "          ...,\n",
       "          [ 4.8047e+00,  5.2070e+00,  5.4688e+00,  ...,  3.5273e+00,\n",
       "            3.2461e+00,  2.8691e+00],\n",
       "          [ 4.4453e+00,  4.8359e+00,  5.1562e+00,  ...,  3.2227e+00,\n",
       "            2.9375e+00,  2.7070e+00],\n",
       "          [ 4.2930e+00,  4.5586e+00,  4.8867e+00,  ...,  2.9023e+00,\n",
       "            2.7383e+00,  2.9648e+00]],\n",
       "\n",
       "         ...,\n",
       "\n",
       "         [[ 3.1387e+00,  2.9629e+00,  3.0898e+00,  ...,  3.6309e+00,\n",
       "            3.3711e+00,  3.3555e+00],\n",
       "          [ 2.9668e+00,  2.9941e+00,  3.1211e+00,  ...,  4.0430e+00,\n",
       "            3.7070e+00,  3.3125e+00],\n",
       "          [ 3.1094e+00,  3.1660e+00,  3.2441e+00,  ...,  4.2070e+00,\n",
       "            3.9160e+00,  3.4688e+00],\n",
       "          ...,\n",
       "          [ 4.6172e+00,  4.8359e+00,  5.0078e+00,  ...,  4.5391e+00,\n",
       "            4.2930e+00,  4.1523e+00],\n",
       "          [ 4.2930e+00,  4.5469e+00,  4.7734e+00,  ...,  4.2852e+00,\n",
       "            3.9473e+00,  3.8691e+00],\n",
       "          [ 4.1992e+00,  4.3477e+00,  4.6250e+00,  ...,  4.1172e+00,\n",
       "            3.8711e+00,  3.9180e+00]],\n",
       "\n",
       "         [[ 1.3154e+00,  1.1152e+00,  1.1455e+00,  ...,  4.2734e+00,\n",
       "            3.9473e+00,  3.8906e+00],\n",
       "          [ 1.1309e+00,  1.1543e+00,  1.2529e+00,  ...,  4.5859e+00,\n",
       "            4.1797e+00,  3.9414e+00],\n",
       "          [ 1.2373e+00,  1.3623e+00,  1.4756e+00,  ...,  4.8359e+00,\n",
       "            4.4922e+00,  4.2344e+00],\n",
       "          ...,\n",
       "          [ 3.8223e+00,  4.1328e+00,  4.2852e+00,  ...,  3.9121e+00,\n",
       "            3.6621e+00,  3.3184e+00],\n",
       "          [ 3.5352e+00,  3.8594e+00,  4.0273e+00,  ...,  3.5215e+00,\n",
       "            3.2598e+00,  3.0566e+00],\n",
       "          [ 3.6504e+00,  3.6348e+00,  3.8398e+00,  ...,  3.1660e+00,\n",
       "            3.0273e+00,  3.2715e+00]],\n",
       "\n",
       "         [[ 2.7402e+00,  2.7383e+00,  2.9258e+00,  ...,  3.8008e+00,\n",
       "            3.5352e+00,  3.5117e+00],\n",
       "          [ 2.7383e+00,  3.2344e+00,  3.5117e+00,  ...,  4.1641e+00,\n",
       "            3.8184e+00,  3.4570e+00],\n",
       "          [ 2.9336e+00,  3.5195e+00,  3.7871e+00,  ...,  4.3711e+00,\n",
       "            4.0586e+00,  3.6211e+00],\n",
       "          ...,\n",
       "          [ 6.2539e+00,  6.7070e+00,  6.9883e+00,  ...,  6.5000e+00,\n",
       "            6.2305e+00,  5.8750e+00],\n",
       "          [ 5.8438e+00,  6.3516e+00,  6.7812e+00,  ...,  6.2109e+00,\n",
       "            5.7656e+00,  5.3438e+00],\n",
       "          [ 5.3828e+00,  6.0195e+00,  6.5234e+00,  ...,  5.9141e+00,\n",
       "            5.3945e+00,  4.9180e+00]]],\n",
       "\n",
       "\n",
       "        ...,\n",
       "\n",
       "\n",
       "        [[[-3.5596e-01, -3.2153e-01, -3.9941e-01,  ..., -3.1875e+00,\n",
       "           -2.9961e+00, -2.3027e+00],\n",
       "          [-2.6514e-01, -4.2920e-01, -5.0635e-01,  ..., -4.0195e+00,\n",
       "           -3.8789e+00, -3.1660e+00],\n",
       "          [-3.4717e-01, -5.6738e-01, -7.1729e-01,  ..., -4.4023e+00,\n",
       "           -4.3398e+00, -3.6211e+00],\n",
       "          ...,\n",
       "          [-2.4062e+00, -2.8379e+00, -3.0977e+00,  ..., -2.1875e+00,\n",
       "           -2.2461e+00, -1.7139e+00],\n",
       "          [-2.2227e+00, -2.7070e+00, -2.9043e+00,  ..., -2.1719e+00,\n",
       "           -2.1230e+00, -1.6875e+00],\n",
       "          [-1.7627e+00, -2.3086e+00, -2.5195e+00,  ..., -1.5566e+00,\n",
       "           -1.5918e+00, -1.4746e+00]],\n",
       "\n",
       "         [[-6.4404e-01, -6.3916e-01, -7.0850e-01,  ..., -1.7314e+00,\n",
       "           -1.7217e+00, -1.4658e+00],\n",
       "          [-6.0059e-01, -5.9717e-01, -7.5928e-01,  ..., -2.1191e+00,\n",
       "           -2.1914e+00, -1.9248e+00],\n",
       "          [-6.7676e-01, -7.7588e-01, -1.0166e+00,  ..., -2.2676e+00,\n",
       "           -2.4004e+00, -2.0430e+00],\n",
       "          ...,\n",
       "          [-1.2715e+00, -1.4707e+00, -1.4971e+00,  ..., -1.4434e+00,\n",
       "           -1.3516e+00, -9.4385e-01],\n",
       "          [-1.1738e+00, -1.4336e+00, -1.4756e+00,  ..., -1.3926e+00,\n",
       "           -1.2422e+00, -8.5010e-01],\n",
       "          [-1.0947e+00, -1.3096e+00, -1.4375e+00,  ..., -9.8535e-01,\n",
       "           -8.9307e-01, -7.5195e-01]],\n",
       "\n",
       "         [[-1.4639e+00, -1.7686e+00, -1.9814e+00,  ..., -1.6221e+00,\n",
       "           -1.5996e+00, -1.3311e+00],\n",
       "          [-1.8594e+00, -2.1719e+00, -2.4395e+00,  ..., -1.9004e+00,\n",
       "           -1.9902e+00, -1.6934e+00],\n",
       "          [-2.0898e+00, -2.4375e+00, -2.6621e+00,  ..., -2.0566e+00,\n",
       "           -2.1445e+00, -1.8340e+00],\n",
       "          ...,\n",
       "          [-1.8125e+00, -2.1621e+00, -2.3164e+00,  ..., -2.8340e+00,\n",
       "           -2.8164e+00, -2.4219e+00],\n",
       "          [-1.6973e+00, -2.1191e+00, -2.3008e+00,  ..., -2.6797e+00,\n",
       "           -2.6230e+00, -2.2461e+00],\n",
       "          [-1.4512e+00, -1.8936e+00, -2.1133e+00,  ..., -2.3301e+00,\n",
       "           -2.2559e+00, -1.8047e+00]],\n",
       "\n",
       "         ...,\n",
       "\n",
       "         [[-1.7686e+00, -2.1367e+00, -2.3164e+00,  ..., -2.1250e+00,\n",
       "           -2.0586e+00, -1.6299e+00],\n",
       "          [-2.2012e+00, -2.5957e+00, -2.8027e+00,  ..., -2.5273e+00,\n",
       "           -2.4512e+00, -2.1445e+00],\n",
       "          [-2.4258e+00, -2.8438e+00, -3.0195e+00,  ..., -2.7461e+00,\n",
       "           -2.6758e+00, -2.2812e+00],\n",
       "          ...,\n",
       "          [-8.9160e-01, -8.4863e-01, -8.8770e-01,  ..., -1.5283e+00,\n",
       "           -1.6279e+00, -1.4951e+00],\n",
       "          [-8.0371e-01, -8.6865e-01, -8.6084e-01,  ..., -1.4893e+00,\n",
       "           -1.5654e+00, -1.4043e+00],\n",
       "          [-8.1006e-01, -8.7598e-01, -9.4238e-01,  ..., -1.3906e+00,\n",
       "           -1.3984e+00, -1.2061e+00]],\n",
       "\n",
       "         [[-5.3223e-01, -3.4985e-01, -3.2007e-01,  ..., -3.0840e+00,\n",
       "           -2.8340e+00, -2.1523e+00],\n",
       "          [-5.6543e-01, -3.8525e-01, -4.4678e-01,  ..., -3.9004e+00,\n",
       "           -3.7500e+00, -2.9941e+00],\n",
       "          [-4.7974e-01, -3.6133e-01, -4.4458e-01,  ..., -4.1328e+00,\n",
       "           -4.1406e+00, -3.4102e+00],\n",
       "          ...,\n",
       "          [-2.2598e+00, -2.6035e+00, -2.6426e+00,  ..., -6.1055e+00,\n",
       "           -5.9180e+00, -4.7617e+00],\n",
       "          [-2.1191e+00, -2.5195e+00, -2.6758e+00,  ..., -5.7617e+00,\n",
       "           -5.3320e+00, -4.1641e+00],\n",
       "          [-1.6562e+00, -2.1465e+00, -2.3613e+00,  ..., -4.6758e+00,\n",
       "           -4.1953e+00, -2.9863e+00]],\n",
       "\n",
       "         [[-1.3516e+00, -1.6621e+00, -1.8467e+00,  ..., -2.2285e+00,\n",
       "           -2.1309e+00, -1.6641e+00],\n",
       "          [-1.7480e+00, -2.0078e+00, -2.2793e+00,  ..., -2.7266e+00,\n",
       "           -2.6367e+00, -2.2148e+00],\n",
       "          [-1.9326e+00, -2.2422e+00, -2.5195e+00,  ..., -2.9922e+00,\n",
       "           -2.9004e+00, -2.4219e+00],\n",
       "          ...,\n",
       "          [-1.3047e+00, -1.8418e+00, -2.0645e+00,  ..., -2.4646e-01,\n",
       "           -1.5161e-01, -2.7881e-01],\n",
       "          [-1.2314e+00, -1.7656e+00, -1.9785e+00,  ..., -1.5112e-01,\n",
       "           -1.2286e-01, -3.1494e-01],\n",
       "          [-1.1689e+00, -1.5020e+00, -1.7344e+00,  ..., -2.7246e-01,\n",
       "           -3.1763e-01, -5.4004e-01]]],\n",
       "\n",
       "\n",
       "        [[[ 1.8848e+00,  2.2539e+00,  2.3105e+00,  ...,  3.5527e+00,\n",
       "            3.3184e+00,  2.6855e+00],\n",
       "          [ 2.2305e+00,  2.4492e+00,  2.5664e+00,  ...,  3.8945e+00,\n",
       "            3.7344e+00,  3.4102e+00],\n",
       "          [ 2.3086e+00,  2.5430e+00,  2.5352e+00,  ...,  3.9727e+00,\n",
       "            3.8965e+00,  3.6367e+00],\n",
       "          ...,\n",
       "          [ 5.7578e+00,  6.6562e+00,  6.8633e+00,  ..., -5.4590e-01,\n",
       "           -3.0591e-01,  3.4180e-03],\n",
       "          [ 5.2891e+00,  6.1484e+00,  6.5312e+00,  ..., -4.1089e-01,\n",
       "           -1.8445e-01,  1.3037e-01],\n",
       "          [ 4.0859e+00,  5.3086e+00,  5.7031e+00,  ..., -2.1194e-02,\n",
       "            1.6235e-01,  4.8291e-01]],\n",
       "\n",
       "         [[ 9.5703e-01,  9.4775e-01,  8.4912e-01,  ...,  5.8203e+00,\n",
       "            5.3359e+00,  4.1484e+00],\n",
       "          [ 9.3457e-01,  6.8652e-01,  6.0010e-01,  ...,  6.8359e+00,\n",
       "            6.3047e+00,  5.3555e+00],\n",
       "          [ 8.2812e-01,  5.6543e-01,  4.0381e-01,  ...,  7.2500e+00,\n",
       "            6.8203e+00,  5.8984e+00],\n",
       "          ...,\n",
       "          [ 1.6855e+00,  1.7129e+00,  1.6846e+00,  ..., -1.3794e-01,\n",
       "           -5.7617e-02,  3.9600e-01],\n",
       "          [ 1.6328e+00,  1.6846e+00,  1.6484e+00,  ..., -6.8726e-02,\n",
       "           -9.9640e-03,  4.6948e-01],\n",
       "          [ 1.5293e+00,  1.6582e+00,  1.6562e+00,  ...,  4.4336e-01,\n",
       "            5.3027e-01,  7.3486e-01]],\n",
       "\n",
       "         [[ 4.3047e+00,  5.4922e+00,  5.8984e+00,  ...,  3.9219e+00,\n",
       "            3.5723e+00,  2.8281e+00],\n",
       "          [ 5.4727e+00,  6.5117e+00,  6.9180e+00,  ...,  4.4297e+00,\n",
       "            4.1484e+00,  3.6250e+00],\n",
       "          [ 5.9102e+00,  6.9375e+00,  7.2109e+00,  ...,  4.5820e+00,\n",
       "            4.4180e+00,  3.9805e+00],\n",
       "          ...,\n",
       "          [ 3.7383e+00,  4.3203e+00,  4.4141e+00,  ...,  6.6055e+00,\n",
       "            6.2227e+00,  5.3125e+00],\n",
       "          [ 3.4688e+00,  4.0586e+00,  4.2422e+00,  ...,  6.2461e+00,\n",
       "            5.6562e+00,  4.7930e+00],\n",
       "          [ 2.7383e+00,  3.4883e+00,  3.7285e+00,  ...,  5.2812e+00,\n",
       "            4.7578e+00,  3.6250e+00]],\n",
       "\n",
       "         ...,\n",
       "\n",
       "         [[ 9.5068e-01,  8.8135e-01,  9.2041e-01,  ...,  5.5234e+00,\n",
       "            5.0938e+00,  3.9180e+00],\n",
       "          [ 8.3496e-01,  6.2939e-01,  7.9590e-01,  ...,  6.4766e+00,\n",
       "            6.0547e+00,  5.1172e+00],\n",
       "          [ 7.9980e-01,  6.9922e-01,  8.2910e-01,  ...,  6.7578e+00,\n",
       "            6.4062e+00,  5.5312e+00],\n",
       "          ...,\n",
       "          [ 2.7559e+00,  3.0430e+00,  3.0938e+00,  ...,  4.2969e+00,\n",
       "            4.1172e+00,  3.6504e+00],\n",
       "          [ 2.5508e+00,  2.8711e+00,  2.9590e+00,  ...,  4.1367e+00,\n",
       "            3.7812e+00,  3.2812e+00],\n",
       "          [ 2.1055e+00,  2.5566e+00,  2.6875e+00,  ...,  3.6367e+00,\n",
       "            3.2559e+00,  2.5020e+00]],\n",
       "\n",
       "         [[ 7.8809e-01,  6.1523e-01,  5.0342e-01,  ...,  2.3066e+00,\n",
       "            2.1895e+00,  1.8857e+00],\n",
       "          [ 5.7520e-01,  2.7979e-01,  1.0754e-01,  ...,  2.5156e+00,\n",
       "            2.4336e+00,  2.3105e+00],\n",
       "          [ 3.9209e-01,  9.9243e-02, -6.0150e-02,  ...,  2.6406e+00,\n",
       "            2.5586e+00,  2.4805e+00],\n",
       "          ...,\n",
       "          [ 3.2871e+00,  3.6250e+00,  3.7285e+00,  ...,  3.0410e+00,\n",
       "            2.9570e+00,  2.8086e+00],\n",
       "          [ 2.9668e+00,  3.3184e+00,  3.4531e+00,  ...,  2.8906e+00,\n",
       "            2.7148e+00,  2.5605e+00],\n",
       "          [ 2.4316e+00,  3.0410e+00,  3.2812e+00,  ...,  2.7910e+00,\n",
       "            2.5469e+00,  2.1367e+00]],\n",
       "\n",
       "         [[ 4.6055e+00,  5.9102e+00,  6.3516e+00,  ...,  4.9727e+00,\n",
       "            4.6484e+00,  3.5723e+00],\n",
       "          [ 5.8320e+00,  7.0625e+00,  7.5391e+00,  ...,  5.8867e+00,\n",
       "            5.6016e+00,  4.6797e+00],\n",
       "          [ 6.1875e+00,  7.5117e+00,  7.8867e+00,  ...,  6.1758e+00,\n",
       "            5.9727e+00,  5.1055e+00],\n",
       "          ...,\n",
       "          [ 1.2949e+00,  1.2178e+00,  1.1113e+00,  ...,  1.6465e+00,\n",
       "            1.5957e+00,  1.6016e+00],\n",
       "          [ 1.2969e+00,  1.2480e+00,  1.1436e+00,  ...,  1.6064e+00,\n",
       "            1.4941e+00,  1.5566e+00],\n",
       "          [ 1.3760e+00,  1.4180e+00,  1.3848e+00,  ...,  1.6611e+00,\n",
       "            1.6016e+00,  1.4346e+00]]],\n",
       "\n",
       "\n",
       "        [[[-2.3706e-01, -3.3008e-01, -2.4084e-01,  ..., -6.0010e-01,\n",
       "           -5.4102e-01, -2.7100e-01],\n",
       "          [-3.5498e-01, -4.7998e-01, -3.9380e-01,  ..., -9.0137e-01,\n",
       "           -8.1104e-01, -5.0928e-01],\n",
       "          [-2.4829e-01, -3.7964e-01, -3.3423e-01,  ..., -8.5547e-01,\n",
       "           -7.6416e-01, -4.6826e-01],\n",
       "          ...,\n",
       "          [-6.8066e-01, -8.0371e-01, -6.7822e-01,  ..., -2.3086e+00,\n",
       "           -2.1973e+00, -1.5684e+00],\n",
       "          [-7.3730e-01, -7.9053e-01, -6.7188e-01,  ..., -2.0859e+00,\n",
       "           -1.8984e+00, -1.3203e+00],\n",
       "          [-5.0098e-01, -6.6406e-01, -5.4199e-01,  ..., -1.6143e+00,\n",
       "           -1.4473e+00, -7.9199e-01]],\n",
       "\n",
       "         [[-5.6689e-01, -7.5488e-01, -6.8213e-01,  ..., -1.1660e+00,\n",
       "           -1.0605e+00, -6.6504e-01],\n",
       "          [-7.6562e-01, -9.3848e-01, -7.7637e-01,  ..., -1.4531e+00,\n",
       "           -1.2891e+00, -9.9902e-01],\n",
       "          [-6.8994e-01, -7.9688e-01, -6.3672e-01,  ..., -1.4990e+00,\n",
       "           -1.3652e+00, -1.0820e+00],\n",
       "          ...,\n",
       "          [-1.2158e+00, -1.5205e+00, -1.3994e+00,  ...,  5.0742e+00,\n",
       "            4.7578e+00,  3.7344e+00],\n",
       "          [-1.2324e+00, -1.6172e+00, -1.5420e+00,  ...,  4.7109e+00,\n",
       "            4.1211e+00,  3.0449e+00],\n",
       "          [-8.2812e-01, -1.1211e+00, -1.0820e+00,  ...,  3.6758e+00,\n",
       "            3.0254e+00,  1.8613e+00]],\n",
       "\n",
       "         [[-9.7363e-01, -1.2598e+00, -1.2725e+00,  ..., -8.5449e-01,\n",
       "           -7.5439e-01, -4.5581e-01],\n",
       "          [-1.2959e+00, -1.6250e+00, -1.6582e+00,  ..., -1.0674e+00,\n",
       "           -9.9609e-01, -6.5576e-01],\n",
       "          [-1.3047e+00, -1.6436e+00, -1.6250e+00,  ..., -9.2676e-01,\n",
       "           -9.5801e-01, -6.6650e-01],\n",
       "          ...,\n",
       "          [-1.0371e+00, -1.3848e+00, -1.2549e+00,  ..., -8.3984e-01,\n",
       "           -7.6514e-01, -6.1572e-01],\n",
       "          [-1.0156e+00, -1.3926e+00, -1.3203e+00,  ..., -8.1543e-01,\n",
       "           -7.5635e-01, -6.0449e-01],\n",
       "          [-6.5430e-01, -9.0234e-01, -8.4473e-01,  ..., -6.9238e-01,\n",
       "           -6.7285e-01, -4.8047e-01]],\n",
       "\n",
       "         ...,\n",
       "\n",
       "         [[-3.8843e-01, -4.6997e-01, -3.5596e-01,  ..., -8.7256e-01,\n",
       "           -8.2910e-01, -5.2002e-01],\n",
       "          [-4.7510e-01, -4.3213e-01, -2.7393e-01,  ..., -1.0908e+00,\n",
       "           -1.0215e+00, -7.3730e-01],\n",
       "          [-3.5083e-01, -2.6074e-01, -6.7017e-02,  ..., -1.0098e+00,\n",
       "           -9.7510e-01, -7.2363e-01],\n",
       "          ...,\n",
       "          [-1.3330e+00, -1.6660e+00, -1.5293e+00,  ..., -1.2236e+00,\n",
       "           -1.1895e+00, -9.2090e-01],\n",
       "          [-1.3418e+00, -1.7080e+00, -1.6309e+00,  ..., -1.2266e+00,\n",
       "           -1.1895e+00, -8.4863e-01],\n",
       "          [-9.0381e-01, -1.2363e+00, -1.1934e+00,  ..., -9.4775e-01,\n",
       "           -8.7256e-01, -5.7568e-01]],\n",
       "\n",
       "         [[-7.5928e-01, -1.3408e+00, -1.5000e+00,  ..., -5.7715e-01,\n",
       "           -5.5078e-01, -3.2251e-01],\n",
       "          [-1.3721e+00, -2.0586e+00, -2.2695e+00,  ..., -7.7832e-01,\n",
       "           -7.3145e-01, -5.1514e-01],\n",
       "          [-1.5381e+00, -2.2988e+00, -2.5332e+00,  ..., -6.9531e-01,\n",
       "           -6.8359e-01, -4.8120e-01],\n",
       "          ...,\n",
       "          [-5.3467e-01, -7.6904e-01, -6.6309e-01,  ..., -1.4124e-01,\n",
       "           -8.7891e-02, -4.7272e-02],\n",
       "          [-4.9536e-01, -7.2461e-01, -6.2305e-01,  ..., -1.2634e-01,\n",
       "           -1.5466e-01, -1.0059e-01],\n",
       "          [-3.1055e-01, -4.8120e-01, -4.0552e-01,  ..., -8.3191e-02,\n",
       "           -1.0565e-01, -4.1809e-02]],\n",
       "\n",
       "         [[-6.9043e-01, -8.3447e-01, -7.9346e-01,  ..., -7.6562e-01,\n",
       "           -7.1582e-01, -4.9878e-01],\n",
       "          [-8.6035e-01, -1.0742e+00, -1.0527e+00,  ..., -9.4922e-01,\n",
       "           -9.1699e-01, -6.7236e-01],\n",
       "          [-8.0469e-01, -1.0176e+00, -9.4678e-01,  ..., -8.9990e-01,\n",
       "           -8.8818e-01, -6.7773e-01],\n",
       "          ...,\n",
       "          [ 7.0117e-01,  1.0137e+00,  1.2637e+00,  ..., -6.7334e-01,\n",
       "           -7.0703e-01, -4.5239e-01],\n",
       "          [ 5.0781e-01,  7.9199e-01,  1.1289e+00,  ..., -7.9785e-01,\n",
       "           -8.3105e-01, -4.7607e-01],\n",
       "          [ 2.9883e-01,  5.7178e-01,  8.8428e-01,  ..., -5.1855e-01,\n",
       "           -5.2197e-01, -3.2178e-01]]]], dtype=torch.float16)"
      ]
     },
     "execution_count": 49,
     "metadata": {},
     "output_type": "execute_result"
    }
   ],
   "source": [
    "pred_logits"
   ]
  },
  {
   "cell_type": "code",
   "execution_count": 50,
   "id": "ad8a5bf9-9282-4d79-8fbd-a168081194dd",
   "metadata": {},
   "outputs": [
    {
     "data": {
      "text/plain": [
       "torch.Size([8, 17, 1024, 1024])"
      ]
     },
     "execution_count": 50,
     "metadata": {},
     "output_type": "execute_result"
    }
   ],
   "source": [
    "pred_logits.shape"
   ]
  },
  {
   "cell_type": "code",
   "execution_count": null,
   "id": "64ce5cde-3a94-4e54-9460-3dc3dff4b700",
   "metadata": {},
   "outputs": [],
   "source": []
  },
  {
   "cell_type": "code",
   "execution_count": 51,
   "id": "ae923d4a-e807-404d-bf97-591d905fe020",
   "metadata": {},
   "outputs": [
    {
     "ename": "NameError",
     "evalue": "name 'ar' is not defined",
     "output_type": "error",
     "traceback": [
      "\u001b[0;31m---------------------------------------------------------------------------\u001b[0m",
      "\u001b[0;31mNameError\u001b[0m                                 Traceback (most recent call last)",
      "Input \u001b[0;32mIn [51]\u001b[0m, in \u001b[0;36m<cell line: 1>\u001b[0;34m()\u001b[0m\n\u001b[0;32m----> 1\u001b[0m np\u001b[38;5;241m.\u001b[39mmean(\u001b[43mar\u001b[49m, axis\u001b[38;5;241m=\u001b[39m\u001b[38;5;241m0\u001b[39m)\n",
      "\u001b[0;31mNameError\u001b[0m: name 'ar' is not defined"
     ]
    }
   ],
   "source": [
    "np.mean(ar, axis=0)"
   ]
  },
  {
   "cell_type": "code",
   "execution_count": null,
   "id": "8063f15b-af96-4382-ba2e-0a3a6b58f838",
   "metadata": {},
   "outputs": [],
   "source": [
    "# softmax_fn = torch.nn.Softmax()"
   ]
  },
  {
   "cell_type": "code",
   "execution_count": null,
   "id": "ca8622ab-3861-4966-b921-d5d92d90e184",
   "metadata": {},
   "outputs": [],
   "source": []
  },
  {
   "cell_type": "code",
   "execution_count": null,
   "id": "0ab6921b-568f-49f1-9278-3fd718581bbb",
   "metadata": {},
   "outputs": [],
   "source": [
    "pred_seg = trainer.label_manager.convert_logits_to_segmentation(pred_logits)"
   ]
  },
  {
   "cell_type": "code",
   "execution_count": null,
   "id": "70a3d59b-fbce-4a82-9340-58a2b186f270",
   "metadata": {},
   "outputs": [],
   "source": [
    "for seg in pred_seg[:3]:\n",
    "    plt.imshow(seg, **label_plot_args)\n",
    "    plt.show()"
   ]
  },
  {
   "cell_type": "code",
   "execution_count": null,
   "id": "77af1932-fe40-4760-8999-ae3d20f93ae7",
   "metadata": {},
   "outputs": [],
   "source": [
    "# plt.imshow(pred_seg)"
   ]
  },
  {
   "cell_type": "code",
   "execution_count": null,
   "id": "d0097ed9-7d88-498e-b6f4-aa8ed2c2bbf1",
   "metadata": {},
   "outputs": [],
   "source": [
    "pred_logits"
   ]
  },
  {
   "cell_type": "code",
   "execution_count": null,
   "id": "fd730915-df4e-44c3-976e-c1875a5dd330",
   "metadata": {},
   "outputs": [],
   "source": [
    "# from nnunetv2.inference.export_prediction import export_prediction_from_logits, \\\n",
    "#     convert_predicted_logits_to_segmentation_with_correct_shape\n",
    "# seg_fn2 = convert_predicted_logits_to_segmentation_with_correct_shape(pred_logits)"
   ]
  },
  {
   "cell_type": "code",
   "execution_count": null,
   "id": "01a5b7dc-cd7b-43f4-93be-df26cb0cbfbe",
   "metadata": {},
   "outputs": [],
   "source": [
    "pred_logits.shape"
   ]
  },
  {
   "cell_type": "code",
   "execution_count": null,
   "id": "cf6e81ef-5164-41b1-885a-3792f3a13e66",
   "metadata": {},
   "outputs": [],
   "source": [
    "%matplotlib inline"
   ]
  },
  {
   "cell_type": "code",
   "execution_count": null,
   "id": "15b40017-750f-4232-9558-fd6bd1f8ec88",
   "metadata": {},
   "outputs": [],
   "source": [
    "1/0"
   ]
  },
  {
   "cell_type": "code",
   "execution_count": null,
   "id": "8d0adb3c-9f43-416c-a29d-f316400bcdd8",
   "metadata": {},
   "outputs": [],
   "source": [
    "pred"
   ]
  },
  {
   "cell_type": "code",
   "execution_count": null,
   "id": "cde5e27b-854d-458e-b229-bb68465aa8d7",
   "metadata": {},
   "outputs": [],
   "source": [
    "softmax_fn(pred).shape"
   ]
  },
  {
   "cell_type": "code",
   "execution_count": null,
   "id": "8a0eba85-fdce-455e-bd1a-c551c4b97218",
   "metadata": {},
   "outputs": [],
   "source": [
    "inference_gaussian = torch.from_numpy(\n",
    "    compute_gaussian(\n",
    "        trainer.configuration_manager.patch_size, \n",
    "        sigma_scale=1. / 8))"
   ]
  },
  {
   "cell_type": "code",
   "execution_count": null,
   "id": "d5027135-4f3f-40a6-9018-a823c9cb879e",
   "metadata": {},
   "outputs": [],
   "source": [
    "pred = predict_sliding_window_return_logits(\n",
    "    trainer.network, \n",
    "    data['data'], \n",
    "    trainer.label_manager.num_segmentation_heads,\n",
    "    tile_size=trainer.configuration_manager.patch_size,\n",
    "    mirror_axes=trainer.inference_allowed_mirroring_axes,\n",
    "    tile_step_size=0.5,\n",
    "    use_gaussian=True,\n",
    "    precomputed_gaussian=inference_gaussian,\n",
    "    perform_everything_on_gpu=True,\n",
    "    verbose=True,\n",
    "    device=trainer.device).cpu().numpy()"
   ]
  },
  {
   "cell_type": "code",
   "execution_count": null,
   "id": "a598b0b7-1eae-43c5-8447-30daabb619da",
   "metadata": {},
   "outputs": [],
   "source": [
    "prediction = predict_sliding_window_return_logits(self.network, data, num_seg_heads,\n",
    "                                                                      tile_size=self.configuration_manager.patch_size,\n",
    "                                                                      mirror_axes=self.inference_allowed_mirroring_axes,\n",
    "                                                                      tile_step_size=0.5,\n",
    "                                                                      use_gaussian=True,\n",
    "                                                                      precomputed_gaussian=inference_gaussian,\n",
    "                                                                      perform_everything_on_gpu=True,\n",
    "                                                                      verbose=False,\n",
    "                                                                      device=self.device).cpu().numpy()"
   ]
  },
  {
   "cell_type": "code",
   "execution_count": null,
   "id": "6b976b82-d23a-42c7-ad30-14cc0ae5d64e",
   "metadata": {},
   "outputs": [],
   "source": []
  },
  {
   "cell_type": "code",
   "execution_count": null,
   "id": "fef65378-39e6-4009-9c5f-83d737827335",
   "metadata": {},
   "outputs": [],
   "source": []
  },
  {
   "cell_type": "code",
   "execution_count": null,
   "id": "f9a3dbb5-85ab-44ff-b470-af0ba30507f0",
   "metadata": {},
   "outputs": [],
   "source": [
    "trainer.network"
   ]
  },
  {
   "cell_type": "code",
   "execution_count": null,
   "id": "180b61cf-de71-48a5-bb49-3c28a228b186",
   "metadata": {},
   "outputs": [],
   "source": [
    "# # RUN trainer EXPORT, doesnt work...\n",
    "\n",
    "# trainer, plans, config = trainer__plans__config.split('__')\n",
    "# folds = (0,)\n",
    "# checkpoint = ('checkpoint_best.pth',)\n",
    "# output_filename = 'trainer_export_test.zip'\n",
    "\n",
    "\n",
    "# export_pretrained_trainer(dataset_name_or_id = dataset, \n",
    "#                         output_file = output_filename,\n",
    "#                         configurations = (\"2d\", ),\n",
    "#                         trainer = trainer,\n",
    "#                         plans_identifier  = plans,\n",
    "#                         folds = folds,\n",
    "#                         strict = True,\n",
    "#                         save_checkpoints = checkpoint,\n",
    "#                         export_crossval_predictions = False)"
   ]
  },
  {
   "cell_type": "code",
   "execution_count": null,
   "id": "6154176b-a262-49d4-b23c-70ae4a899353",
   "metadata": {},
   "outputs": [],
   "source": []
  }
 ],
 "metadata": {
  "kernelspec": {
   "display_name": "Python 3 (ipykernel)",
   "language": "python",
   "name": "python3"
  },
  "language_info": {
   "codemirror_mode": {
    "name": "ipython",
    "version": 3
   },
   "file_extension": ".py",
   "mimetype": "text/x-python",
   "name": "python",
   "nbconvert_exporter": "python",
   "pygments_lexer": "ipython3",
   "version": "3.9.13"
  }
 },
 "nbformat": 4,
 "nbformat_minor": 5
}
