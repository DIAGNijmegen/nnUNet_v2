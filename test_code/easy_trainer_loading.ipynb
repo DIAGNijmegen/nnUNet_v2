{
 "cells": [
  {
   "cell_type": "markdown",
   "id": "35364ee1-a31e-4976-ab4d-f5b3b453d237",
   "metadata": {},
   "source": [
    "# EASY TRAINER LOADING\n",
    "---\n",
    "Note that this is different cfrom loading a predictor (for indference)"
   ]
  },
  {
   "cell_type": "code",
   "execution_count": 2,
   "id": "85593bd0-3cd1-438f-a1a0-20ef52afe0fc",
   "metadata": {},
   "outputs": [],
   "source": [
    "# !pip3 install -e /data/pathology/projects/pathology-lung-TIL/nnUNet_v2"
   ]
  },
  {
   "cell_type": "markdown",
   "id": "c12e25af-d4ba-4651-b022-f059c309d4fc",
   "metadata": {},
   "source": [
    "# Libraries and utils"
   ]
  },
  {
   "cell_type": "code",
   "execution_count": 3,
   "id": "287c3fe4-9e9c-4b58-bacf-6417865328b4",
   "metadata": {},
   "outputs": [
    {
     "name": "stdout",
     "output_type": "stream",
     "text": [
      "nnUNet_raw is not defined and nnU-Net can only be used on data for which preprocessed files are already present on your system. nnU-Net cannot be used for experiment planning and preprocessing like this. If this is not intended, please read documentation/setting_up_paths.md for information on how to set this up properly.\n",
      "INSTEAD USING HARDCODED: /data/pathology/projects/pathology-lung-TIL/nnUNet_v2/data/nnUNet_raw\n",
      "nnUNet_preprocessed is not defined and nnU-Net can not be used for preprocessing or training. If this is not intended, please read documentation/setting_up_paths.md for information on how to set this up.\n",
      "INSTEAD USING HARDCODED: /data/pathology/projects/pathology-lung-TIL/nnUNet_v2/data/nnUNet_preprocessed\n",
      "nnUNet_results is not defined and nnU-Net cannot be used for training or inference. If this is not intended behavior, please read documentation/setting_up_paths.md for information on how to set this up.\n",
      "INSTEAD USING HARDCODED: /data/pathology/projects/pathology-lung-TIL/nnUNet_v2/data/nnUNet_results\n"
     ]
    }
   ],
   "source": [
    "import os\n",
    "import torch\n",
    "from nnunetv2.run.run_training import get_trainer_from_args\n",
    "from nnunetv2.experiment_planning.experiment_planners.pathology_experiment_planner import PathologyExperimentPlanner\n",
    "from nnunetv2 import paths as nnunetv2_paths"
   ]
  },
  {
   "cell_type": "markdown",
   "id": "50fe573e-57dc-49f0-a3aa-1dc38b8b0142",
   "metadata": {},
   "source": [
    "# Set variables"
   ]
  },
  {
   "cell_type": "code",
   "execution_count": 4,
   "id": "d20275af-10d5-47f4-9004-85d1b190a325",
   "metadata": {},
   "outputs": [
    {
     "data": {
      "text/plain": [
       "['Dataset004_TIGER_split',\n",
       " 'Dataset005_PDL1_test',\n",
       " 'Dataset006_pseudo_labeling_test',\n",
       " 'Dataset007_PDL1_simplified_annotations',\n",
       " 'Dataset008_PDL1_simplified_and_union_annotations',\n",
       " 'Dataset009_pseudo_labeling_test2',\n",
       " 'Dataset010_pseudo_labeling_test3',\n",
       " 'Dataset011_pseudo_labeling_test4_json_spacing8',\n",
       " 'Dataset012_pseudo_labeling_test4_json_spacing4',\n",
       " 'Dataset013_pseudo_labeling_test4_json_sapcing2',\n",
       " 'temp_old_Dataset004_TIGER_split']"
      ]
     },
     "execution_count": 4,
     "metadata": {},
     "output_type": "execute_result"
    }
   ],
   "source": [
    "sorted(os.listdir(nnunetv2_paths.nnUNet_preprocessed))"
   ]
  },
  {
   "cell_type": "code",
   "execution_count": 4,
   "id": "429dea2c-6d53-42f3-8010-d6a068188867",
   "metadata": {},
   "outputs": [],
   "source": [
    "dataset_name_or_id = '8'\n",
    "configuration = '2d'\n",
    "fold = 0\n",
    "trainer_class_name = 'nnUNetTrainer_WSD_wei_nnunet_aug_json'\n",
    "plans_identifier = 'nnUNetWholeSlideDataPlans'\n",
    "use_compressed_data = False\n",
    "device = torch.device('cuda')"
   ]
  },
  {
   "cell_type": "markdown",
   "id": "82e782fa-6710-47e1-9622-0ee75e3cdde0",
   "metadata": {},
   "source": [
    "# Experiment planning"
   ]
  },
  {
   "cell_type": "code",
   "execution_count": 5,
   "id": "a8d3b33f-b8bb-4d9f-b9ad-f57eb1bc9080",
   "metadata": {},
   "outputs": [
    {
     "name": "stdout",
     "output_type": "stream",
     "text": [
      "GPU Memory Size: 11.00 GB\n",
      "fullres_spacing_transposed[1:] [1, 1]\n",
      "new_median_shape_transposed[1:] [1024, 1024]\n",
      "self.generate_data_identifier(2d) nnUNetWholeSlideDataPlans_2d\n",
      "approximate_n_voxels_dataset None\n",
      "[1024 1024]\n",
      "square [896, 896]\n",
      "[896 896]\n",
      "square [768, 768]\n",
      "[768 768]\n",
      "square [640, 640]\n",
      "[640 640]\n",
      "square [512, 512]\n",
      "2D U-Net configuration:\n",
      "{'data_identifier': 'nnUNetWholeSlideDataPlans_2d', 'preprocessor_name': 'DefaultPreprocessor', 'batch_size': 16, 'patch_size': array([512, 512]), 'median_image_size_in_voxels': [1024, 1024], 'spacing': [1, 1], 'normalization_schemes': ['RGBTo01Normalization', 'RGBTo01Normalization', 'RGBTo01Normalization'], 'use_mask_for_norm': [False, False, False], 'UNet_class_name': 'PlainConvUNet', 'UNet_base_num_features': 32, 'n_conv_per_stage_encoder': (2, 2, 2, 2, 2, 2, 2, 2), 'n_conv_per_stage_decoder': (2, 2, 2, 2, 2, 2, 2), 'num_pool_per_axis': [7, 7], 'pool_op_kernel_sizes': [[1, 1], [2, 2], [2, 2], [2, 2], [2, 2], [2, 2], [2, 2], [2, 2]], 'conv_kernel_sizes': [[3, 3], [3, 3], [3, 3], [3, 3], [3, 3], [3, 3], [3, 3], [3, 3]], 'unet_max_num_features': 512, 'batch_dice': True}\n",
      "Plans were saved to /data/pathology/projects/pathology-lung-TIL/nnUNet_v2/data/nnUNet_preprocessed/Dataset011_pseudo_labeling_test4_json_spacing8/nnUNetWholeSlideDataPlans.json\n",
      "[DONE PLANNING]\n"
     ]
    }
   ],
   "source": [
    "gpu = PathologyExperimentPlanner.get_gpu_size()\n",
    "planner = PathologyExperimentPlanner(dataset_name_or_id, gpu)\n",
    "plans = planner.plan_experiment()"
   ]
  },
  {
   "cell_type": "markdown",
   "id": "809e6059-aba8-4544-9d06-ee16c499b7f8",
   "metadata": {},
   "source": [
    "# Get trainer"
   ]
  },
  {
   "cell_type": "code",
   "execution_count": 6,
   "id": "f77392df-c1dd-4af1-8c98-7eccf8fc59c6",
   "metadata": {},
   "outputs": [
    {
     "name": "stdout",
     "output_type": "stream",
     "text": [
      "Using device: cuda:0\n",
      "\n",
      "#######################################################################\n",
      "Please cite the following paper when using nnU-Net:\n",
      "Isensee, F., Jaeger, P. F., Kohl, S. A., Petersen, J., & Maier-Hein, K. H. (2021). nnU-Net: a self-configuring method for deep learning-based biomedical image segmentation. Nature methods, 18(2), 203-211.\n",
      "#######################################################################\n",
      "\n"
     ]
    }
   ],
   "source": [
    "# !pip3 install -e /data/pathology/projects/pathology-lung-TIL/nnUNet_v2\n",
    "nnunet_trainer = get_trainer_from_args(dataset_name_or_id, \n",
    "                                       configuration, \n",
    "                                       fold, \n",
    "                                       trainer_class_name, \n",
    "                                       plans_identifier, \n",
    "                                       use_compressed_data, \n",
    "                                       device=device)"
   ]
  },
  {
   "cell_type": "code",
   "execution_count": 7,
   "id": "68ba166c-8966-404a-8655-678617ff7491",
   "metadata": {},
   "outputs": [
    {
     "name": "stdout",
     "output_type": "stream",
     "text": [
      "Found splits.json\n",
      "[Getting WSD dataloaders]\n",
      "[ITERATOR TEMPLATE] Using iterator template: /data/pathology/projects/pathology-lung-TIL/nnUNet_v2/nnunetv2/training/nnUNetTrainer/variants/pathology/wsd_weighted_iterator_nnunet_aug_json_template.json\n",
      "[LABEL SAMPLE WEIGHTS]\n",
      "{'tumor': 0.1, 'stroma': 0.09, 'inflammation': 0.09, 'healthy parenchyma': 0.09, 'fatty tissue': 0.09, 'necrotic tissue': 0.09, 'erytrocytes': 0.09, 'healthy epithelium': 0.09, 'mucus': 0.09, 'cartilage': 0.09, 'macrophages': 0.09}\n",
      "\n",
      "\n",
      "\n",
      "TEMP BATCH SIZE 8\n",
      "\n",
      "\n",
      "\n",
      "Taking random seed 367 for iterators\n",
      "cpus used for iterators =  10\n",
      "[Creating batch iterators]\n",
      "\t[Creating TRAIN batch iterator]\n",
      "| Copied '/data/pathology/projects/pathology-lung-TIL/data/self_supervision/batch1_3_xmls/spacing8_simplify8_exclude_holes/LI_S01_P000029_C0001_L01_A15_nnunet_spacing8_simplify8_exclude_holes.json' | To: '/home/user/annotations/LI_S01_P000029_C0001_L01_A15_nnunet_spacing8_simplify8_exclude_holes.json'\n",
      ".\n",
      "| Copied '/data/pathology/projects/pathology-lung-TIL/data/self_supervision/batch1_3_xmls/spacing8_simplify8_exclude_holes/LI_S01_P000001_C0001_L01_A15_nnunet_spacing8_simplify8_exclude_holes.json' | To: '/home/user/annotations/LI_S01_P000001_C0001_L01_A15_nnunet_spacing8_simplify8_exclude_holes.json'\n",
      ".\n",
      "| Copied '/data/pathology/projects/pathology-lung-TIL/data/self_supervision/batch1_3_xmls/spacing8_simplify8_exclude_holes/LI_S01_P000043_C0001_L01_A15_nnunet_spacing8_simplify8_exclude_holes.json' | To: '/home/user/annotations/LI_S01_P000043_C0001_L01_A15_nnunet_spacing8_simplify8_exclude_holes.json'\n",
      ".\n",
      "| Copied '/data/pathology/projects/pathology-lung-TIL/data/self_supervision/batch1_3_xmls/spacing8_simplify8_exclude_holes/LI_S01_P000022_C0001_L01_A15_nnunet_spacing8_simplify8_exclude_holes.json' | To: '/home/user/annotations/LI_S01_P000022_C0001_L01_A15_nnunet_spacing8_simplify8_exclude_holes.json'\n",
      ".\n",
      "| Copied '/data/pathology/projects/pathology-lung-TIL/data/self_supervision/batch1_3_xmls/spacing8_simplify8_exclude_holes/LI_S01_P000060_C0001_L01_A15_nnunet_spacing8_simplify8_exclude_holes.json' | To: '/home/user/annotations/LI_S01_P000060_C0001_L01_A15_nnunet_spacing8_simplify8_exclude_holes.json'\n",
      ".\n",
      "| Copied '/data/pathology/projects/pathology-lung-TIL/data/self_supervision/batch1_3_xmls/spacing8_simplify8_exclude_holes/EX_S09_P000066_C0001_B101_V01_T01_E001_nnunet_spacing8_simplify8_exclude_holes.json' | To: '/home/user/annotations/EX_S09_P000066_C0001_B101_V01_T01_E001_nnunet_spacing8_simplify8_exclude_holes.json'\n",
      ".\n",
      "| Copied '/data/pathology/projects/pathology-lung-TIL/data/self_supervision/batch1_3_xmls/spacing8_simplify8_exclude_holes/LI_S01_P000026_C0001_L01_A15_nnunet_spacing8_simplify8_exclude_holes.json' | To: '/home/user/annotations/LI_S01_P000026_C0001_L01_A15_nnunet_spacing8_simplify8_exclude_holes.json'\n",
      ".\n",
      "| Copied '/data/pathology/projects/pathology-lung-TIL/data/self_supervision/batch1_3_xmls/spacing8_simplify8_exclude_holes/EX_S09_P000127_C0001_B101_V02_T01_nnunet_spacing8_simplify8_exclude_holes.json' | To: '/home/user/annotations/EX_S09_P000127_C0001_B101_V02_T01_nnunet_spacing8_simplify8_exclude_holes.json'\n",
      ".\n",
      "| Copied '/data/pathology/projects/pathology-lung-TIL/data/self_supervision/batch1_3_xmls/spacing8_simplify8_exclude_holes/LI_S01_P000010_C0001_L01_A15_nnunet_spacing8_simplify8_exclude_holes.json' | To: '/home/user/annotations/LI_S01_P000010_C0001_L01_A15_nnunet_spacing8_simplify8_exclude_holes.json'\n",
      ".\n",
      "| Copied '/data/pathology/projects/pathology-lung-TIL/data/self_supervision/batch1_3_xmls/spacing8_simplify8_exclude_holes/LI_S01_P000017_C0001_L01_A15_nnunet_spacing8_simplify8_exclude_holes.json' | To: '/home/user/annotations/LI_S01_P000017_C0001_L01_A15_nnunet_spacing8_simplify8_exclude_holes.json'\n",
      ".\n",
      "| Copied '/data/pathology/projects/pathology-lung-TIL/data/self_supervision/batch1_3_xmls/spacing8_simplify8_exclude_holes/LI_S01_P000023_C0001_L01_A15_nnunet_spacing8_simplify8_exclude_holes.json' | To: '/home/user/annotations/LI_S01_P000023_C0001_L01_A15_nnunet_spacing8_simplify8_exclude_holes.json'\n",
      ".\n",
      "| Copied '/data/pathology/projects/pathology-lung-TIL/data/self_supervision/batch1_3_xmls/spacing8_simplify8_exclude_holes/LI_S01_P000004_C0001_L01_A15_nnunet_spacing8_simplify8_exclude_holes.json' | To: '/home/user/annotations/LI_S01_P000004_C0001_L01_A15_nnunet_spacing8_simplify8_exclude_holes.json'\n",
      ".\n",
      "| Copied '/data/pathology/projects/pathology-lung-TIL/data/self_supervision/batch1_3_xmls/spacing8_simplify8_exclude_holes/LI_S01_P000013_C0001_L01_A15_nnunet_spacing8_simplify8_exclude_holes.json' | To: '/home/user/annotations/LI_S01_P000013_C0001_L01_A15_nnunet_spacing8_simplify8_exclude_holes.json'\n",
      ".\n",
      "| Copied '/data/pathology/projects/pathology-lung-TIL/data/self_supervision/batch1_3_xmls/spacing8_simplify8_exclude_holes/EX_S09_P000162_C0001_B101_V03_T01_nnunet_spacing8_simplify8_exclude_holes.json' | To: '/home/user/annotations/EX_S09_P000162_C0001_B101_V03_T01_nnunet_spacing8_simplify8_exclude_holes.json'\n",
      ".\n",
      "| Copied '/data/pathology/projects/pathology-lung-TIL/data/self_supervision/batch1_3_xmls/spacing8_simplify8_exclude_holes/EX_S09_P000001_C0001_B101_V04_T01_E002_nnunet_spacing8_simplify8_exclude_holes.json' | To: '/home/user/annotations/EX_S09_P000001_C0001_B101_V04_T01_E002_nnunet_spacing8_simplify8_exclude_holes.json'\n",
      ".\n",
      "| Copied '/data/pathology/projects/pathology-lung-TIL/data/self_supervision/batch1_3_xmls/spacing8_simplify8_exclude_holes/EX_S09_P000077_C0001_B101_V02_T01_nnunet_spacing8_simplify8_exclude_holes.json' | To: '/home/user/annotations/EX_S09_P000077_C0001_B101_V02_T01_nnunet_spacing8_simplify8_exclude_holes.json'\n",
      ".\n",
      "| Copied '/data/pathology/projects/pathology-lung-TIL/data/self_supervision/batch1_3_xmls/spacing8_simplify8_exclude_holes/LI_S01_P000015_C0001_L01_A15_nnunet_spacing8_simplify8_exclude_holes.json' | To: '/home/user/annotations/LI_S01_P000015_C0001_L01_A15_nnunet_spacing8_simplify8_exclude_holes.json'\n",
      ".\n",
      "| Copied '/data/pathology/projects/pathology-lung-TIL/data/self_supervision/batch1_3_xmls/spacing8_simplify8_exclude_holes/LI_S01_P000002_C0001_L01_A15_nnunet_spacing8_simplify8_exclude_holes.json' | To: '/home/user/annotations/LI_S01_P000002_C0001_L01_A15_nnunet_spacing8_simplify8_exclude_holes.json'\n",
      ".\n",
      "| Copied '/data/pathology/projects/pathology-lung-TIL/data/self_supervision/batch1_3_xmls/spacing8_simplify8_exclude_holes/LI_S01_P000021_C0001_L01_A15_nnunet_spacing8_simplify8_exclude_holes.json' | To: '/home/user/annotations/LI_S01_P000021_C0001_L01_A15_nnunet_spacing8_simplify8_exclude_holes.json'\n",
      ".\n",
      "| Copied '/data/pathology/projects/pathology-lung-TIL/data/self_supervision/batch1_3_xmls/spacing8_simplify8_exclude_holes/LI_S01_P000019_C0001_L01_A15_nnunet_spacing8_simplify8_exclude_holes.json' | To: '/home/user/annotations/LI_S01_P000019_C0001_L01_A15_nnunet_spacing8_simplify8_exclude_holes.json'\n",
      ".\n",
      "| Copied '/data/pathology/projects/pathology-lung-TIL/data/self_supervision/batch1_3_xmls/spacing8_simplify8_exclude_holes/EX_S09_P000166_C0001_B101_V03_T01_nnunet_spacing8_simplify8_exclude_holes.json' | To: '/home/user/annotations/EX_S09_P000166_C0001_B101_V03_T01_nnunet_spacing8_simplify8_exclude_holes.json'\n",
      ".\n",
      "| Copied '/data/pathology/projects/pathology-lung-TIL/data/self_supervision/batch1_3_xmls/spacing8_simplify8_exclude_holes/LI_S01_P000047_C0001_L01_A15_nnunet_spacing8_simplify8_exclude_holes.json' | To: '/home/user/annotations/LI_S01_P000047_C0001_L01_A15_nnunet_spacing8_simplify8_exclude_holes.json'\n",
      ".\n",
      "| Copied '/data/pathology/projects/pathology-lung-TIL/data/self_supervision/batch1_3_xmls/spacing8_simplify8_exclude_holes/11445_nnunet_spacing8_simplify8_exclude_holes.json' | To: '/home/user/annotations/11445_nnunet_spacing8_simplify8_exclude_holes.json'\n",
      ".\n",
      "| Copied '/data/pathology/projects/pathology-lung-TIL/data/self_supervision/batch1_3_xmls/spacing8_simplify8_exclude_holes/LI_S01_P000036_C0001_L01_A15_nnunet_spacing8_simplify8_exclude_holes.json' | To: '/home/user/annotations/LI_S01_P000036_C0001_L01_A15_nnunet_spacing8_simplify8_exclude_holes.json'\n",
      ".\n",
      "| Copied '/data/pathology/projects/pathology-lung-TIL/data/self_supervision/batch1_3_xmls/spacing8_simplify8_exclude_holes/EX_S09_P000155_C0001_B101_V01_T01_nnunet_spacing8_simplify8_exclude_holes.json' | To: '/home/user/annotations/EX_S09_P000155_C0001_B101_V01_T01_nnunet_spacing8_simplify8_exclude_holes.json'\n",
      ".\n",
      "| Copied '/data/pathology/projects/pathology-lung-TIL/data/self_supervision/batch1_3_xmls/spacing8_simplify8_exclude_holes/EX_S09_P000101_C0001_B101_V02_T01_nnunet_spacing8_simplify8_exclude_holes.json' | To: '/home/user/annotations/EX_S09_P000101_C0001_B101_V02_T01_nnunet_spacing8_simplify8_exclude_holes.json'\n",
      ".\n",
      "| Copied '/data/pathology/projects/pathology-lung-TIL/data/self_supervision/batch1_3_xmls/spacing8_simplify8_exclude_holes/LI_S01_P000059_C0001_L01_A15_nnunet_spacing8_simplify8_exclude_holes.json' | To: '/home/user/annotations/LI_S01_P000059_C0001_L01_A15_nnunet_spacing8_simplify8_exclude_holes.json'\n",
      ".\n",
      "| Copied '/data/pathology/projects/pathology-lung-TIL/data/self_supervision/batch1_3_xmls/spacing8_simplify8_exclude_holes/LI_S01_P000040_C0001_L01_A15_nnunet_spacing8_simplify8_exclude_holes.json' | To: '/home/user/annotations/LI_S01_P000040_C0001_L01_A15_nnunet_spacing8_simplify8_exclude_holes.json'\n",
      ".\n",
      "| Copied '/data/pathology/projects/pathology-lung-TIL/data/self_supervision/batch1_3_xmls/spacing8_simplify8_exclude_holes/EX_S09_P000139_C0001_B101_V04_T01_nnunet_spacing8_simplify8_exclude_holes.json' | To: '/home/user/annotations/EX_S09_P000139_C0001_B101_V04_T01_nnunet_spacing8_simplify8_exclude_holes.json'\n",
      ".\n",
      "| Copied '/data/pathology/projects/pathology-lung-TIL/data/self_supervision/batch1_3_xmls/spacing8_simplify8_exclude_holes/LI_S01_P000018_C0001_L01_A15_nnunet_spacing8_simplify8_exclude_holes.json' | To: '/home/user/annotations/LI_S01_P000018_C0001_L01_A15_nnunet_spacing8_simplify8_exclude_holes.json'\n",
      ".\n",
      "\t[Creating VAL batch iterator]\n",
      "[Returning batch iterators]\n"
     ]
    }
   ],
   "source": [
    "# tr_dl, val_dl = nnunet_trainer.get_dataloaders(subset=True, cpus=6)\n",
    "tr_dl, val_dl = nnunet_trainer.get_dataloaders(cpus=10)"
   ]
  },
  {
   "cell_type": "code",
   "execution_count": null,
   "id": "65703b0e-b8ee-458e-a787-e82fdcffe481",
   "metadata": {},
   "outputs": [],
   "source": [
    "1/0"
   ]
  },
  {
   "cell_type": "code",
   "execution_count": null,
   "id": "37f7f605-3fd0-4426-a64c-ab21631bba71",
   "metadata": {},
   "outputs": [],
   "source": []
  },
  {
   "cell_type": "code",
   "execution_count": null,
   "id": "b37415d0-0f88-404b-93da-28afd7528410",
   "metadata": {},
   "outputs": [],
   "source": []
  },
  {
   "cell_type": "code",
   "execution_count": 1,
   "id": "37589fe5-af7d-46b0-b947-5309ccc85ec4",
   "metadata": {},
   "outputs": [
    {
     "ename": "NameError",
     "evalue": "name 'tr_dl' is not defined",
     "output_type": "error",
     "traceback": [
      "\u001b[0;31m---------------------------------------------------------------------------\u001b[0m",
      "\u001b[0;31mNameError\u001b[0m                                 Traceback (most recent call last)",
      "Input \u001b[0;32mIn [1]\u001b[0m, in \u001b[0;36m<cell line: 1>\u001b[0;34m()\u001b[0m\n\u001b[0;32m----> 1\u001b[0m \u001b[38;5;28mnext\u001b[39m(\u001b[43mtr_dl\u001b[49m)\n",
      "\u001b[0;31mNameError\u001b[0m: name 'tr_dl' is not defined"
     ]
    }
   ],
   "source": [
    "next(tr_dl)"
   ]
  },
  {
   "cell_type": "code",
   "execution_count": null,
   "id": "ab22d074-168f-4fb4-8a0b-b697e2c83e41",
   "metadata": {},
   "outputs": [],
   "source": []
  },
  {
   "cell_type": "code",
   "execution_count": null,
   "id": "51c3cb86-f995-42d2-a97e-a40b8bf90508",
   "metadata": {},
   "outputs": [],
   "source": []
  },
  {
   "cell_type": "code",
   "execution_count": null,
   "id": "fb67b6f4-5b54-450d-8ce1-bedc6a83a5f3",
   "metadata": {},
   "outputs": [],
   "source": []
  },
  {
   "cell_type": "code",
   "execution_count": null,
   "id": "53260e42-f35a-4b7e-abcc-6c07f6e8683c",
   "metadata": {},
   "outputs": [],
   "source": []
  },
  {
   "cell_type": "code",
   "execution_count": null,
   "id": "4601a517-efd1-421f-9dd1-484e05816afa",
   "metadata": {},
   "outputs": [],
   "source": [
    "1/0"
   ]
  },
  {
   "cell_type": "code",
   "execution_count": null,
   "id": "470d7c65-ac48-4e2c-a996-032ea223a5e4",
   "metadata": {},
   "outputs": [],
   "source": [
    "tr_dl.stop()"
   ]
  },
  {
   "cell_type": "code",
   "execution_count": null,
   "id": "abdb84db-9cba-4770-8a76-8f3248776366",
   "metadata": {},
   "outputs": [],
   "source": [
    "val_dl.stop()"
   ]
  },
  {
   "cell_type": "code",
   "execution_count": null,
   "id": "76eec8b5-99db-46d1-b64c-287493e9e866",
   "metadata": {},
   "outputs": [],
   "source": []
  }
 ],
 "metadata": {
  "kernelspec": {
   "display_name": "Python 3 (ipykernel)",
   "language": "python",
   "name": "python3"
  },
  "language_info": {
   "codemirror_mode": {
    "name": "ipython",
    "version": 3
   },
   "file_extension": ".py",
   "mimetype": "text/x-python",
   "name": "python",
   "nbconvert_exporter": "python",
   "pygments_lexer": "ipython3",
   "version": "3.9.13"
  }
 },
 "nbformat": 4,
 "nbformat_minor": 5
}
